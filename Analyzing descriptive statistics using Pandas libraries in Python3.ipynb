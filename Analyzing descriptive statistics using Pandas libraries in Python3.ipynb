{
 "cells": [
  {
   "cell_type": "code",
   "execution_count": 1,
   "metadata": {
    "collapsed": true
   },
   "outputs": [],
   "source": [
    "import pandas as pd\n",
    "pd.set_option('display.max_rows',1000)"
   ]
  },
  {
   "cell_type": "markdown",
   "metadata": {},
   "source": [
    "### Advantages using Pandas statistical functions Missing values are removed prior to computation"
   ]
  },
  {
   "cell_type": "code",
   "execution_count": 4,
   "metadata": {
    "collapsed": true
   },
   "outputs": [],
   "source": [
    "dfRate= pd.read_csv(\"C:\\\\Users\\\\HP\\\\Downloads\\\\World2017literacyRate.csv\",encoding='Latin1')"
   ]
  },
  {
   "cell_type": "code",
   "execution_count": 5,
   "metadata": {
    "collapsed": true
   },
   "outputs": [],
   "source": [
    "dfMortality=pd.read_csv(\"C:\\\\Users\\\\HP\\\\Downloads\\\\InfantmortalityGNI.csv\",encoding= 'Latin1')"
   ]
  },
  {
   "cell_type": "code",
   "execution_count": 6,
   "metadata": {
    "collapsed": false
   },
   "outputs": [
    {
     "data": {
      "text/html": [
       "<div>\n",
       "<table border=\"1\" class=\"dataframe\">\n",
       "  <thead>\n",
       "    <tr style=\"text-align: right;\">\n",
       "      <th></th>\n",
       "      <th>Country</th>\n",
       "      <th>Literacy_Rate</th>\n",
       "    </tr>\n",
       "  </thead>\n",
       "  <tbody>\n",
       "    <tr>\n",
       "      <th>0</th>\n",
       "      <td>Albania</td>\n",
       "      <td>96</td>\n",
       "    </tr>\n",
       "    <tr>\n",
       "      <th>1</th>\n",
       "      <td>Algeria</td>\n",
       "      <td>73</td>\n",
       "    </tr>\n",
       "    <tr>\n",
       "      <th>2</th>\n",
       "      <td>Angola</td>\n",
       "      <td>70</td>\n",
       "    </tr>\n",
       "    <tr>\n",
       "      <th>3</th>\n",
       "      <td>Antigua and Barbuda</td>\n",
       "      <td>99</td>\n",
       "    </tr>\n",
       "    <tr>\n",
       "      <th>4</th>\n",
       "      <td>Argentina</td>\n",
       "      <td>98</td>\n",
       "    </tr>\n",
       "  </tbody>\n",
       "</table>\n",
       "</div>"
      ],
      "text/plain": [
       "               Country  Literacy_Rate\n",
       "0              Albania             96\n",
       "1              Algeria             73\n",
       "2               Angola             70\n",
       "3  Antigua and Barbuda             99\n",
       "4            Argentina             98"
      ]
     },
     "execution_count": 6,
     "metadata": {},
     "output_type": "execute_result"
    }
   ],
   "source": [
    "dfRate.head()"
   ]
  },
  {
   "cell_type": "code",
   "execution_count": 8,
   "metadata": {
    "collapsed": false
   },
   "outputs": [
    {
     "data": {
      "text/html": [
       "<div>\n",
       "<table border=\"1\" class=\"dataframe\">\n",
       "  <thead>\n",
       "    <tr style=\"text-align: right;\">\n",
       "      <th></th>\n",
       "      <th>Countries</th>\n",
       "      <th>GNI_PER_CAPITA</th>\n",
       "      <th>Infant_Mortality</th>\n",
       "    </tr>\n",
       "  </thead>\n",
       "  <tbody>\n",
       "    <tr>\n",
       "      <th>0</th>\n",
       "      <td>Afghanistan</td>\n",
       "      <td>590.0</td>\n",
       "      <td>73.2</td>\n",
       "    </tr>\n",
       "    <tr>\n",
       "      <th>1</th>\n",
       "      <td>Albania</td>\n",
       "      <td>4290.0</td>\n",
       "      <td>14.0</td>\n",
       "    </tr>\n",
       "    <tr>\n",
       "      <th>2</th>\n",
       "      <td>Algeria</td>\n",
       "      <td>4800.0</td>\n",
       "      <td>25.5</td>\n",
       "    </tr>\n",
       "    <tr>\n",
       "      <th>3</th>\n",
       "      <td>Andorra</td>\n",
       "      <td>NaN</td>\n",
       "      <td>2.8</td>\n",
       "    </tr>\n",
       "    <tr>\n",
       "      <th>4</th>\n",
       "      <td>Angola</td>\n",
       "      <td>4040.0</td>\n",
       "      <td>86.5</td>\n",
       "    </tr>\n",
       "  </tbody>\n",
       "</table>\n",
       "</div>"
      ],
      "text/plain": [
       "     Countries  GNI_PER_CAPITA  Infant_Mortality\n",
       "0  Afghanistan           590.0              73.2\n",
       "1      Albania          4290.0              14.0\n",
       "2      Algeria          4800.0              25.5\n",
       "3      Andorra             NaN               2.8\n",
       "4       Angola          4040.0              86.5"
      ]
     },
     "execution_count": 8,
     "metadata": {},
     "output_type": "execute_result"
    }
   ],
   "source": [
    "dfMortality.head()"
   ]
  },
  {
   "cell_type": "code",
   "execution_count": 9,
   "metadata": {
    "collapsed": false
   },
   "outputs": [
    {
     "data": {
      "text/plain": [
       "13834.108108108108"
      ]
     },
     "execution_count": 9,
     "metadata": {},
     "output_type": "execute_result"
    }
   ],
   "source": [
    "dfMortality['GNI_PER_CAPITA'].mean()"
   ]
  },
  {
   "cell_type": "code",
   "execution_count": 10,
   "metadata": {
    "collapsed": false
   },
   "outputs": [
    {
     "data": {
      "text/plain": [
       "5540.0"
      ]
     },
     "execution_count": 10,
     "metadata": {},
     "output_type": "execute_result"
    }
   ],
   "source": [
    "dfMortality['GNI_PER_CAPITA'].median()"
   ]
  },
  {
   "cell_type": "code",
   "execution_count": 11,
   "metadata": {
    "collapsed": false
   },
   "outputs": [
    {
     "data": {
      "text/plain": [
       "19036.34080056369"
      ]
     },
     "execution_count": 11,
     "metadata": {},
     "output_type": "execute_result"
    }
   ],
   "source": [
    "dfMortality['GNI_PER_CAPITA'].std()"
   ]
  },
  {
   "cell_type": "markdown",
   "metadata": {},
   "source": [
    "## Using Statistical Functions availabe in Pandas library"
   ]
  },
  {
   "cell_type": "code",
   "execution_count": 13,
   "metadata": {
    "collapsed": false
   },
   "outputs": [
    {
     "data": {
      "text/plain": [
       "count  Literacy_Rate    147.000000\n",
       "mean   Literacy_Rate     82.469388\n",
       "std    Literacy_Rate     18.555473\n",
       "min    Literacy_Rate     29.000000\n",
       "25%    Literacy_Rate     71.000000\n",
       "50%    Literacy_Rate     90.000000\n",
       "75%    Literacy_Rate     98.000000\n",
       "max    Literacy_Rate    100.000000\n",
       "dtype: float64"
      ]
     },
     "execution_count": 13,
     "metadata": {},
     "output_type": "execute_result"
    }
   ],
   "source": [
    "dfRate.describe().stack()"
   ]
  },
  {
   "cell_type": "code",
   "execution_count": 14,
   "metadata": {
    "collapsed": false
   },
   "outputs": [
    {
     "data": {
      "text/plain": [
       "Literacy_Rate  count    147.000000\n",
       "               mean      82.469388\n",
       "               std       18.555473\n",
       "               min       29.000000\n",
       "               25%       71.000000\n",
       "               50%       90.000000\n",
       "               75%       98.000000\n",
       "               max      100.000000\n",
       "dtype: float64"
      ]
     },
     "execution_count": 14,
     "metadata": {},
     "output_type": "execute_result"
    }
   ],
   "source": [
    "dfRate.describe().unstack()"
   ]
  },
  {
   "cell_type": "code",
   "execution_count": 15,
   "metadata": {
    "collapsed": false
   },
   "outputs": [
    {
     "data": {
      "text/html": [
       "<div>\n",
       "<table border=\"1\" class=\"dataframe\">\n",
       "  <thead>\n",
       "    <tr style=\"text-align: right;\">\n",
       "      <th></th>\n",
       "      <th>Literacy_Rate</th>\n",
       "    </tr>\n",
       "  </thead>\n",
       "  <tbody>\n",
       "    <tr>\n",
       "      <th>count</th>\n",
       "      <td>147.000000</td>\n",
       "    </tr>\n",
       "    <tr>\n",
       "      <th>mean</th>\n",
       "      <td>82.469388</td>\n",
       "    </tr>\n",
       "    <tr>\n",
       "      <th>std</th>\n",
       "      <td>18.555473</td>\n",
       "    </tr>\n",
       "    <tr>\n",
       "      <th>min</th>\n",
       "      <td>29.000000</td>\n",
       "    </tr>\n",
       "    <tr>\n",
       "      <th>25%</th>\n",
       "      <td>71.000000</td>\n",
       "    </tr>\n",
       "    <tr>\n",
       "      <th>50%</th>\n",
       "      <td>90.000000</td>\n",
       "    </tr>\n",
       "    <tr>\n",
       "      <th>75%</th>\n",
       "      <td>98.000000</td>\n",
       "    </tr>\n",
       "    <tr>\n",
       "      <th>max</th>\n",
       "      <td>100.000000</td>\n",
       "    </tr>\n",
       "  </tbody>\n",
       "</table>\n",
       "</div>"
      ],
      "text/plain": [
       "       Literacy_Rate\n",
       "count     147.000000\n",
       "mean       82.469388\n",
       "std        18.555473\n",
       "min        29.000000\n",
       "25%        71.000000\n",
       "50%        90.000000\n",
       "75%        98.000000\n",
       "max       100.000000"
      ]
     },
     "execution_count": 15,
     "metadata": {},
     "output_type": "execute_result"
    }
   ],
   "source": [
    "dfRate.describe()"
   ]
  },
  {
   "cell_type": "code",
   "execution_count": 21,
   "metadata": {
    "collapsed": false
   },
   "outputs": [
    {
     "data": {
      "text/html": [
       "<div>\n",
       "<table border=\"1\" class=\"dataframe\">\n",
       "  <thead>\n",
       "    <tr>\n",
       "      <th></th>\n",
       "      <th colspan=\"8\" halign=\"left\">GNI_PER_CAPITA</th>\n",
       "    </tr>\n",
       "    <tr>\n",
       "      <th></th>\n",
       "      <th>count</th>\n",
       "      <th>mean</th>\n",
       "      <th>std</th>\n",
       "      <th>min</th>\n",
       "      <th>25%</th>\n",
       "      <th>50%</th>\n",
       "      <th>75%</th>\n",
       "      <th>max</th>\n",
       "    </tr>\n",
       "    <tr>\n",
       "      <th>Infant_Mortality</th>\n",
       "      <th></th>\n",
       "      <th></th>\n",
       "      <th></th>\n",
       "      <th></th>\n",
       "      <th></th>\n",
       "      <th></th>\n",
       "      <th></th>\n",
       "      <th></th>\n",
       "    </tr>\n",
       "  </thead>\n",
       "  <tbody>\n",
       "    <tr>\n",
       "      <th>2.2</th>\n",
       "      <td>1.0</td>\n",
       "      <td>50260.000000</td>\n",
       "      <td>NaN</td>\n",
       "      <td>50260.0</td>\n",
       "      <td>50260.0</td>\n",
       "      <td>50260.0</td>\n",
       "      <td>50260.0</td>\n",
       "      <td>50260.0</td>\n",
       "    </tr>\n",
       "    <tr>\n",
       "      <th>2.4</th>\n",
       "      <td>2.0</td>\n",
       "      <td>34390.000000</td>\n",
       "      <td>17168.552647</td>\n",
       "      <td>22250.0</td>\n",
       "      <td>28320.0</td>\n",
       "      <td>34390.0</td>\n",
       "      <td>40460.0</td>\n",
       "      <td>46530.0</td>\n",
       "    </tr>\n",
       "    <tr>\n",
       "      <th>2.5</th>\n",
       "      <td>1.0</td>\n",
       "      <td>73530.000000</td>\n",
       "      <td>NaN</td>\n",
       "      <td>73530.0</td>\n",
       "      <td>73530.0</td>\n",
       "      <td>73530.0</td>\n",
       "      <td>73530.0</td>\n",
       "      <td>73530.0</td>\n",
       "    </tr>\n",
       "    <tr>\n",
       "      <th>2.7</th>\n",
       "      <td>3.0</td>\n",
       "      <td>57470.000000</td>\n",
       "      <td>34270.691560</td>\n",
       "      <td>25810.0</td>\n",
       "      <td>39275.0</td>\n",
       "      <td>52740.0</td>\n",
       "      <td>73300.0</td>\n",
       "      <td>93860.0</td>\n",
       "    </tr>\n",
       "    <tr>\n",
       "      <th>2.8</th>\n",
       "      <td>0.0</td>\n",
       "      <td>NaN</td>\n",
       "      <td>NaN</td>\n",
       "      <td>NaN</td>\n",
       "      <td>NaN</td>\n",
       "      <td>NaN</td>\n",
       "      <td>NaN</td>\n",
       "      <td>NaN</td>\n",
       "    </tr>\n",
       "    <tr>\n",
       "      <th>2.9</th>\n",
       "      <td>1.0</td>\n",
       "      <td>57760.000000</td>\n",
       "      <td>NaN</td>\n",
       "      <td>57760.0</td>\n",
       "      <td>57760.0</td>\n",
       "      <td>57760.0</td>\n",
       "      <td>57760.0</td>\n",
       "      <td>57760.0</td>\n",
       "    </tr>\n",
       "    <tr>\n",
       "      <th>3.0</th>\n",
       "      <td>1.0</td>\n",
       "      <td>38780.000000</td>\n",
       "      <td>NaN</td>\n",
       "      <td>38780.0</td>\n",
       "      <td>38780.0</td>\n",
       "      <td>38780.0</td>\n",
       "      <td>38780.0</td>\n",
       "      <td>38780.0</td>\n",
       "    </tr>\n",
       "    <tr>\n",
       "      <th>3.1</th>\n",
       "      <td>1.0</td>\n",
       "      <td>18300.000000</td>\n",
       "      <td>NaN</td>\n",
       "      <td>18300.0</td>\n",
       "      <td>18300.0</td>\n",
       "      <td>18300.0</td>\n",
       "      <td>18300.0</td>\n",
       "      <td>18300.0</td>\n",
       "    </tr>\n",
       "    <tr>\n",
       "      <th>3.2</th>\n",
       "      <td>1.0</td>\n",
       "      <td>18130.000000</td>\n",
       "      <td>NaN</td>\n",
       "      <td>18130.0</td>\n",
       "      <td>18130.0</td>\n",
       "      <td>18130.0</td>\n",
       "      <td>18130.0</td>\n",
       "      <td>18130.0</td>\n",
       "    </tr>\n",
       "    <tr>\n",
       "      <th>3.4</th>\n",
       "      <td>2.0</td>\n",
       "      <td>30695.000000</td>\n",
       "      <td>3217.335854</td>\n",
       "      <td>28420.0</td>\n",
       "      <td>29557.5</td>\n",
       "      <td>30695.0</td>\n",
       "      <td>31832.5</td>\n",
       "      <td>32970.0</td>\n",
       "    </tr>\n",
       "    <tr>\n",
       "      <th>3.5</th>\n",
       "      <td>2.0</td>\n",
       "      <td>23845.000000</td>\n",
       "      <td>4815.397180</td>\n",
       "      <td>20440.0</td>\n",
       "      <td>22142.5</td>\n",
       "      <td>23845.0</td>\n",
       "      <td>25547.5</td>\n",
       "      <td>27250.0</td>\n",
       "    </tr>\n",
       "    <tr>\n",
       "      <th>3.6</th>\n",
       "      <td>1.0</td>\n",
       "      <td>47610.000000</td>\n",
       "      <td>NaN</td>\n",
       "      <td>47610.0</td>\n",
       "      <td>47610.0</td>\n",
       "      <td>47610.0</td>\n",
       "      <td>47610.0</td>\n",
       "      <td>47610.0</td>\n",
       "    </tr>\n",
       "    <tr>\n",
       "      <th>3.7</th>\n",
       "      <td>1.0</td>\n",
       "      <td>51290.000000</td>\n",
       "      <td>NaN</td>\n",
       "      <td>51290.0</td>\n",
       "      <td>51290.0</td>\n",
       "      <td>51290.0</td>\n",
       "      <td>51290.0</td>\n",
       "      <td>51290.0</td>\n",
       "    </tr>\n",
       "    <tr>\n",
       "      <th>3.8</th>\n",
       "      <td>3.0</td>\n",
       "      <td>38893.333333</td>\n",
       "      <td>20177.636961</td>\n",
       "      <td>20270.0</td>\n",
       "      <td>28175.0</td>\n",
       "      <td>36080.0</td>\n",
       "      <td>48205.0</td>\n",
       "      <td>60330.0</td>\n",
       "    </tr>\n",
       "    <tr>\n",
       "      <th>3.9</th>\n",
       "      <td>3.0</td>\n",
       "      <td>45183.333333</td>\n",
       "      <td>4183.124829</td>\n",
       "      <td>40730.0</td>\n",
       "      <td>43260.0</td>\n",
       "      <td>45790.0</td>\n",
       "      <td>47410.0</td>\n",
       "      <td>49030.0</td>\n",
       "    </tr>\n",
       "    <tr>\n",
       "      <th>4.0</th>\n",
       "      <td>2.0</td>\n",
       "      <td>25530.000000</td>\n",
       "      <td>26601.357108</td>\n",
       "      <td>6720.0</td>\n",
       "      <td>16125.0</td>\n",
       "      <td>25530.0</td>\n",
       "      <td>34935.0</td>\n",
       "      <td>44340.0</td>\n",
       "    </tr>\n",
       "    <tr>\n",
       "      <th>4.1</th>\n",
       "      <td>2.0</td>\n",
       "      <td>45925.000000</td>\n",
       "      <td>54652.283118</td>\n",
       "      <td>7280.0</td>\n",
       "      <td>26602.5</td>\n",
       "      <td>45925.0</td>\n",
       "      <td>65247.5</td>\n",
       "      <td>84570.0</td>\n",
       "    </tr>\n",
       "    <tr>\n",
       "      <th>4.3</th>\n",
       "      <td>1.0</td>\n",
       "      <td>60300.000000</td>\n",
       "      <td>NaN</td>\n",
       "      <td>60300.0</td>\n",
       "      <td>60300.0</td>\n",
       "      <td>60300.0</td>\n",
       "      <td>60300.0</td>\n",
       "      <td>60300.0</td>\n",
       "    </tr>\n",
       "    <tr>\n",
       "      <th>4.4</th>\n",
       "      <td>1.0</td>\n",
       "      <td>43720.000000</td>\n",
       "      <td>NaN</td>\n",
       "      <td>43720.0</td>\n",
       "      <td>43720.0</td>\n",
       "      <td>43720.0</td>\n",
       "      <td>43720.0</td>\n",
       "      <td>43720.0</td>\n",
       "    </tr>\n",
       "    <tr>\n",
       "      <th>4.8</th>\n",
       "      <td>1.0</td>\n",
       "      <td>12810.000000</td>\n",
       "      <td>NaN</td>\n",
       "      <td>12810.0</td>\n",
       "      <td>12810.0</td>\n",
       "      <td>12810.0</td>\n",
       "      <td>12810.0</td>\n",
       "      <td>12810.0</td>\n",
       "    </tr>\n",
       "    <tr>\n",
       "      <th>4.9</th>\n",
       "      <td>1.0</td>\n",
       "      <td>13340.000000</td>\n",
       "      <td>NaN</td>\n",
       "      <td>13340.0</td>\n",
       "      <td>13340.0</td>\n",
       "      <td>13340.0</td>\n",
       "      <td>13340.0</td>\n",
       "      <td>13340.0</td>\n",
       "    </tr>\n",
       "    <tr>\n",
       "      <th>5.0</th>\n",
       "      <td>1.0</td>\n",
       "      <td>14970.000000</td>\n",
       "      <td>NaN</td>\n",
       "      <td>14970.0</td>\n",
       "      <td>14970.0</td>\n",
       "      <td>14970.0</td>\n",
       "      <td>14970.0</td>\n",
       "      <td>14970.0</td>\n",
       "    </tr>\n",
       "    <tr>\n",
       "      <th>5.1</th>\n",
       "      <td>2.0</td>\n",
       "      <td>31185.000000</td>\n",
       "      <td>22719.340880</td>\n",
       "      <td>15120.0</td>\n",
       "      <td>23152.5</td>\n",
       "      <td>31185.0</td>\n",
       "      <td>39217.5</td>\n",
       "      <td>47250.0</td>\n",
       "    </tr>\n",
       "    <tr>\n",
       "      <th>5.4</th>\n",
       "      <td>1.0</td>\n",
       "      <td>12960.000000</td>\n",
       "      <td>NaN</td>\n",
       "      <td>12960.0</td>\n",
       "      <td>12960.0</td>\n",
       "      <td>12960.0</td>\n",
       "      <td>12960.0</td>\n",
       "      <td>12960.0</td>\n",
       "    </tr>\n",
       "    <tr>\n",
       "      <th>5.6</th>\n",
       "      <td>1.0</td>\n",
       "      <td>40250.000000</td>\n",
       "      <td>NaN</td>\n",
       "      <td>40250.0</td>\n",
       "      <td>40250.0</td>\n",
       "      <td>40250.0</td>\n",
       "      <td>40250.0</td>\n",
       "      <td>40250.0</td>\n",
       "    </tr>\n",
       "    <tr>\n",
       "      <th>6.0</th>\n",
       "      <td>1.0</td>\n",
       "      <td>17560.000000</td>\n",
       "      <td>NaN</td>\n",
       "      <td>17560.0</td>\n",
       "      <td>17560.0</td>\n",
       "      <td>17560.0</td>\n",
       "      <td>17560.0</td>\n",
       "      <td>17560.0</td>\n",
       "    </tr>\n",
       "    <tr>\n",
       "      <th>6.1</th>\n",
       "      <td>1.0</td>\n",
       "      <td>5050.000000</td>\n",
       "      <td>NaN</td>\n",
       "      <td>5050.0</td>\n",
       "      <td>5050.0</td>\n",
       "      <td>5050.0</td>\n",
       "      <td>5050.0</td>\n",
       "      <td>5050.0</td>\n",
       "    </tr>\n",
       "    <tr>\n",
       "      <th>6.2</th>\n",
       "      <td>1.0</td>\n",
       "      <td>5540.000000</td>\n",
       "      <td>NaN</td>\n",
       "      <td>5540.0</td>\n",
       "      <td>5540.0</td>\n",
       "      <td>5540.0</td>\n",
       "      <td>5540.0</td>\n",
       "      <td>5540.0</td>\n",
       "    </tr>\n",
       "    <tr>\n",
       "      <th>6.6</th>\n",
       "      <td>1.0</td>\n",
       "      <td>56250.000000</td>\n",
       "      <td>NaN</td>\n",
       "      <td>56250.0</td>\n",
       "      <td>56250.0</td>\n",
       "      <td>56250.0</td>\n",
       "      <td>56250.0</td>\n",
       "      <td>56250.0</td>\n",
       "    </tr>\n",
       "    <tr>\n",
       "      <th>6.9</th>\n",
       "      <td>1.0</td>\n",
       "      <td>24780.000000</td>\n",
       "      <td>NaN</td>\n",
       "      <td>24780.0</td>\n",
       "      <td>24780.0</td>\n",
       "      <td>24780.0</td>\n",
       "      <td>24780.0</td>\n",
       "      <td>24780.0</td>\n",
       "    </tr>\n",
       "    <tr>\n",
       "      <th>7.7</th>\n",
       "      <td>1.0</td>\n",
       "      <td>22660.000000</td>\n",
       "      <td>NaN</td>\n",
       "      <td>22660.0</td>\n",
       "      <td>22660.0</td>\n",
       "      <td>22660.0</td>\n",
       "      <td>22660.0</td>\n",
       "      <td>22660.0</td>\n",
       "    </tr>\n",
       "    <tr>\n",
       "      <th>7.8</th>\n",
       "      <td>1.0</td>\n",
       "      <td>42910.000000</td>\n",
       "      <td>NaN</td>\n",
       "      <td>42910.0</td>\n",
       "      <td>42910.0</td>\n",
       "      <td>42910.0</td>\n",
       "      <td>42910.0</td>\n",
       "      <td>42910.0</td>\n",
       "    </tr>\n",
       "    <tr>\n",
       "      <th>8.0</th>\n",
       "      <td>1.0</td>\n",
       "      <td>11660.000000</td>\n",
       "      <td>NaN</td>\n",
       "      <td>11660.0</td>\n",
       "      <td>11660.0</td>\n",
       "      <td>11660.0</td>\n",
       "      <td>11660.0</td>\n",
       "      <td>11660.0</td>\n",
       "    </tr>\n",
       "    <tr>\n",
       "      <th>8.2</th>\n",
       "      <td>2.0</td>\n",
       "      <td>8965.000000</td>\n",
       "      <td>2100.107140</td>\n",
       "      <td>7480.0</td>\n",
       "      <td>8222.5</td>\n",
       "      <td>8965.0</td>\n",
       "      <td>9707.5</td>\n",
       "      <td>10450.0</td>\n",
       "    </tr>\n",
       "    <tr>\n",
       "      <th>8.4</th>\n",
       "      <td>2.0</td>\n",
       "      <td>11195.000000</td>\n",
       "      <td>4447.701654</td>\n",
       "      <td>8050.0</td>\n",
       "      <td>9622.5</td>\n",
       "      <td>11195.0</td>\n",
       "      <td>12767.5</td>\n",
       "      <td>14340.0</td>\n",
       "    </tr>\n",
       "    <tr>\n",
       "      <th>8.6</th>\n",
       "      <td>1.0</td>\n",
       "      <td>75660.000000</td>\n",
       "      <td>NaN</td>\n",
       "      <td>75660.0</td>\n",
       "      <td>75660.0</td>\n",
       "      <td>75660.0</td>\n",
       "      <td>75660.0</td>\n",
       "      <td>75660.0</td>\n",
       "    </tr>\n",
       "    <tr>\n",
       "      <th>8.7</th>\n",
       "      <td>2.0</td>\n",
       "      <td>26800.000000</td>\n",
       "      <td>19728.279195</td>\n",
       "      <td>12850.0</td>\n",
       "      <td>19825.0</td>\n",
       "      <td>26800.0</td>\n",
       "      <td>33775.0</td>\n",
       "      <td>40750.0</td>\n",
       "    </tr>\n",
       "    <tr>\n",
       "      <th>9.0</th>\n",
       "      <td>1.0</td>\n",
       "      <td>9880.000000</td>\n",
       "      <td>NaN</td>\n",
       "      <td>9880.0</td>\n",
       "      <td>9880.0</td>\n",
       "      <td>9880.0</td>\n",
       "      <td>9880.0</td>\n",
       "      <td>9880.0</td>\n",
       "    </tr>\n",
       "    <tr>\n",
       "      <th>9.1</th>\n",
       "      <td>1.0</td>\n",
       "      <td>10570.000000</td>\n",
       "      <td>NaN</td>\n",
       "      <td>10570.0</td>\n",
       "      <td>10570.0</td>\n",
       "      <td>10570.0</td>\n",
       "      <td>10570.0</td>\n",
       "      <td>10570.0</td>\n",
       "    </tr>\n",
       "    <tr>\n",
       "      <th>9.2</th>\n",
       "      <td>1.0</td>\n",
       "      <td>9530.000000</td>\n",
       "      <td>NaN</td>\n",
       "      <td>9530.0</td>\n",
       "      <td>9530.0</td>\n",
       "      <td>9530.0</td>\n",
       "      <td>9530.0</td>\n",
       "      <td>9530.0</td>\n",
       "    </tr>\n",
       "    <tr>\n",
       "      <th>9.3</th>\n",
       "      <td>1.0</td>\n",
       "      <td>15830.000000</td>\n",
       "      <td>NaN</td>\n",
       "      <td>15830.0</td>\n",
       "      <td>15830.0</td>\n",
       "      <td>15830.0</td>\n",
       "      <td>15830.0</td>\n",
       "      <td>15830.0</td>\n",
       "    </tr>\n",
       "    <tr>\n",
       "      <th>9.4</th>\n",
       "      <td>1.0</td>\n",
       "      <td>2650.000000</td>\n",
       "      <td>NaN</td>\n",
       "      <td>2650.0</td>\n",
       "      <td>2650.0</td>\n",
       "      <td>2650.0</td>\n",
       "      <td>2650.0</td>\n",
       "      <td>2650.0</td>\n",
       "    </tr>\n",
       "    <tr>\n",
       "      <th>9.6</th>\n",
       "      <td>1.0</td>\n",
       "      <td>3750.000000</td>\n",
       "      <td>NaN</td>\n",
       "      <td>3750.0</td>\n",
       "      <td>3750.0</td>\n",
       "      <td>3750.0</td>\n",
       "      <td>3750.0</td>\n",
       "      <td>3750.0</td>\n",
       "    </tr>\n",
       "    <tr>\n",
       "      <th>9.7</th>\n",
       "      <td>1.0</td>\n",
       "      <td>15450.000000</td>\n",
       "      <td>NaN</td>\n",
       "      <td>15450.0</td>\n",
       "      <td>15450.0</td>\n",
       "      <td>15450.0</td>\n",
       "      <td>15450.0</td>\n",
       "      <td>15450.0</td>\n",
       "    </tr>\n",
       "    <tr>\n",
       "      <th>10.0</th>\n",
       "      <td>1.0</td>\n",
       "      <td>38590.000000</td>\n",
       "      <td>NaN</td>\n",
       "      <td>38590.0</td>\n",
       "      <td>38590.0</td>\n",
       "      <td>38590.0</td>\n",
       "      <td>38590.0</td>\n",
       "      <td>38590.0</td>\n",
       "    </tr>\n",
       "    <tr>\n",
       "      <th>10.7</th>\n",
       "      <td>1.0</td>\n",
       "      <td>7950.000000</td>\n",
       "      <td>NaN</td>\n",
       "      <td>7950.0</td>\n",
       "      <td>7950.0</td>\n",
       "      <td>7950.0</td>\n",
       "      <td>7950.0</td>\n",
       "      <td>7950.0</td>\n",
       "    </tr>\n",
       "    <tr>\n",
       "      <th>10.9</th>\n",
       "      <td>1.0</td>\n",
       "      <td>18080.000000</td>\n",
       "      <td>NaN</td>\n",
       "      <td>18080.0</td>\n",
       "      <td>18080.0</td>\n",
       "      <td>18080.0</td>\n",
       "      <td>18080.0</td>\n",
       "      <td>18080.0</td>\n",
       "    </tr>\n",
       "    <tr>\n",
       "      <th>11.0</th>\n",
       "      <td>1.0</td>\n",
       "      <td>26130.000000</td>\n",
       "      <td>NaN</td>\n",
       "      <td>26130.0</td>\n",
       "      <td>26130.0</td>\n",
       "      <td>26130.0</td>\n",
       "      <td>26130.0</td>\n",
       "      <td>26130.0</td>\n",
       "    </tr>\n",
       "    <tr>\n",
       "      <th>11.4</th>\n",
       "      <td>1.0</td>\n",
       "      <td>4120.000000</td>\n",
       "      <td>NaN</td>\n",
       "      <td>4120.0</td>\n",
       "      <td>4120.0</td>\n",
       "      <td>4120.0</td>\n",
       "      <td>4120.0</td>\n",
       "      <td>4120.0</td>\n",
       "    </tr>\n",
       "    <tr>\n",
       "      <th>11.6</th>\n",
       "      <td>1.0</td>\n",
       "      <td>12430.000000</td>\n",
       "      <td>NaN</td>\n",
       "      <td>12430.0</td>\n",
       "      <td>12430.0</td>\n",
       "      <td>12430.0</td>\n",
       "      <td>12430.0</td>\n",
       "      <td>12430.0</td>\n",
       "    </tr>\n",
       "    <tr>\n",
       "      <th>12.0</th>\n",
       "      <td>1.0</td>\n",
       "      <td>5100.000000</td>\n",
       "      <td>NaN</td>\n",
       "      <td>5100.0</td>\n",
       "      <td>5100.0</td>\n",
       "      <td>5100.0</td>\n",
       "      <td>5100.0</td>\n",
       "      <td>5100.0</td>\n",
       "    </tr>\n",
       "    <tr>\n",
       "      <th>12.6</th>\n",
       "      <td>3.0</td>\n",
       "      <td>10803.333333</td>\n",
       "      <td>4838.608615</td>\n",
       "      <td>5690.0</td>\n",
       "      <td>8550.0</td>\n",
       "      <td>11410.0</td>\n",
       "      <td>13360.0</td>\n",
       "      <td>15310.0</td>\n",
       "    </tr>\n",
       "    <tr>\n",
       "      <th>13.3</th>\n",
       "      <td>1.0</td>\n",
       "      <td>23860.000000</td>\n",
       "      <td>NaN</td>\n",
       "      <td>23860.0</td>\n",
       "      <td>23860.0</td>\n",
       "      <td>23860.0</td>\n",
       "      <td>23860.0</td>\n",
       "      <td>23860.0</td>\n",
       "    </tr>\n",
       "    <tr>\n",
       "      <th>13.4</th>\n",
       "      <td>0.0</td>\n",
       "      <td>NaN</td>\n",
       "      <td>NaN</td>\n",
       "      <td>NaN</td>\n",
       "      <td>NaN</td>\n",
       "      <td>NaN</td>\n",
       "      <td>NaN</td>\n",
       "      <td>NaN</td>\n",
       "    </tr>\n",
       "    <tr>\n",
       "      <th>13.6</th>\n",
       "      <td>1.0</td>\n",
       "      <td>12000.000000</td>\n",
       "      <td>NaN</td>\n",
       "      <td>12000.0</td>\n",
       "      <td>12000.0</td>\n",
       "      <td>12000.0</td>\n",
       "      <td>12000.0</td>\n",
       "      <td>12000.0</td>\n",
       "    </tr>\n",
       "    <tr>\n",
       "      <th>13.7</th>\n",
       "      <td>1.0</td>\n",
       "      <td>8180.000000</td>\n",
       "      <td>NaN</td>\n",
       "      <td>8180.0</td>\n",
       "      <td>8180.0</td>\n",
       "      <td>8180.0</td>\n",
       "      <td>8180.0</td>\n",
       "      <td>8180.0</td>\n",
       "    </tr>\n",
       "    <tr>\n",
       "      <th>14.0</th>\n",
       "      <td>3.0</td>\n",
       "      <td>4083.333333</td>\n",
       "      <td>185.831465</td>\n",
       "      <td>3930.0</td>\n",
       "      <td>3980.0</td>\n",
       "      <td>4030.0</td>\n",
       "      <td>4160.0</td>\n",
       "      <td>4290.0</td>\n",
       "    </tr>\n",
       "    <tr>\n",
       "      <th>14.3</th>\n",
       "      <td>1.0</td>\n",
       "      <td>9780.000000</td>\n",
       "      <td>NaN</td>\n",
       "      <td>9780.0</td>\n",
       "      <td>9780.0</td>\n",
       "      <td>9780.0</td>\n",
       "      <td>9780.0</td>\n",
       "      <td>9780.0</td>\n",
       "    </tr>\n",
       "    <tr>\n",
       "      <th>14.5</th>\n",
       "      <td>1.0</td>\n",
       "      <td>14680.000000</td>\n",
       "      <td>NaN</td>\n",
       "      <td>14680.0</td>\n",
       "      <td>14680.0</td>\n",
       "      <td>14680.0</td>\n",
       "      <td>14680.0</td>\n",
       "      <td>14680.0</td>\n",
       "    </tr>\n",
       "    <tr>\n",
       "      <th>15.0</th>\n",
       "      <td>1.0</td>\n",
       "      <td>9830.000000</td>\n",
       "      <td>NaN</td>\n",
       "      <td>9830.0</td>\n",
       "      <td>9830.0</td>\n",
       "      <td>9830.0</td>\n",
       "      <td>9830.0</td>\n",
       "      <td>9830.0</td>\n",
       "    </tr>\n",
       "    <tr>\n",
       "      <th>15.5</th>\n",
       "      <td>1.0</td>\n",
       "      <td>3840.000000</td>\n",
       "      <td>NaN</td>\n",
       "      <td>3840.0</td>\n",
       "      <td>3840.0</td>\n",
       "      <td>3840.0</td>\n",
       "      <td>3840.0</td>\n",
       "      <td>3840.0</td>\n",
       "    </tr>\n",
       "    <tr>\n",
       "      <th>15.6</th>\n",
       "      <td>1.0</td>\n",
       "      <td>4510.000000</td>\n",
       "      <td>NaN</td>\n",
       "      <td>4510.0</td>\n",
       "      <td>4510.0</td>\n",
       "      <td>4510.0</td>\n",
       "      <td>4510.0</td>\n",
       "      <td>4510.0</td>\n",
       "    </tr>\n",
       "    <tr>\n",
       "      <th>15.7</th>\n",
       "      <td>2.0</td>\n",
       "      <td>7710.000000</td>\n",
       "      <td>3351.686143</td>\n",
       "      <td>5340.0</td>\n",
       "      <td>6525.0</td>\n",
       "      <td>7710.0</td>\n",
       "      <td>8895.0</td>\n",
       "      <td>10080.0</td>\n",
       "    </tr>\n",
       "    <tr>\n",
       "      <th>15.8</th>\n",
       "      <td>3.0</td>\n",
       "      <td>6853.333333</td>\n",
       "      <td>1999.408246</td>\n",
       "      <td>4730.0</td>\n",
       "      <td>5930.0</td>\n",
       "      <td>7130.0</td>\n",
       "      <td>7915.0</td>\n",
       "      <td>8700.0</td>\n",
       "    </tr>\n",
       "    <tr>\n",
       "      <th>16.0</th>\n",
       "      <td>1.0</td>\n",
       "      <td>6150.000000</td>\n",
       "      <td>NaN</td>\n",
       "      <td>6150.0</td>\n",
       "      <td>6150.0</td>\n",
       "      <td>6150.0</td>\n",
       "      <td>6150.0</td>\n",
       "      <td>6150.0</td>\n",
       "    </tr>\n",
       "    <tr>\n",
       "      <th>16.2</th>\n",
       "      <td>1.0</td>\n",
       "      <td>2230.000000</td>\n",
       "      <td>NaN</td>\n",
       "      <td>2230.0</td>\n",
       "      <td>2230.0</td>\n",
       "      <td>2230.0</td>\n",
       "      <td>2230.0</td>\n",
       "      <td>2230.0</td>\n",
       "    </tr>\n",
       "    <tr>\n",
       "      <th>16.4</th>\n",
       "      <td>1.0</td>\n",
       "      <td>11530.000000</td>\n",
       "      <td>NaN</td>\n",
       "      <td>11530.0</td>\n",
       "      <td>11530.0</td>\n",
       "      <td>11530.0</td>\n",
       "      <td>11530.0</td>\n",
       "      <td>11530.0</td>\n",
       "    </tr>\n",
       "    <tr>\n",
       "      <th>16.6</th>\n",
       "      <td>0.0</td>\n",
       "      <td>NaN</td>\n",
       "      <td>NaN</td>\n",
       "      <td>NaN</td>\n",
       "      <td>NaN</td>\n",
       "      <td>NaN</td>\n",
       "      <td>NaN</td>\n",
       "      <td>NaN</td>\n",
       "    </tr>\n",
       "    <tr>\n",
       "      <th>16.8</th>\n",
       "      <td>1.0</td>\n",
       "      <td>4280.000000</td>\n",
       "      <td>NaN</td>\n",
       "      <td>4280.0</td>\n",
       "      <td>4280.0</td>\n",
       "      <td>4280.0</td>\n",
       "      <td>4280.0</td>\n",
       "      <td>4280.0</td>\n",
       "    </tr>\n",
       "    <tr>\n",
       "      <th>16.9</th>\n",
       "      <td>1.0</td>\n",
       "      <td>11730.000000</td>\n",
       "      <td>NaN</td>\n",
       "      <td>11730.0</td>\n",
       "      <td>11730.0</td>\n",
       "      <td>11730.0</td>\n",
       "      <td>11730.0</td>\n",
       "      <td>11730.0</td>\n",
       "    </tr>\n",
       "    <tr>\n",
       "      <th>17.2</th>\n",
       "      <td>1.0</td>\n",
       "      <td>6670.000000</td>\n",
       "      <td>NaN</td>\n",
       "      <td>6670.0</td>\n",
       "      <td>6670.0</td>\n",
       "      <td>6670.0</td>\n",
       "      <td>6670.0</td>\n",
       "      <td>6670.0</td>\n",
       "    </tr>\n",
       "    <tr>\n",
       "      <th>17.4</th>\n",
       "      <td>0.0</td>\n",
       "      <td>NaN</td>\n",
       "      <td>NaN</td>\n",
       "      <td>NaN</td>\n",
       "      <td>NaN</td>\n",
       "      <td>NaN</td>\n",
       "      <td>NaN</td>\n",
       "      <td>NaN</td>\n",
       "    </tr>\n",
       "    <tr>\n",
       "      <th>17.7</th>\n",
       "      <td>1.0</td>\n",
       "      <td>4070.000000</td>\n",
       "      <td>NaN</td>\n",
       "      <td>4070.0</td>\n",
       "      <td>4070.0</td>\n",
       "      <td>4070.0</td>\n",
       "      <td>4070.0</td>\n",
       "      <td>4070.0</td>\n",
       "    </tr>\n",
       "    <tr>\n",
       "      <th>18.1</th>\n",
       "      <td>1.0</td>\n",
       "      <td>3890.000000</td>\n",
       "      <td>NaN</td>\n",
       "      <td>3890.0</td>\n",
       "      <td>3890.0</td>\n",
       "      <td>3890.0</td>\n",
       "      <td>3890.0</td>\n",
       "      <td>3890.0</td>\n",
       "    </tr>\n",
       "    <tr>\n",
       "      <th>18.8</th>\n",
       "      <td>1.0</td>\n",
       "      <td>3850.000000</td>\n",
       "      <td>NaN</td>\n",
       "      <td>3850.0</td>\n",
       "      <td>3850.0</td>\n",
       "      <td>3850.0</td>\n",
       "      <td>3850.0</td>\n",
       "      <td>3850.0</td>\n",
       "    </tr>\n",
       "    <tr>\n",
       "      <th>19.1</th>\n",
       "      <td>1.0</td>\n",
       "      <td>17640.000000</td>\n",
       "      <td>NaN</td>\n",
       "      <td>17640.0</td>\n",
       "      <td>17640.0</td>\n",
       "      <td>17640.0</td>\n",
       "      <td>17640.0</td>\n",
       "      <td>17640.0</td>\n",
       "    </tr>\n",
       "    <tr>\n",
       "      <th>19.4</th>\n",
       "      <td>1.0</td>\n",
       "      <td>2090.000000</td>\n",
       "      <td>NaN</td>\n",
       "      <td>2090.0</td>\n",
       "      <td>2090.0</td>\n",
       "      <td>2090.0</td>\n",
       "      <td>2090.0</td>\n",
       "      <td>2090.0</td>\n",
       "    </tr>\n",
       "    <tr>\n",
       "      <th>20.0</th>\n",
       "      <td>1.0</td>\n",
       "      <td>3260.000000</td>\n",
       "      <td>NaN</td>\n",
       "      <td>3260.0</td>\n",
       "      <td>3260.0</td>\n",
       "      <td>3260.0</td>\n",
       "      <td>3260.0</td>\n",
       "      <td>3260.0</td>\n",
       "    </tr>\n",
       "    <tr>\n",
       "      <th>20.3</th>\n",
       "      <td>1.0</td>\n",
       "      <td>2010.000000</td>\n",
       "      <td>NaN</td>\n",
       "      <td>2010.0</td>\n",
       "      <td>2010.0</td>\n",
       "      <td>2010.0</td>\n",
       "      <td>2010.0</td>\n",
       "      <td>2010.0</td>\n",
       "    </tr>\n",
       "    <tr>\n",
       "      <th>20.6</th>\n",
       "      <td>2.0</td>\n",
       "      <td>6520.000000</td>\n",
       "      <td>3266.833329</td>\n",
       "      <td>4210.0</td>\n",
       "      <td>5365.0</td>\n",
       "      <td>6520.0</td>\n",
       "      <td>7675.0</td>\n",
       "      <td>8830.0</td>\n",
       "    </tr>\n",
       "    <tr>\n",
       "      <th>21.1</th>\n",
       "      <td>0.0</td>\n",
       "      <td>NaN</td>\n",
       "      <td>NaN</td>\n",
       "      <td>NaN</td>\n",
       "      <td>NaN</td>\n",
       "      <td>NaN</td>\n",
       "      <td>NaN</td>\n",
       "      <td>NaN</td>\n",
       "    </tr>\n",
       "    <tr>\n",
       "      <th>21.5</th>\n",
       "      <td>1.0</td>\n",
       "      <td>6000.000000</td>\n",
       "      <td>NaN</td>\n",
       "      <td>6000.0</td>\n",
       "      <td>6000.0</td>\n",
       "      <td>6000.0</td>\n",
       "      <td>6000.0</td>\n",
       "      <td>6000.0</td>\n",
       "    </tr>\n",
       "    <tr>\n",
       "      <th>22.0</th>\n",
       "      <td>1.0</td>\n",
       "      <td>1990.000000</td>\n",
       "      <td>NaN</td>\n",
       "      <td>1990.0</td>\n",
       "      <td>1990.0</td>\n",
       "      <td>1990.0</td>\n",
       "      <td>1990.0</td>\n",
       "      <td>1990.0</td>\n",
       "    </tr>\n",
       "    <tr>\n",
       "      <th>22.2</th>\n",
       "      <td>1.0</td>\n",
       "      <td>3150.000000</td>\n",
       "      <td>NaN</td>\n",
       "      <td>3150.0</td>\n",
       "      <td>3150.0</td>\n",
       "      <td>3150.0</td>\n",
       "      <td>3150.0</td>\n",
       "      <td>3150.0</td>\n",
       "    </tr>\n",
       "    <tr>\n",
       "      <th>22.3</th>\n",
       "      <td>1.0</td>\n",
       "      <td>1180.000000</td>\n",
       "      <td>NaN</td>\n",
       "      <td>1180.0</td>\n",
       "      <td>1180.0</td>\n",
       "      <td>1180.0</td>\n",
       "      <td>1180.0</td>\n",
       "      <td>1180.0</td>\n",
       "    </tr>\n",
       "    <tr>\n",
       "      <th>22.5</th>\n",
       "      <td>1.0</td>\n",
       "      <td>4780.000000</td>\n",
       "      <td>NaN</td>\n",
       "      <td>4780.0</td>\n",
       "      <td>4780.0</td>\n",
       "      <td>4780.0</td>\n",
       "      <td>4780.0</td>\n",
       "      <td>4780.0</td>\n",
       "    </tr>\n",
       "    <tr>\n",
       "      <th>23.7</th>\n",
       "      <td>1.0</td>\n",
       "      <td>3310.000000</td>\n",
       "      <td>NaN</td>\n",
       "      <td>3310.0</td>\n",
       "      <td>3310.0</td>\n",
       "      <td>3310.0</td>\n",
       "      <td>3310.0</td>\n",
       "      <td>3310.0</td>\n",
       "    </tr>\n",
       "    <tr>\n",
       "      <th>25.5</th>\n",
       "      <td>1.0</td>\n",
       "      <td>4800.000000</td>\n",
       "      <td>NaN</td>\n",
       "      <td>4800.0</td>\n",
       "      <td>4800.0</td>\n",
       "      <td>4800.0</td>\n",
       "      <td>4800.0</td>\n",
       "      <td>4800.0</td>\n",
       "    </tr>\n",
       "    <tr>\n",
       "      <th>25.8</th>\n",
       "      <td>1.0</td>\n",
       "      <td>2170.000000</td>\n",
       "      <td>NaN</td>\n",
       "      <td>2170.0</td>\n",
       "      <td>2170.0</td>\n",
       "      <td>2170.0</td>\n",
       "      <td>2170.0</td>\n",
       "      <td>2170.0</td>\n",
       "    </tr>\n",
       "    <tr>\n",
       "      <th>26.2</th>\n",
       "      <td>1.0</td>\n",
       "      <td>5620.000000</td>\n",
       "      <td>NaN</td>\n",
       "      <td>5620.0</td>\n",
       "      <td>5620.0</td>\n",
       "      <td>5620.0</td>\n",
       "      <td>5620.0</td>\n",
       "      <td>5620.0</td>\n",
       "    </tr>\n",
       "    <tr>\n",
       "      <th>26.3</th>\n",
       "      <td>1.0</td>\n",
       "      <td>1910.000000</td>\n",
       "      <td>NaN</td>\n",
       "      <td>1910.0</td>\n",
       "      <td>1910.0</td>\n",
       "      <td>1910.0</td>\n",
       "      <td>1910.0</td>\n",
       "      <td>1910.0</td>\n",
       "    </tr>\n",
       "    <tr>\n",
       "      <th>27.3</th>\n",
       "      <td>1.0</td>\n",
       "      <td>3440.000000</td>\n",
       "      <td>NaN</td>\n",
       "      <td>3440.0</td>\n",
       "      <td>3440.0</td>\n",
       "      <td>3440.0</td>\n",
       "      <td>3440.0</td>\n",
       "      <td>3440.0</td>\n",
       "    </tr>\n",
       "    <tr>\n",
       "      <th>28.0</th>\n",
       "      <td>2.0</td>\n",
       "      <td>3260.000000</td>\n",
       "      <td>367.695526</td>\n",
       "      <td>3000.0</td>\n",
       "      <td>3130.0</td>\n",
       "      <td>3260.0</td>\n",
       "      <td>3390.0</td>\n",
       "      <td>3520.0</td>\n",
       "    </tr>\n",
       "    <tr>\n",
       "      <th>28.2</th>\n",
       "      <td>0.0</td>\n",
       "      <td>NaN</td>\n",
       "      <td>NaN</td>\n",
       "      <td>NaN</td>\n",
       "      <td>NaN</td>\n",
       "      <td>NaN</td>\n",
       "      <td>NaN</td>\n",
       "      <td>NaN</td>\n",
       "    </tr>\n",
       "    <tr>\n",
       "      <th>29.5</th>\n",
       "      <td>1.0</td>\n",
       "      <td>3610.000000</td>\n",
       "      <td>NaN</td>\n",
       "      <td>3610.0</td>\n",
       "      <td>3610.0</td>\n",
       "      <td>3610.0</td>\n",
       "      <td>3610.0</td>\n",
       "      <td>3610.0</td>\n",
       "    </tr>\n",
       "    <tr>\n",
       "      <th>31.5</th>\n",
       "      <td>1.0</td>\n",
       "      <td>6240.000000</td>\n",
       "      <td>NaN</td>\n",
       "      <td>6240.0</td>\n",
       "      <td>6240.0</td>\n",
       "      <td>6240.0</td>\n",
       "      <td>6240.0</td>\n",
       "      <td>6240.0</td>\n",
       "    </tr>\n",
       "    <tr>\n",
       "      <th>32.0</th>\n",
       "      <td>2.0</td>\n",
       "      <td>3810.000000</td>\n",
       "      <td>3874.945161</td>\n",
       "      <td>1070.0</td>\n",
       "      <td>2440.0</td>\n",
       "      <td>3810.0</td>\n",
       "      <td>5180.0</td>\n",
       "      <td>6550.0</td>\n",
       "    </tr>\n",
       "    <tr>\n",
       "      <th>32.2</th>\n",
       "      <td>1.0</td>\n",
       "      <td>5960.000000</td>\n",
       "      <td>NaN</td>\n",
       "      <td>5960.0</td>\n",
       "      <td>5960.0</td>\n",
       "      <td>5960.0</td>\n",
       "      <td>5960.0</td>\n",
       "      <td>5960.0</td>\n",
       "    </tr>\n",
       "    <tr>\n",
       "      <th>33.0</th>\n",
       "      <td>1.0</td>\n",
       "      <td>6760.000000</td>\n",
       "      <td>NaN</td>\n",
       "      <td>6760.0</td>\n",
       "      <td>6760.0</td>\n",
       "      <td>6760.0</td>\n",
       "      <td>6760.0</td>\n",
       "      <td>6760.0</td>\n",
       "    </tr>\n",
       "    <tr>\n",
       "      <th>33.4</th>\n",
       "      <td>1.0</td>\n",
       "      <td>4060.000000</td>\n",
       "      <td>NaN</td>\n",
       "      <td>4060.0</td>\n",
       "      <td>4060.0</td>\n",
       "      <td>4060.0</td>\n",
       "      <td>4060.0</td>\n",
       "      <td>4060.0</td>\n",
       "    </tr>\n",
       "    <tr>\n",
       "      <th>33.6</th>\n",
       "      <td>1.0</td>\n",
       "      <td>2340.000000</td>\n",
       "      <td>NaN</td>\n",
       "      <td>2340.0</td>\n",
       "      <td>2340.0</td>\n",
       "      <td>2340.0</td>\n",
       "      <td>2340.0</td>\n",
       "      <td>2340.0</td>\n",
       "    </tr>\n",
       "    <tr>\n",
       "      <th>34.3</th>\n",
       "      <td>1.0</td>\n",
       "      <td>3640.000000</td>\n",
       "      <td>NaN</td>\n",
       "      <td>3640.0</td>\n",
       "      <td>3640.0</td>\n",
       "      <td>3640.0</td>\n",
       "      <td>3640.0</td>\n",
       "      <td>3640.0</td>\n",
       "    </tr>\n",
       "    <tr>\n",
       "      <th>35.2</th>\n",
       "      <td>1.0</td>\n",
       "      <td>1690.000000</td>\n",
       "      <td>NaN</td>\n",
       "      <td>1690.0</td>\n",
       "      <td>1690.0</td>\n",
       "      <td>1690.0</td>\n",
       "      <td>1690.0</td>\n",
       "      <td>1690.0</td>\n",
       "    </tr>\n",
       "    <tr>\n",
       "      <th>35.6</th>\n",
       "      <td>1.0</td>\n",
       "      <td>11850.000000</td>\n",
       "      <td>NaN</td>\n",
       "      <td>11850.0</td>\n",
       "      <td>11850.0</td>\n",
       "      <td>11850.0</td>\n",
       "      <td>11850.0</td>\n",
       "      <td>11850.0</td>\n",
       "    </tr>\n",
       "    <tr>\n",
       "      <th>36.1</th>\n",
       "      <td>1.0</td>\n",
       "      <td>740.000000</td>\n",
       "      <td>NaN</td>\n",
       "      <td>740.0</td>\n",
       "      <td>740.0</td>\n",
       "      <td>740.0</td>\n",
       "      <td>740.0</td>\n",
       "      <td>740.0</td>\n",
       "    </tr>\n",
       "    <tr>\n",
       "      <th>36.3</th>\n",
       "      <td>1.0</td>\n",
       "      <td>1190.000000</td>\n",
       "      <td>NaN</td>\n",
       "      <td>1190.0</td>\n",
       "      <td>1190.0</td>\n",
       "      <td>1190.0</td>\n",
       "      <td>1190.0</td>\n",
       "      <td>1190.0</td>\n",
       "    </tr>\n",
       "    <tr>\n",
       "      <th>36.4</th>\n",
       "      <td>1.0</td>\n",
       "      <td>4720.000000</td>\n",
       "      <td>NaN</td>\n",
       "      <td>4720.0</td>\n",
       "      <td>4720.0</td>\n",
       "      <td>4720.0</td>\n",
       "      <td>4720.0</td>\n",
       "      <td>4720.0</td>\n",
       "    </tr>\n",
       "    <tr>\n",
       "      <th>38.2</th>\n",
       "      <td>1.0</td>\n",
       "      <td>3000.000000</td>\n",
       "      <td>NaN</td>\n",
       "      <td>3000.0</td>\n",
       "      <td>3000.0</td>\n",
       "      <td>3000.0</td>\n",
       "      <td>3000.0</td>\n",
       "      <td>3000.0</td>\n",
       "    </tr>\n",
       "    <tr>\n",
       "      <th>40.5</th>\n",
       "      <td>1.0</td>\n",
       "      <td>710.000000</td>\n",
       "      <td>NaN</td>\n",
       "      <td>710.0</td>\n",
       "      <td>710.0</td>\n",
       "      <td>710.0</td>\n",
       "      <td>710.0</td>\n",
       "      <td>710.0</td>\n",
       "    </tr>\n",
       "    <tr>\n",
       "      <th>42.1</th>\n",
       "      <td>1.0</td>\n",
       "      <td>6680.000000</td>\n",
       "      <td>NaN</td>\n",
       "      <td>6680.0</td>\n",
       "      <td>6680.0</td>\n",
       "      <td>6680.0</td>\n",
       "      <td>6680.0</td>\n",
       "      <td>6680.0</td>\n",
       "    </tr>\n",
       "    <tr>\n",
       "      <th>44.1</th>\n",
       "      <td>1.0</td>\n",
       "      <td>6100.000000</td>\n",
       "      <td>NaN</td>\n",
       "      <td>6100.0</td>\n",
       "      <td>6100.0</td>\n",
       "      <td>6100.0</td>\n",
       "      <td>6100.0</td>\n",
       "      <td>6100.0</td>\n",
       "    </tr>\n",
       "    <tr>\n",
       "      <th>44.5</th>\n",
       "      <td>1.0</td>\n",
       "      <td>1240.000000</td>\n",
       "      <td>NaN</td>\n",
       "      <td>1240.0</td>\n",
       "      <td>1240.0</td>\n",
       "      <td>1240.0</td>\n",
       "      <td>1240.0</td>\n",
       "      <td>1240.0</td>\n",
       "    </tr>\n",
       "    <tr>\n",
       "      <th>45.2</th>\n",
       "      <td>1.0</td>\n",
       "      <td>1600.000000</td>\n",
       "      <td>NaN</td>\n",
       "      <td>1600.0</td>\n",
       "      <td>1600.0</td>\n",
       "      <td>1600.0</td>\n",
       "      <td>1600.0</td>\n",
       "      <td>1600.0</td>\n",
       "    </tr>\n",
       "    <tr>\n",
       "      <th>45.9</th>\n",
       "      <td>0.0</td>\n",
       "      <td>NaN</td>\n",
       "      <td>NaN</td>\n",
       "      <td>NaN</td>\n",
       "      <td>NaN</td>\n",
       "      <td>NaN</td>\n",
       "      <td>NaN</td>\n",
       "      <td>NaN</td>\n",
       "    </tr>\n",
       "    <tr>\n",
       "      <th>48.0</th>\n",
       "      <td>1.0</td>\n",
       "      <td>5280.000000</td>\n",
       "      <td>NaN</td>\n",
       "      <td>5280.0</td>\n",
       "      <td>5280.0</td>\n",
       "      <td>5280.0</td>\n",
       "      <td>5280.0</td>\n",
       "      <td>5280.0</td>\n",
       "    </tr>\n",
       "    <tr>\n",
       "      <th>48.4</th>\n",
       "      <td>1.0</td>\n",
       "      <td>420.000000</td>\n",
       "      <td>NaN</td>\n",
       "      <td>420.0</td>\n",
       "      <td>420.0</td>\n",
       "      <td>420.0</td>\n",
       "      <td>420.0</td>\n",
       "      <td>420.0</td>\n",
       "    </tr>\n",
       "    <tr>\n",
       "      <th>49.5</th>\n",
       "      <td>1.0</td>\n",
       "      <td>980.000000</td>\n",
       "      <td>NaN</td>\n",
       "      <td>980.0</td>\n",
       "      <td>980.0</td>\n",
       "      <td>980.0</td>\n",
       "      <td>980.0</td>\n",
       "      <td>980.0</td>\n",
       "    </tr>\n",
       "    <tr>\n",
       "      <th>50.6</th>\n",
       "      <td>1.0</td>\n",
       "      <td>8010.000000</td>\n",
       "      <td>NaN</td>\n",
       "      <td>8010.0</td>\n",
       "      <td>8010.0</td>\n",
       "      <td>8010.0</td>\n",
       "      <td>8010.0</td>\n",
       "      <td>8010.0</td>\n",
       "    </tr>\n",
       "    <tr>\n",
       "      <th>51.0</th>\n",
       "      <td>1.0</td>\n",
       "      <td>1310.000000</td>\n",
       "      <td>NaN</td>\n",
       "      <td>1310.0</td>\n",
       "      <td>1310.0</td>\n",
       "      <td>1310.0</td>\n",
       "      <td>1310.0</td>\n",
       "      <td>1310.0</td>\n",
       "    </tr>\n",
       "    <tr>\n",
       "      <th>51.6</th>\n",
       "      <td>1.0</td>\n",
       "      <td>2220.000000</td>\n",
       "      <td>NaN</td>\n",
       "      <td>2220.0</td>\n",
       "      <td>2220.0</td>\n",
       "      <td>2220.0</td>\n",
       "      <td>2220.0</td>\n",
       "      <td>2220.0</td>\n",
       "    </tr>\n",
       "    <tr>\n",
       "      <th>52.6</th>\n",
       "      <td>1.0</td>\n",
       "      <td>7120.000000</td>\n",
       "      <td>NaN</td>\n",
       "      <td>7120.0</td>\n",
       "      <td>7120.0</td>\n",
       "      <td>7120.0</td>\n",
       "      <td>7120.0</td>\n",
       "      <td>7120.0</td>\n",
       "    </tr>\n",
       "    <tr>\n",
       "      <th>52.7</th>\n",
       "      <td>1.0</td>\n",
       "      <td>1190.000000</td>\n",
       "      <td>NaN</td>\n",
       "      <td>1190.0</td>\n",
       "      <td>1190.0</td>\n",
       "      <td>1190.0</td>\n",
       "      <td>1190.0</td>\n",
       "      <td>1190.0</td>\n",
       "    </tr>\n",
       "    <tr>\n",
       "      <th>55.3</th>\n",
       "      <td>1.0</td>\n",
       "      <td>1140.000000</td>\n",
       "      <td>NaN</td>\n",
       "      <td>1140.0</td>\n",
       "      <td>1140.0</td>\n",
       "      <td>1140.0</td>\n",
       "      <td>1140.0</td>\n",
       "      <td>1140.0</td>\n",
       "    </tr>\n",
       "    <tr>\n",
       "      <th>55.4</th>\n",
       "      <td>1.0</td>\n",
       "      <td>2350.000000</td>\n",
       "      <td>NaN</td>\n",
       "      <td>2350.0</td>\n",
       "      <td>2350.0</td>\n",
       "      <td>2350.0</td>\n",
       "      <td>2350.0</td>\n",
       "      <td>2350.0</td>\n",
       "    </tr>\n",
       "    <tr>\n",
       "      <th>55.9</th>\n",
       "      <td>2.0</td>\n",
       "      <td>2010.000000</td>\n",
       "      <td>1895.046174</td>\n",
       "      <td>670.0</td>\n",
       "      <td>1340.0</td>\n",
       "      <td>2010.0</td>\n",
       "      <td>2680.0</td>\n",
       "      <td>3350.0</td>\n",
       "    </tr>\n",
       "    <tr>\n",
       "      <th>56.2</th>\n",
       "      <td>1.0</td>\n",
       "      <td>2920.000000</td>\n",
       "      <td>NaN</td>\n",
       "      <td>2920.0</td>\n",
       "      <td>2920.0</td>\n",
       "      <td>2920.0</td>\n",
       "      <td>2920.0</td>\n",
       "      <td>2920.0</td>\n",
       "    </tr>\n",
       "    <tr>\n",
       "      <th>58.8</th>\n",
       "      <td>1.0</td>\n",
       "      <td>910.000000</td>\n",
       "      <td>NaN</td>\n",
       "      <td>910.0</td>\n",
       "      <td>910.0</td>\n",
       "      <td>910.0</td>\n",
       "      <td>910.0</td>\n",
       "      <td>910.0</td>\n",
       "    </tr>\n",
       "    <tr>\n",
       "      <th>59.1</th>\n",
       "      <td>1.0</td>\n",
       "      <td>340.000000</td>\n",
       "      <td>NaN</td>\n",
       "      <td>340.0</td>\n",
       "      <td>340.0</td>\n",
       "      <td>340.0</td>\n",
       "      <td>340.0</td>\n",
       "      <td>340.0</td>\n",
       "    </tr>\n",
       "    <tr>\n",
       "      <th>59.9</th>\n",
       "      <td>1.0</td>\n",
       "      <td>890.000000</td>\n",
       "      <td>NaN</td>\n",
       "      <td>890.0</td>\n",
       "      <td>890.0</td>\n",
       "      <td>890.0</td>\n",
       "      <td>890.0</td>\n",
       "      <td>890.0</td>\n",
       "    </tr>\n",
       "    <tr>\n",
       "      <th>61.0</th>\n",
       "      <td>1.0</td>\n",
       "      <td>1470.000000</td>\n",
       "      <td>NaN</td>\n",
       "      <td>1470.0</td>\n",
       "      <td>1470.0</td>\n",
       "      <td>1470.0</td>\n",
       "      <td>1470.0</td>\n",
       "      <td>1470.0</td>\n",
       "    </tr>\n",
       "    <tr>\n",
       "      <th>61.3</th>\n",
       "      <td>1.0</td>\n",
       "      <td>600.000000</td>\n",
       "      <td>NaN</td>\n",
       "      <td>600.0</td>\n",
       "      <td>600.0</td>\n",
       "      <td>600.0</td>\n",
       "      <td>600.0</td>\n",
       "      <td>600.0</td>\n",
       "    </tr>\n",
       "    <tr>\n",
       "      <th>66.1</th>\n",
       "      <td>2.0</td>\n",
       "      <td>1780.000000</td>\n",
       "      <td>311.126984</td>\n",
       "      <td>1560.0</td>\n",
       "      <td>1670.0</td>\n",
       "      <td>1780.0</td>\n",
       "      <td>1890.0</td>\n",
       "      <td>2000.0</td>\n",
       "    </tr>\n",
       "    <tr>\n",
       "      <th>66.2</th>\n",
       "      <td>0.0</td>\n",
       "      <td>NaN</td>\n",
       "      <td>NaN</td>\n",
       "      <td>NaN</td>\n",
       "      <td>NaN</td>\n",
       "      <td>NaN</td>\n",
       "      <td>NaN</td>\n",
       "      <td>NaN</td>\n",
       "    </tr>\n",
       "    <tr>\n",
       "      <th>67.1</th>\n",
       "      <td>1.0</td>\n",
       "      <td>2000.000000</td>\n",
       "      <td>NaN</td>\n",
       "      <td>2000.0</td>\n",
       "      <td>2000.0</td>\n",
       "      <td>2000.0</td>\n",
       "      <td>2000.0</td>\n",
       "      <td>2000.0</td>\n",
       "    </tr>\n",
       "    <tr>\n",
       "      <th>67.5</th>\n",
       "      <td>1.0</td>\n",
       "      <td>440.000000</td>\n",
       "      <td>NaN</td>\n",
       "      <td>440.0</td>\n",
       "      <td>440.0</td>\n",
       "      <td>440.0</td>\n",
       "      <td>440.0</td>\n",
       "      <td>440.0</td>\n",
       "    </tr>\n",
       "    <tr>\n",
       "      <th>68.9</th>\n",
       "      <td>1.0</td>\n",
       "      <td>810.000000</td>\n",
       "      <td>NaN</td>\n",
       "      <td>810.0</td>\n",
       "      <td>810.0</td>\n",
       "      <td>810.0</td>\n",
       "      <td>810.0</td>\n",
       "      <td>810.0</td>\n",
       "    </tr>\n",
       "    <tr>\n",
       "      <th>70.1</th>\n",
       "      <td>1.0</td>\n",
       "      <td>380.000000</td>\n",
       "      <td>NaN</td>\n",
       "      <td>380.0</td>\n",
       "      <td>380.0</td>\n",
       "      <td>380.0</td>\n",
       "      <td>380.0</td>\n",
       "      <td>380.0</td>\n",
       "    </tr>\n",
       "    <tr>\n",
       "      <th>71.3</th>\n",
       "      <td>1.0</td>\n",
       "      <td>3280.000000</td>\n",
       "      <td>NaN</td>\n",
       "      <td>3280.0</td>\n",
       "      <td>3280.0</td>\n",
       "      <td>3280.0</td>\n",
       "      <td>3280.0</td>\n",
       "      <td>3280.0</td>\n",
       "    </tr>\n",
       "    <tr>\n",
       "      <th>73.2</th>\n",
       "      <td>1.0</td>\n",
       "      <td>590.000000</td>\n",
       "      <td>NaN</td>\n",
       "      <td>590.0</td>\n",
       "      <td>590.0</td>\n",
       "      <td>590.0</td>\n",
       "      <td>590.0</td>\n",
       "      <td>590.0</td>\n",
       "    </tr>\n",
       "    <tr>\n",
       "      <th>74.6</th>\n",
       "      <td>1.0</td>\n",
       "      <td>280.000000</td>\n",
       "      <td>NaN</td>\n",
       "      <td>280.0</td>\n",
       "      <td>280.0</td>\n",
       "      <td>280.0</td>\n",
       "      <td>280.0</td>\n",
       "      <td>280.0</td>\n",
       "    </tr>\n",
       "    <tr>\n",
       "      <th>75.1</th>\n",
       "      <td>1.0</td>\n",
       "      <td>580.000000</td>\n",
       "      <td>NaN</td>\n",
       "      <td>580.0</td>\n",
       "      <td>580.0</td>\n",
       "      <td>580.0</td>\n",
       "      <td>580.0</td>\n",
       "      <td>580.0</td>\n",
       "    </tr>\n",
       "    <tr>\n",
       "      <th>75.8</th>\n",
       "      <td>1.0</td>\n",
       "      <td>790.000000</td>\n",
       "      <td>NaN</td>\n",
       "      <td>790.0</td>\n",
       "      <td>790.0</td>\n",
       "      <td>790.0</td>\n",
       "      <td>790.0</td>\n",
       "      <td>790.0</td>\n",
       "    </tr>\n",
       "    <tr>\n",
       "      <th>78.0</th>\n",
       "      <td>1.0</td>\n",
       "      <td>540.000000</td>\n",
       "      <td>NaN</td>\n",
       "      <td>540.0</td>\n",
       "      <td>540.0</td>\n",
       "      <td>540.0</td>\n",
       "      <td>540.0</td>\n",
       "      <td>540.0</td>\n",
       "    </tr>\n",
       "    <tr>\n",
       "      <th>81.0</th>\n",
       "      <td>1.0</td>\n",
       "      <td>1430.000000</td>\n",
       "      <td>NaN</td>\n",
       "      <td>1430.0</td>\n",
       "      <td>1430.0</td>\n",
       "      <td>1430.0</td>\n",
       "      <td>1430.0</td>\n",
       "      <td>1430.0</td>\n",
       "    </tr>\n",
       "    <tr>\n",
       "      <th>83.3</th>\n",
       "      <td>1.0</td>\n",
       "      <td>1470.000000</td>\n",
       "      <td>NaN</td>\n",
       "      <td>1470.0</td>\n",
       "      <td>1470.0</td>\n",
       "      <td>1470.0</td>\n",
       "      <td>1470.0</td>\n",
       "      <td>1470.0</td>\n",
       "    </tr>\n",
       "    <tr>\n",
       "      <th>83.9</th>\n",
       "      <td>1.0</td>\n",
       "      <td>1230.000000</td>\n",
       "      <td>NaN</td>\n",
       "      <td>1230.0</td>\n",
       "      <td>1230.0</td>\n",
       "      <td>1230.0</td>\n",
       "      <td>1230.0</td>\n",
       "      <td>1230.0</td>\n",
       "    </tr>\n",
       "    <tr>\n",
       "      <th>86.5</th>\n",
       "      <td>1.0</td>\n",
       "      <td>4040.000000</td>\n",
       "      <td>NaN</td>\n",
       "      <td>4040.0</td>\n",
       "      <td>4040.0</td>\n",
       "      <td>4040.0</td>\n",
       "      <td>4040.0</td>\n",
       "      <td>4040.0</td>\n",
       "    </tr>\n",
       "    <tr>\n",
       "      <th>88.5</th>\n",
       "      <td>1.0</td>\n",
       "      <td>620.000000</td>\n",
       "      <td>NaN</td>\n",
       "      <td>620.0</td>\n",
       "      <td>620.0</td>\n",
       "      <td>620.0</td>\n",
       "      <td>620.0</td>\n",
       "      <td>620.0</td>\n",
       "    </tr>\n",
       "    <tr>\n",
       "      <th>91.3</th>\n",
       "      <td>1.0</td>\n",
       "      <td>620.000000</td>\n",
       "      <td>NaN</td>\n",
       "      <td>620.0</td>\n",
       "      <td>620.0</td>\n",
       "      <td>620.0</td>\n",
       "      <td>620.0</td>\n",
       "      <td>620.0</td>\n",
       "    </tr>\n",
       "    <tr>\n",
       "      <th>92.0</th>\n",
       "      <td>1.0</td>\n",
       "      <td>690.000000</td>\n",
       "      <td>NaN</td>\n",
       "      <td>690.0</td>\n",
       "      <td>690.0</td>\n",
       "      <td>690.0</td>\n",
       "      <td>690.0</td>\n",
       "      <td>690.0</td>\n",
       "    </tr>\n",
       "    <tr>\n",
       "      <th>93.8</th>\n",
       "      <td>1.0</td>\n",
       "      <td>820.000000</td>\n",
       "      <td>NaN</td>\n",
       "      <td>820.0</td>\n",
       "      <td>820.0</td>\n",
       "      <td>820.0</td>\n",
       "      <td>820.0</td>\n",
       "      <td>820.0</td>\n",
       "    </tr>\n",
       "    <tr>\n",
       "      <th>94.0</th>\n",
       "      <td>1.0</td>\n",
       "      <td>9510.000000</td>\n",
       "      <td>NaN</td>\n",
       "      <td>9510.0</td>\n",
       "      <td>9510.0</td>\n",
       "      <td>9510.0</td>\n",
       "      <td>9510.0</td>\n",
       "      <td>9510.0</td>\n",
       "    </tr>\n",
       "    <tr>\n",
       "      <th>95.0</th>\n",
       "      <td>1.0</td>\n",
       "      <td>390.000000</td>\n",
       "      <td>NaN</td>\n",
       "      <td>390.0</td>\n",
       "      <td>390.0</td>\n",
       "      <td>390.0</td>\n",
       "      <td>390.0</td>\n",
       "      <td>390.0</td>\n",
       "    </tr>\n",
       "    <tr>\n",
       "      <th>95.1</th>\n",
       "      <td>1.0</td>\n",
       "      <td>1490.000000</td>\n",
       "      <td>NaN</td>\n",
       "      <td>1490.0</td>\n",
       "      <td>1490.0</td>\n",
       "      <td>1490.0</td>\n",
       "      <td>1490.0</td>\n",
       "      <td>1490.0</td>\n",
       "    </tr>\n",
       "    <tr>\n",
       "      <th>97.6</th>\n",
       "      <td>1.0</td>\n",
       "      <td>430.000000</td>\n",
       "      <td>NaN</td>\n",
       "      <td>430.0</td>\n",
       "      <td>430.0</td>\n",
       "      <td>430.0</td>\n",
       "      <td>430.0</td>\n",
       "      <td>430.0</td>\n",
       "    </tr>\n",
       "    <tr>\n",
       "      <th>97.9</th>\n",
       "      <td>1.0</td>\n",
       "      <td>1320.000000</td>\n",
       "      <td>NaN</td>\n",
       "      <td>1320.0</td>\n",
       "      <td>1320.0</td>\n",
       "      <td>1320.0</td>\n",
       "      <td>1320.0</td>\n",
       "      <td>1320.0</td>\n",
       "    </tr>\n",
       "    <tr>\n",
       "      <th>100.3</th>\n",
       "      <td>1.0</td>\n",
       "      <td>870.000000</td>\n",
       "      <td>NaN</td>\n",
       "      <td>870.0</td>\n",
       "      <td>870.0</td>\n",
       "      <td>870.0</td>\n",
       "      <td>870.0</td>\n",
       "      <td>870.0</td>\n",
       "    </tr>\n",
       "    <tr>\n",
       "      <th>108.0</th>\n",
       "      <td>1.0</td>\n",
       "      <td>2850.000000</td>\n",
       "      <td>NaN</td>\n",
       "      <td>2850.0</td>\n",
       "      <td>2850.0</td>\n",
       "      <td>2850.0</td>\n",
       "      <td>2850.0</td>\n",
       "      <td>2850.0</td>\n",
       "    </tr>\n",
       "    <tr>\n",
       "      <th>114.2</th>\n",
       "      <td>1.0</td>\n",
       "      <td>790.000000</td>\n",
       "      <td>NaN</td>\n",
       "      <td>790.0</td>\n",
       "      <td>790.0</td>\n",
       "      <td>790.0</td>\n",
       "      <td>790.0</td>\n",
       "      <td>790.0</td>\n",
       "    </tr>\n",
       "    <tr>\n",
       "      <th>118.8</th>\n",
       "      <td>1.0</td>\n",
       "      <td>550.000000</td>\n",
       "      <td>NaN</td>\n",
       "      <td>550.0</td>\n",
       "      <td>550.0</td>\n",
       "      <td>550.0</td>\n",
       "      <td>550.0</td>\n",
       "      <td>550.0</td>\n",
       "    </tr>\n",
       "    <tr>\n",
       "      <th>128.8</th>\n",
       "      <td>1.0</td>\n",
       "      <td>360.000000</td>\n",
       "      <td>NaN</td>\n",
       "      <td>360.0</td>\n",
       "      <td>360.0</td>\n",
       "      <td>360.0</td>\n",
       "      <td>360.0</td>\n",
       "      <td>360.0</td>\n",
       "    </tr>\n",
       "    <tr>\n",
       "      <th>130.9</th>\n",
       "      <td>1.0</td>\n",
       "      <td>880.000000</td>\n",
       "      <td>NaN</td>\n",
       "      <td>880.0</td>\n",
       "      <td>880.0</td>\n",
       "      <td>880.0</td>\n",
       "      <td>880.0</td>\n",
       "      <td>880.0</td>\n",
       "    </tr>\n",
       "    <tr>\n",
       "      <th>136.7</th>\n",
       "      <td>0.0</td>\n",
       "      <td>NaN</td>\n",
       "      <td>NaN</td>\n",
       "      <td>NaN</td>\n",
       "      <td>NaN</td>\n",
       "      <td>NaN</td>\n",
       "      <td>NaN</td>\n",
       "      <td>NaN</td>\n",
       "    </tr>\n",
       "  </tbody>\n",
       "</table>\n",
       "</div>"
      ],
      "text/plain": [
       "                 GNI_PER_CAPITA                                                \\\n",
       "                          count          mean           std      min      25%   \n",
       "Infant_Mortality                                                                \n",
       "2.2                         1.0  50260.000000           NaN  50260.0  50260.0   \n",
       "2.4                         2.0  34390.000000  17168.552647  22250.0  28320.0   \n",
       "2.5                         1.0  73530.000000           NaN  73530.0  73530.0   \n",
       "2.7                         3.0  57470.000000  34270.691560  25810.0  39275.0   \n",
       "2.8                         0.0           NaN           NaN      NaN      NaN   \n",
       "2.9                         1.0  57760.000000           NaN  57760.0  57760.0   \n",
       "3.0                         1.0  38780.000000           NaN  38780.0  38780.0   \n",
       "3.1                         1.0  18300.000000           NaN  18300.0  18300.0   \n",
       "3.2                         1.0  18130.000000           NaN  18130.0  18130.0   \n",
       "3.4                         2.0  30695.000000   3217.335854  28420.0  29557.5   \n",
       "3.5                         2.0  23845.000000   4815.397180  20440.0  22142.5   \n",
       "3.6                         1.0  47610.000000           NaN  47610.0  47610.0   \n",
       "3.7                         1.0  51290.000000           NaN  51290.0  51290.0   \n",
       "3.8                         3.0  38893.333333  20177.636961  20270.0  28175.0   \n",
       "3.9                         3.0  45183.333333   4183.124829  40730.0  43260.0   \n",
       "4.0                         2.0  25530.000000  26601.357108   6720.0  16125.0   \n",
       "4.1                         2.0  45925.000000  54652.283118   7280.0  26602.5   \n",
       "4.3                         1.0  60300.000000           NaN  60300.0  60300.0   \n",
       "4.4                         1.0  43720.000000           NaN  43720.0  43720.0   \n",
       "4.8                         1.0  12810.000000           NaN  12810.0  12810.0   \n",
       "4.9                         1.0  13340.000000           NaN  13340.0  13340.0   \n",
       "5.0                         1.0  14970.000000           NaN  14970.0  14970.0   \n",
       "5.1                         2.0  31185.000000  22719.340880  15120.0  23152.5   \n",
       "5.4                         1.0  12960.000000           NaN  12960.0  12960.0   \n",
       "5.6                         1.0  40250.000000           NaN  40250.0  40250.0   \n",
       "6.0                         1.0  17560.000000           NaN  17560.0  17560.0   \n",
       "6.1                         1.0   5050.000000           NaN   5050.0   5050.0   \n",
       "6.2                         1.0   5540.000000           NaN   5540.0   5540.0   \n",
       "6.6                         1.0  56250.000000           NaN  56250.0  56250.0   \n",
       "6.9                         1.0  24780.000000           NaN  24780.0  24780.0   \n",
       "7.7                         1.0  22660.000000           NaN  22660.0  22660.0   \n",
       "7.8                         1.0  42910.000000           NaN  42910.0  42910.0   \n",
       "8.0                         1.0  11660.000000           NaN  11660.0  11660.0   \n",
       "8.2                         2.0   8965.000000   2100.107140   7480.0   8222.5   \n",
       "8.4                         2.0  11195.000000   4447.701654   8050.0   9622.5   \n",
       "8.6                         1.0  75660.000000           NaN  75660.0  75660.0   \n",
       "8.7                         2.0  26800.000000  19728.279195  12850.0  19825.0   \n",
       "9.0                         1.0   9880.000000           NaN   9880.0   9880.0   \n",
       "9.1                         1.0  10570.000000           NaN  10570.0  10570.0   \n",
       "9.2                         1.0   9530.000000           NaN   9530.0   9530.0   \n",
       "9.3                         1.0  15830.000000           NaN  15830.0  15830.0   \n",
       "9.4                         1.0   2650.000000           NaN   2650.0   2650.0   \n",
       "9.6                         1.0   3750.000000           NaN   3750.0   3750.0   \n",
       "9.7                         1.0  15450.000000           NaN  15450.0  15450.0   \n",
       "10.0                        1.0  38590.000000           NaN  38590.0  38590.0   \n",
       "10.7                        1.0   7950.000000           NaN   7950.0   7950.0   \n",
       "10.9                        1.0  18080.000000           NaN  18080.0  18080.0   \n",
       "11.0                        1.0  26130.000000           NaN  26130.0  26130.0   \n",
       "11.4                        1.0   4120.000000           NaN   4120.0   4120.0   \n",
       "11.6                        1.0  12430.000000           NaN  12430.0  12430.0   \n",
       "12.0                        1.0   5100.000000           NaN   5100.0   5100.0   \n",
       "12.6                        3.0  10803.333333   4838.608615   5690.0   8550.0   \n",
       "13.3                        1.0  23860.000000           NaN  23860.0  23860.0   \n",
       "13.4                        0.0           NaN           NaN      NaN      NaN   \n",
       "13.6                        1.0  12000.000000           NaN  12000.0  12000.0   \n",
       "13.7                        1.0   8180.000000           NaN   8180.0   8180.0   \n",
       "14.0                        3.0   4083.333333    185.831465   3930.0   3980.0   \n",
       "14.3                        1.0   9780.000000           NaN   9780.0   9780.0   \n",
       "14.5                        1.0  14680.000000           NaN  14680.0  14680.0   \n",
       "15.0                        1.0   9830.000000           NaN   9830.0   9830.0   \n",
       "15.5                        1.0   3840.000000           NaN   3840.0   3840.0   \n",
       "15.6                        1.0   4510.000000           NaN   4510.0   4510.0   \n",
       "15.7                        2.0   7710.000000   3351.686143   5340.0   6525.0   \n",
       "15.8                        3.0   6853.333333   1999.408246   4730.0   5930.0   \n",
       "16.0                        1.0   6150.000000           NaN   6150.0   6150.0   \n",
       "16.2                        1.0   2230.000000           NaN   2230.0   2230.0   \n",
       "16.4                        1.0  11530.000000           NaN  11530.0  11530.0   \n",
       "16.6                        0.0           NaN           NaN      NaN      NaN   \n",
       "16.8                        1.0   4280.000000           NaN   4280.0   4280.0   \n",
       "16.9                        1.0  11730.000000           NaN  11730.0  11730.0   \n",
       "17.2                        1.0   6670.000000           NaN   6670.0   6670.0   \n",
       "17.4                        0.0           NaN           NaN      NaN      NaN   \n",
       "17.7                        1.0   4070.000000           NaN   4070.0   4070.0   \n",
       "18.1                        1.0   3890.000000           NaN   3890.0   3890.0   \n",
       "18.8                        1.0   3850.000000           NaN   3850.0   3850.0   \n",
       "19.1                        1.0  17640.000000           NaN  17640.0  17640.0   \n",
       "19.4                        1.0   2090.000000           NaN   2090.0   2090.0   \n",
       "20.0                        1.0   3260.000000           NaN   3260.0   3260.0   \n",
       "20.3                        1.0   2010.000000           NaN   2010.0   2010.0   \n",
       "20.6                        2.0   6520.000000   3266.833329   4210.0   5365.0   \n",
       "21.1                        0.0           NaN           NaN      NaN      NaN   \n",
       "21.5                        1.0   6000.000000           NaN   6000.0   6000.0   \n",
       "22.0                        1.0   1990.000000           NaN   1990.0   1990.0   \n",
       "22.2                        1.0   3150.000000           NaN   3150.0   3150.0   \n",
       "22.3                        1.0   1180.000000           NaN   1180.0   1180.0   \n",
       "22.5                        1.0   4780.000000           NaN   4780.0   4780.0   \n",
       "23.7                        1.0   3310.000000           NaN   3310.0   3310.0   \n",
       "25.5                        1.0   4800.000000           NaN   4800.0   4800.0   \n",
       "25.8                        1.0   2170.000000           NaN   2170.0   2170.0   \n",
       "26.2                        1.0   5620.000000           NaN   5620.0   5620.0   \n",
       "26.3                        1.0   1910.000000           NaN   1910.0   1910.0   \n",
       "27.3                        1.0   3440.000000           NaN   3440.0   3440.0   \n",
       "28.0                        2.0   3260.000000    367.695526   3000.0   3130.0   \n",
       "28.2                        0.0           NaN           NaN      NaN      NaN   \n",
       "29.5                        1.0   3610.000000           NaN   3610.0   3610.0   \n",
       "31.5                        1.0   6240.000000           NaN   6240.0   6240.0   \n",
       "32.0                        2.0   3810.000000   3874.945161   1070.0   2440.0   \n",
       "32.2                        1.0   5960.000000           NaN   5960.0   5960.0   \n",
       "33.0                        1.0   6760.000000           NaN   6760.0   6760.0   \n",
       "33.4                        1.0   4060.000000           NaN   4060.0   4060.0   \n",
       "33.6                        1.0   2340.000000           NaN   2340.0   2340.0   \n",
       "34.3                        1.0   3640.000000           NaN   3640.0   3640.0   \n",
       "35.2                        1.0   1690.000000           NaN   1690.0   1690.0   \n",
       "35.6                        1.0  11850.000000           NaN  11850.0  11850.0   \n",
       "36.1                        1.0    740.000000           NaN    740.0    740.0   \n",
       "36.3                        1.0   1190.000000           NaN   1190.0   1190.0   \n",
       "36.4                        1.0   4720.000000           NaN   4720.0   4720.0   \n",
       "38.2                        1.0   3000.000000           NaN   3000.0   3000.0   \n",
       "40.5                        1.0    710.000000           NaN    710.0    710.0   \n",
       "42.1                        1.0   6680.000000           NaN   6680.0   6680.0   \n",
       "44.1                        1.0   6100.000000           NaN   6100.0   6100.0   \n",
       "44.5                        1.0   1240.000000           NaN   1240.0   1240.0   \n",
       "45.2                        1.0   1600.000000           NaN   1600.0   1600.0   \n",
       "45.9                        0.0           NaN           NaN      NaN      NaN   \n",
       "48.0                        1.0   5280.000000           NaN   5280.0   5280.0   \n",
       "48.4                        1.0    420.000000           NaN    420.0    420.0   \n",
       "49.5                        1.0    980.000000           NaN    980.0    980.0   \n",
       "50.6                        1.0   8010.000000           NaN   8010.0   8010.0   \n",
       "51.0                        1.0   1310.000000           NaN   1310.0   1310.0   \n",
       "51.6                        1.0   2220.000000           NaN   2220.0   2220.0   \n",
       "52.6                        1.0   7120.000000           NaN   7120.0   7120.0   \n",
       "52.7                        1.0   1190.000000           NaN   1190.0   1190.0   \n",
       "55.3                        1.0   1140.000000           NaN   1140.0   1140.0   \n",
       "55.4                        1.0   2350.000000           NaN   2350.0   2350.0   \n",
       "55.9                        2.0   2010.000000   1895.046174    670.0   1340.0   \n",
       "56.2                        1.0   2920.000000           NaN   2920.0   2920.0   \n",
       "58.8                        1.0    910.000000           NaN    910.0    910.0   \n",
       "59.1                        1.0    340.000000           NaN    340.0    340.0   \n",
       "59.9                        1.0    890.000000           NaN    890.0    890.0   \n",
       "61.0                        1.0   1470.000000           NaN   1470.0   1470.0   \n",
       "61.3                        1.0    600.000000           NaN    600.0    600.0   \n",
       "66.1                        2.0   1780.000000    311.126984   1560.0   1670.0   \n",
       "66.2                        0.0           NaN           NaN      NaN      NaN   \n",
       "67.1                        1.0   2000.000000           NaN   2000.0   2000.0   \n",
       "67.5                        1.0    440.000000           NaN    440.0    440.0   \n",
       "68.9                        1.0    810.000000           NaN    810.0    810.0   \n",
       "70.1                        1.0    380.000000           NaN    380.0    380.0   \n",
       "71.3                        1.0   3280.000000           NaN   3280.0   3280.0   \n",
       "73.2                        1.0    590.000000           NaN    590.0    590.0   \n",
       "74.6                        1.0    280.000000           NaN    280.0    280.0   \n",
       "75.1                        1.0    580.000000           NaN    580.0    580.0   \n",
       "75.8                        1.0    790.000000           NaN    790.0    790.0   \n",
       "78.0                        1.0    540.000000           NaN    540.0    540.0   \n",
       "81.0                        1.0   1430.000000           NaN   1430.0   1430.0   \n",
       "83.3                        1.0   1470.000000           NaN   1470.0   1470.0   \n",
       "83.9                        1.0   1230.000000           NaN   1230.0   1230.0   \n",
       "86.5                        1.0   4040.000000           NaN   4040.0   4040.0   \n",
       "88.5                        1.0    620.000000           NaN    620.0    620.0   \n",
       "91.3                        1.0    620.000000           NaN    620.0    620.0   \n",
       "92.0                        1.0    690.000000           NaN    690.0    690.0   \n",
       "93.8                        1.0    820.000000           NaN    820.0    820.0   \n",
       "94.0                        1.0   9510.000000           NaN   9510.0   9510.0   \n",
       "95.0                        1.0    390.000000           NaN    390.0    390.0   \n",
       "95.1                        1.0   1490.000000           NaN   1490.0   1490.0   \n",
       "97.6                        1.0    430.000000           NaN    430.0    430.0   \n",
       "97.9                        1.0   1320.000000           NaN   1320.0   1320.0   \n",
       "100.3                       1.0    870.000000           NaN    870.0    870.0   \n",
       "108.0                       1.0   2850.000000           NaN   2850.0   2850.0   \n",
       "114.2                       1.0    790.000000           NaN    790.0    790.0   \n",
       "118.8                       1.0    550.000000           NaN    550.0    550.0   \n",
       "128.8                       1.0    360.000000           NaN    360.0    360.0   \n",
       "130.9                       1.0    880.000000           NaN    880.0    880.0   \n",
       "136.7                       0.0           NaN           NaN      NaN      NaN   \n",
       "\n",
       "                                             \n",
       "                      50%      75%      max  \n",
       "Infant_Mortality                             \n",
       "2.2               50260.0  50260.0  50260.0  \n",
       "2.4               34390.0  40460.0  46530.0  \n",
       "2.5               73530.0  73530.0  73530.0  \n",
       "2.7               52740.0  73300.0  93860.0  \n",
       "2.8                   NaN      NaN      NaN  \n",
       "2.9               57760.0  57760.0  57760.0  \n",
       "3.0               38780.0  38780.0  38780.0  \n",
       "3.1               18300.0  18300.0  18300.0  \n",
       "3.2               18130.0  18130.0  18130.0  \n",
       "3.4               30695.0  31832.5  32970.0  \n",
       "3.5               23845.0  25547.5  27250.0  \n",
       "3.6               47610.0  47610.0  47610.0  \n",
       "3.7               51290.0  51290.0  51290.0  \n",
       "3.8               36080.0  48205.0  60330.0  \n",
       "3.9               45790.0  47410.0  49030.0  \n",
       "4.0               25530.0  34935.0  44340.0  \n",
       "4.1               45925.0  65247.5  84570.0  \n",
       "4.3               60300.0  60300.0  60300.0  \n",
       "4.4               43720.0  43720.0  43720.0  \n",
       "4.8               12810.0  12810.0  12810.0  \n",
       "4.9               13340.0  13340.0  13340.0  \n",
       "5.0               14970.0  14970.0  14970.0  \n",
       "5.1               31185.0  39217.5  47250.0  \n",
       "5.4               12960.0  12960.0  12960.0  \n",
       "5.6               40250.0  40250.0  40250.0  \n",
       "6.0               17560.0  17560.0  17560.0  \n",
       "6.1                5050.0   5050.0   5050.0  \n",
       "6.2                5540.0   5540.0   5540.0  \n",
       "6.6               56250.0  56250.0  56250.0  \n",
       "6.9               24780.0  24780.0  24780.0  \n",
       "7.7               22660.0  22660.0  22660.0  \n",
       "7.8               42910.0  42910.0  42910.0  \n",
       "8.0               11660.0  11660.0  11660.0  \n",
       "8.2                8965.0   9707.5  10450.0  \n",
       "8.4               11195.0  12767.5  14340.0  \n",
       "8.6               75660.0  75660.0  75660.0  \n",
       "8.7               26800.0  33775.0  40750.0  \n",
       "9.0                9880.0   9880.0   9880.0  \n",
       "9.1               10570.0  10570.0  10570.0  \n",
       "9.2                9530.0   9530.0   9530.0  \n",
       "9.3               15830.0  15830.0  15830.0  \n",
       "9.4                2650.0   2650.0   2650.0  \n",
       "9.6                3750.0   3750.0   3750.0  \n",
       "9.7               15450.0  15450.0  15450.0  \n",
       "10.0              38590.0  38590.0  38590.0  \n",
       "10.7               7950.0   7950.0   7950.0  \n",
       "10.9              18080.0  18080.0  18080.0  \n",
       "11.0              26130.0  26130.0  26130.0  \n",
       "11.4               4120.0   4120.0   4120.0  \n",
       "11.6              12430.0  12430.0  12430.0  \n",
       "12.0               5100.0   5100.0   5100.0  \n",
       "12.6              11410.0  13360.0  15310.0  \n",
       "13.3              23860.0  23860.0  23860.0  \n",
       "13.4                  NaN      NaN      NaN  \n",
       "13.6              12000.0  12000.0  12000.0  \n",
       "13.7               8180.0   8180.0   8180.0  \n",
       "14.0               4030.0   4160.0   4290.0  \n",
       "14.3               9780.0   9780.0   9780.0  \n",
       "14.5              14680.0  14680.0  14680.0  \n",
       "15.0               9830.0   9830.0   9830.0  \n",
       "15.5               3840.0   3840.0   3840.0  \n",
       "15.6               4510.0   4510.0   4510.0  \n",
       "15.7               7710.0   8895.0  10080.0  \n",
       "15.8               7130.0   7915.0   8700.0  \n",
       "16.0               6150.0   6150.0   6150.0  \n",
       "16.2               2230.0   2230.0   2230.0  \n",
       "16.4              11530.0  11530.0  11530.0  \n",
       "16.6                  NaN      NaN      NaN  \n",
       "16.8               4280.0   4280.0   4280.0  \n",
       "16.9              11730.0  11730.0  11730.0  \n",
       "17.2               6670.0   6670.0   6670.0  \n",
       "17.4                  NaN      NaN      NaN  \n",
       "17.7               4070.0   4070.0   4070.0  \n",
       "18.1               3890.0   3890.0   3890.0  \n",
       "18.8               3850.0   3850.0   3850.0  \n",
       "19.1              17640.0  17640.0  17640.0  \n",
       "19.4               2090.0   2090.0   2090.0  \n",
       "20.0               3260.0   3260.0   3260.0  \n",
       "20.3               2010.0   2010.0   2010.0  \n",
       "20.6               6520.0   7675.0   8830.0  \n",
       "21.1                  NaN      NaN      NaN  \n",
       "21.5               6000.0   6000.0   6000.0  \n",
       "22.0               1990.0   1990.0   1990.0  \n",
       "22.2               3150.0   3150.0   3150.0  \n",
       "22.3               1180.0   1180.0   1180.0  \n",
       "22.5               4780.0   4780.0   4780.0  \n",
       "23.7               3310.0   3310.0   3310.0  \n",
       "25.5               4800.0   4800.0   4800.0  \n",
       "25.8               2170.0   2170.0   2170.0  \n",
       "26.2               5620.0   5620.0   5620.0  \n",
       "26.3               1910.0   1910.0   1910.0  \n",
       "27.3               3440.0   3440.0   3440.0  \n",
       "28.0               3260.0   3390.0   3520.0  \n",
       "28.2                  NaN      NaN      NaN  \n",
       "29.5               3610.0   3610.0   3610.0  \n",
       "31.5               6240.0   6240.0   6240.0  \n",
       "32.0               3810.0   5180.0   6550.0  \n",
       "32.2               5960.0   5960.0   5960.0  \n",
       "33.0               6760.0   6760.0   6760.0  \n",
       "33.4               4060.0   4060.0   4060.0  \n",
       "33.6               2340.0   2340.0   2340.0  \n",
       "34.3               3640.0   3640.0   3640.0  \n",
       "35.2               1690.0   1690.0   1690.0  \n",
       "35.6              11850.0  11850.0  11850.0  \n",
       "36.1                740.0    740.0    740.0  \n",
       "36.3               1190.0   1190.0   1190.0  \n",
       "36.4               4720.0   4720.0   4720.0  \n",
       "38.2               3000.0   3000.0   3000.0  \n",
       "40.5                710.0    710.0    710.0  \n",
       "42.1               6680.0   6680.0   6680.0  \n",
       "44.1               6100.0   6100.0   6100.0  \n",
       "44.5               1240.0   1240.0   1240.0  \n",
       "45.2               1600.0   1600.0   1600.0  \n",
       "45.9                  NaN      NaN      NaN  \n",
       "48.0               5280.0   5280.0   5280.0  \n",
       "48.4                420.0    420.0    420.0  \n",
       "49.5                980.0    980.0    980.0  \n",
       "50.6               8010.0   8010.0   8010.0  \n",
       "51.0               1310.0   1310.0   1310.0  \n",
       "51.6               2220.0   2220.0   2220.0  \n",
       "52.6               7120.0   7120.0   7120.0  \n",
       "52.7               1190.0   1190.0   1190.0  \n",
       "55.3               1140.0   1140.0   1140.0  \n",
       "55.4               2350.0   2350.0   2350.0  \n",
       "55.9               2010.0   2680.0   3350.0  \n",
       "56.2               2920.0   2920.0   2920.0  \n",
       "58.8                910.0    910.0    910.0  \n",
       "59.1                340.0    340.0    340.0  \n",
       "59.9                890.0    890.0    890.0  \n",
       "61.0               1470.0   1470.0   1470.0  \n",
       "61.3                600.0    600.0    600.0  \n",
       "66.1               1780.0   1890.0   2000.0  \n",
       "66.2                  NaN      NaN      NaN  \n",
       "67.1               2000.0   2000.0   2000.0  \n",
       "67.5                440.0    440.0    440.0  \n",
       "68.9                810.0    810.0    810.0  \n",
       "70.1                380.0    380.0    380.0  \n",
       "71.3               3280.0   3280.0   3280.0  \n",
       "73.2                590.0    590.0    590.0  \n",
       "74.6                280.0    280.0    280.0  \n",
       "75.1                580.0    580.0    580.0  \n",
       "75.8                790.0    790.0    790.0  \n",
       "78.0                540.0    540.0    540.0  \n",
       "81.0               1430.0   1430.0   1430.0  \n",
       "83.3               1470.0   1470.0   1470.0  \n",
       "83.9               1230.0   1230.0   1230.0  \n",
       "86.5               4040.0   4040.0   4040.0  \n",
       "88.5                620.0    620.0    620.0  \n",
       "91.3                620.0    620.0    620.0  \n",
       "92.0                690.0    690.0    690.0  \n",
       "93.8                820.0    820.0    820.0  \n",
       "94.0               9510.0   9510.0   9510.0  \n",
       "95.0                390.0    390.0    390.0  \n",
       "95.1               1490.0   1490.0   1490.0  \n",
       "97.6                430.0    430.0    430.0  \n",
       "97.9               1320.0   1320.0   1320.0  \n",
       "100.3               870.0    870.0    870.0  \n",
       "108.0              2850.0   2850.0   2850.0  \n",
       "114.2               790.0    790.0    790.0  \n",
       "118.8               550.0    550.0    550.0  \n",
       "128.8               360.0    360.0    360.0  \n",
       "130.9               880.0    880.0    880.0  \n",
       "136.7                 NaN      NaN      NaN  "
      ]
     },
     "execution_count": 21,
     "metadata": {},
     "output_type": "execute_result"
    }
   ],
   "source": [
    "dfMortality.groupby(\"Infant_Mortality\").describe().unstack()"
   ]
  },
  {
   "cell_type": "markdown",
   "metadata": {},
   "source": [
    "## Obtaining descriptive statistics with different percentile"
   ]
  },
  {
   "cell_type": "code",
   "execution_count": 23,
   "metadata": {
    "collapsed": false
   },
   "outputs": [
    {
     "data": {
      "text/html": [
       "<div>\n",
       "<table border=\"1\" class=\"dataframe\">\n",
       "  <thead>\n",
       "    <tr style=\"text-align: right;\">\n",
       "      <th></th>\n",
       "      <th>Literacy_Rate</th>\n",
       "    </tr>\n",
       "  </thead>\n",
       "  <tbody>\n",
       "    <tr>\n",
       "      <th>count</th>\n",
       "      <td>147.000000</td>\n",
       "    </tr>\n",
       "    <tr>\n",
       "      <th>mean</th>\n",
       "      <td>82.469388</td>\n",
       "    </tr>\n",
       "    <tr>\n",
       "      <th>std</th>\n",
       "      <td>18.555473</td>\n",
       "    </tr>\n",
       "    <tr>\n",
       "      <th>min</th>\n",
       "      <td>29.000000</td>\n",
       "    </tr>\n",
       "    <tr>\n",
       "      <th>25%</th>\n",
       "      <td>71.000000</td>\n",
       "    </tr>\n",
       "    <tr>\n",
       "      <th>33%</th>\n",
       "      <td>78.000000</td>\n",
       "    </tr>\n",
       "    <tr>\n",
       "      <th>50%</th>\n",
       "      <td>90.000000</td>\n",
       "    </tr>\n",
       "    <tr>\n",
       "      <th>66%</th>\n",
       "      <td>95.000000</td>\n",
       "    </tr>\n",
       "    <tr>\n",
       "      <th>75%</th>\n",
       "      <td>98.000000</td>\n",
       "    </tr>\n",
       "    <tr>\n",
       "      <th>95%</th>\n",
       "      <td>100.000000</td>\n",
       "    </tr>\n",
       "    <tr>\n",
       "      <th>99%</th>\n",
       "      <td>100.000000</td>\n",
       "    </tr>\n",
       "    <tr>\n",
       "      <th>max</th>\n",
       "      <td>100.000000</td>\n",
       "    </tr>\n",
       "  </tbody>\n",
       "</table>\n",
       "</div>"
      ],
      "text/plain": [
       "       Literacy_Rate\n",
       "count     147.000000\n",
       "mean       82.469388\n",
       "std        18.555473\n",
       "min        29.000000\n",
       "25%        71.000000\n",
       "33%        78.000000\n",
       "50%        90.000000\n",
       "66%        95.000000\n",
       "75%        98.000000\n",
       "95%       100.000000\n",
       "99%       100.000000\n",
       "max       100.000000"
      ]
     },
     "execution_count": 23,
     "metadata": {},
     "output_type": "execute_result"
    }
   ],
   "source": [
    "dfRate.describe(percentiles=[0.25,0.33,0.66,0.50,0.75,0.95,0.99])"
   ]
  },
  {
   "cell_type": "code",
   "execution_count": 24,
   "metadata": {
    "collapsed": false
   },
   "outputs": [
    {
     "data": {
      "text/html": [
       "<div>\n",
       "<table border=\"1\" class=\"dataframe\">\n",
       "  <thead>\n",
       "    <tr style=\"text-align: right;\">\n",
       "      <th></th>\n",
       "      <th>GNI_PER_CAPITA</th>\n",
       "      <th>Infant_Mortality</th>\n",
       "    </tr>\n",
       "  </thead>\n",
       "  <tbody>\n",
       "    <tr>\n",
       "      <th>count</th>\n",
       "      <td>185.000000</td>\n",
       "      <td>193.000000</td>\n",
       "    </tr>\n",
       "    <tr>\n",
       "      <th>mean</th>\n",
       "      <td>13834.108108</td>\n",
       "      <td>31.427979</td>\n",
       "    </tr>\n",
       "    <tr>\n",
       "      <th>std</th>\n",
       "      <td>19036.340801</td>\n",
       "      <td>31.317277</td>\n",
       "    </tr>\n",
       "    <tr>\n",
       "      <th>min</th>\n",
       "      <td>280.000000</td>\n",
       "      <td>2.200000</td>\n",
       "    </tr>\n",
       "    <tr>\n",
       "      <th>25%</th>\n",
       "      <td>2000.000000</td>\n",
       "      <td>8.200000</td>\n",
       "    </tr>\n",
       "    <tr>\n",
       "      <th>33%</th>\n",
       "      <td>3229.200000</td>\n",
       "      <td>10.772000</td>\n",
       "    </tr>\n",
       "    <tr>\n",
       "      <th>50%</th>\n",
       "      <td>5540.000000</td>\n",
       "      <td>17.400000</td>\n",
       "    </tr>\n",
       "    <tr>\n",
       "      <th>66%</th>\n",
       "      <td>10502.800000</td>\n",
       "      <td>33.288000</td>\n",
       "    </tr>\n",
       "    <tr>\n",
       "      <th>75%</th>\n",
       "      <td>15310.000000</td>\n",
       "      <td>49.500000</td>\n",
       "    </tr>\n",
       "    <tr>\n",
       "      <th>95%</th>\n",
       "      <td>55548.000000</td>\n",
       "      <td>95.040000</td>\n",
       "    </tr>\n",
       "    <tr>\n",
       "      <th>99%</th>\n",
       "      <td>82957.200000</td>\n",
       "      <td>128.968000</td>\n",
       "    </tr>\n",
       "    <tr>\n",
       "      <th>max</th>\n",
       "      <td>93860.000000</td>\n",
       "      <td>136.700000</td>\n",
       "    </tr>\n",
       "  </tbody>\n",
       "</table>\n",
       "</div>"
      ],
      "text/plain": [
       "       GNI_PER_CAPITA  Infant_Mortality\n",
       "count      185.000000        193.000000\n",
       "mean     13834.108108         31.427979\n",
       "std      19036.340801         31.317277\n",
       "min        280.000000          2.200000\n",
       "25%       2000.000000          8.200000\n",
       "33%       3229.200000         10.772000\n",
       "50%       5540.000000         17.400000\n",
       "66%      10502.800000         33.288000\n",
       "75%      15310.000000         49.500000\n",
       "95%      55548.000000         95.040000\n",
       "99%      82957.200000        128.968000\n",
       "max      93860.000000        136.700000"
      ]
     },
     "execution_count": 24,
     "metadata": {},
     "output_type": "execute_result"
    }
   ],
   "source": [
    "dfMortality.describe(percentiles=[0.25,0.33,0.66,0.50,0.75,0.95,0.99])"
   ]
  },
  {
   "cell_type": "markdown",
   "metadata": {},
   "source": [
    "## Find the top five literacy rate"
   ]
  },
  {
   "cell_type": "code",
   "execution_count": 25,
   "metadata": {
    "collapsed": true
   },
   "outputs": [],
   "source": [
    "TopfiveLiteracyRates= dfRate.nlargest(5,'Literacy_Rate')"
   ]
  },
  {
   "cell_type": "code",
   "execution_count": 28,
   "metadata": {
    "collapsed": false
   },
   "outputs": [
    {
     "data": {
      "text/html": [
       "<div>\n",
       "<table border=\"1\" class=\"dataframe\">\n",
       "  <thead>\n",
       "    <tr style=\"text-align: right;\">\n",
       "      <th></th>\n",
       "      <th>Country</th>\n",
       "      <th>Literacy_Rate</th>\n",
       "    </tr>\n",
       "  </thead>\n",
       "  <tbody>\n",
       "    <tr>\n",
       "      <th>5</th>\n",
       "      <td>Armenia</td>\n",
       "      <td>100</td>\n",
       "    </tr>\n",
       "    <tr>\n",
       "      <th>6</th>\n",
       "      <td>Azerbaijan</td>\n",
       "      <td>100</td>\n",
       "    </tr>\n",
       "    <tr>\n",
       "      <th>9</th>\n",
       "      <td>Belarus</td>\n",
       "      <td>100</td>\n",
       "    </tr>\n",
       "    <tr>\n",
       "      <th>33</th>\n",
       "      <td>Cuba</td>\n",
       "      <td>100</td>\n",
       "    </tr>\n",
       "    <tr>\n",
       "      <th>35</th>\n",
       "      <td>Democratic People's Republic of Korea</td>\n",
       "      <td>100</td>\n",
       "    </tr>\n",
       "    <tr>\n",
       "      <th>45</th>\n",
       "      <td>Estonia</td>\n",
       "      <td>100</td>\n",
       "    </tr>\n",
       "    <tr>\n",
       "      <th>49</th>\n",
       "      <td>Georgia</td>\n",
       "      <td>100</td>\n",
       "    </tr>\n",
       "  </tbody>\n",
       "</table>\n",
       "</div>"
      ],
      "text/plain": [
       "                                  Country  Literacy_Rate\n",
       "5                                 Armenia            100\n",
       "6                              Azerbaijan            100\n",
       "9                                 Belarus            100\n",
       "33                                   Cuba            100\n",
       "35  Democratic People's Republic of Korea            100\n",
       "45                                Estonia            100\n",
       "49                                Georgia            100"
      ]
     },
     "execution_count": 28,
     "metadata": {},
     "output_type": "execute_result"
    }
   ],
   "source": [
    "TopfiveLiteracyRates.head(7)"
   ]
  },
  {
   "cell_type": "markdown",
   "metadata": {},
   "source": [
    "## Find the bottom five literacy rates"
   ]
  },
  {
   "cell_type": "code",
   "execution_count": 30,
   "metadata": {
    "collapsed": false
   },
   "outputs": [],
   "source": [
    "BottomfiveLiteracyRates= dfRate.nsmallest(5,'Literacy_Rate')"
   ]
  },
  {
   "cell_type": "code",
   "execution_count": 31,
   "metadata": {
    "collapsed": false
   },
   "outputs": [
    {
     "data": {
      "text/html": [
       "<div>\n",
       "<table border=\"1\" class=\"dataframe\">\n",
       "  <thead>\n",
       "    <tr style=\"text-align: right;\">\n",
       "      <th></th>\n",
       "      <th>Country</th>\n",
       "      <th>Literacy_Rate</th>\n",
       "    </tr>\n",
       "  </thead>\n",
       "  <tbody>\n",
       "    <tr>\n",
       "      <th>18</th>\n",
       "      <td>Burkina Faso</td>\n",
       "      <td>29</td>\n",
       "    </tr>\n",
       "    <tr>\n",
       "      <th>93</th>\n",
       "      <td>Niger</td>\n",
       "      <td>29</td>\n",
       "    </tr>\n",
       "    <tr>\n",
       "      <th>18</th>\n",
       "      <td>Burkina Faso</td>\n",
       "      <td>29</td>\n",
       "    </tr>\n",
       "    <tr>\n",
       "      <th>93</th>\n",
       "      <td>Niger</td>\n",
       "      <td>29</td>\n",
       "    </tr>\n",
       "    <tr>\n",
       "      <th>80</th>\n",
       "      <td>Mali</td>\n",
       "      <td>31</td>\n",
       "    </tr>\n",
       "    <tr>\n",
       "      <th>25</th>\n",
       "      <td>Chad</td>\n",
       "      <td>34</td>\n",
       "    </tr>\n",
       "    <tr>\n",
       "      <th>46</th>\n",
       "      <td>Ethiopia</td>\n",
       "      <td>39</td>\n",
       "    </tr>\n",
       "  </tbody>\n",
       "</table>\n",
       "</div>"
      ],
      "text/plain": [
       "         Country  Literacy_Rate\n",
       "18  Burkina Faso             29\n",
       "93         Niger             29\n",
       "18  Burkina Faso             29\n",
       "93         Niger             29\n",
       "80          Mali             31\n",
       "25          Chad             34\n",
       "46      Ethiopia             39"
      ]
     },
     "execution_count": 31,
     "metadata": {},
     "output_type": "execute_result"
    }
   ],
   "source": [
    "BottomfiveLiteracyRates.head(7)"
   ]
  },
  {
   "cell_type": "markdown",
   "metadata": {},
   "source": [
    "## Measure of center of the data"
   ]
  },
  {
   "cell_type": "markdown",
   "metadata": {},
   "source": [
    "## Sample Mean"
   ]
  },
  {
   "cell_type": "code",
   "execution_count": 36,
   "metadata": {
    "collapsed": false
   },
   "outputs": [
    {
     "name": "stdout",
     "output_type": "stream",
     "text": [
      "The mean is  82.47\n"
     ]
    }
   ],
   "source": [
    "Mean=dfRate['Literacy_Rate'].mean()\n",
    "print(\"The mean is \",round(Mean,2))"
   ]
  },
  {
   "cell_type": "code",
   "execution_count": 37,
   "metadata": {
    "collapsed": false
   },
   "outputs": [
    {
     "name": "stdout",
     "output_type": "stream",
     "text": [
      "82.46938775510205\n"
     ]
    }
   ],
   "source": [
    "print(Mean)"
   ]
  },
  {
   "cell_type": "code",
   "execution_count": 38,
   "metadata": {
    "collapsed": false
   },
   "outputs": [
    {
     "data": {
      "text/plain": [
       "82.46938775510205"
      ]
     },
     "execution_count": 38,
     "metadata": {},
     "output_type": "execute_result"
    }
   ],
   "source": [
    "Mean"
   ]
  },
  {
   "cell_type": "markdown",
   "metadata": {},
   "source": [
    "## The Sample Median"
   ]
  },
  {
   "cell_type": "code",
   "execution_count": 40,
   "metadata": {
    "collapsed": false
   },
   "outputs": [
    {
     "name": "stdout",
     "output_type": "stream",
     "text": [
      "The median is  90.0\n"
     ]
    }
   ],
   "source": [
    "Median=dfRate['Literacy_Rate'].median()\n",
    "print(\"The median is \",round(Median,2))"
   ]
  },
  {
   "cell_type": "code",
   "execution_count": 41,
   "metadata": {
    "collapsed": false
   },
   "outputs": [
    {
     "data": {
      "text/plain": [
       "90.0"
      ]
     },
     "execution_count": 41,
     "metadata": {},
     "output_type": "execute_result"
    }
   ],
   "source": [
    "Median"
   ]
  },
  {
   "cell_type": "markdown",
   "metadata": {},
   "source": [
    "## Measure of spread or variation of data"
   ]
  },
  {
   "cell_type": "markdown",
   "metadata": {},
   "source": [
    "## Mean Absolute Deviation"
   ]
  },
  {
   "cell_type": "code",
   "execution_count": 43,
   "metadata": {
    "collapsed": false
   },
   "outputs": [
    {
     "name": "stdout",
     "output_type": "stream",
     "text": [
      "The MAD value is  15.52\n"
     ]
    }
   ],
   "source": [
    "Mad=dfRate['Literacy_Rate'].mad()\n",
    "print(\"The MAD value is \",round(Mad,2))"
   ]
  },
  {
   "cell_type": "markdown",
   "metadata": {},
   "source": [
    "## Sample Variance"
   ]
  },
  {
   "cell_type": "code",
   "execution_count": 44,
   "metadata": {
    "collapsed": false
   },
   "outputs": [
    {
     "name": "stdout",
     "output_type": "stream",
     "text": [
      "The sample VAR value is  344.31\n"
     ]
    }
   ],
   "source": [
    "# Computes the sample standard deviation with a default ddof=1\n",
    "VAR=dfRate['Literacy_Rate'].var()\n",
    "print(\"The sample VAR value is \",round(VAR,2))"
   ]
  },
  {
   "cell_type": "markdown",
   "metadata": {},
   "source": [
    "## Population Variance"
   ]
  },
  {
   "cell_type": "code",
   "execution_count": 45,
   "metadata": {
    "collapsed": false
   },
   "outputs": [
    {
     "name": "stdout",
     "output_type": "stream",
     "text": [
      "The population VAR is  341.96\n"
     ]
    }
   ],
   "source": [
    "# computes the population variance with a default ddof=1\n",
    "pVAR=dfRate['Literacy_Rate'].var(ddof=0)\n",
    "print(\"The population VAR is \",round(pVAR,2))"
   ]
  },
  {
   "cell_type": "markdown",
   "metadata": {},
   "source": [
    "## Sample Standard Deviation"
   ]
  },
  {
   "cell_type": "code",
   "execution_count": 47,
   "metadata": {
    "collapsed": false
   },
   "outputs": [
    {
     "name": "stdout",
     "output_type": "stream",
     "text": [
      "The Sample std values is  18.56\n"
     ]
    }
   ],
   "source": [
    "# Computes the sample standard deviation with a default ddof=1\n",
    "STD= dfRate['Literacy_Rate'].std()\n",
    "print(\"The Sample std values is \",round(STD,2))"
   ]
  },
  {
   "cell_type": "markdown",
   "metadata": {},
   "source": [
    "## Population Standard deviation"
   ]
  },
  {
   "cell_type": "code",
   "execution_count": 48,
   "metadata": {
    "collapsed": false
   },
   "outputs": [
    {
     "name": "stdout",
     "output_type": "stream",
     "text": [
      "The Population std value is  18.49\n"
     ]
    }
   ],
   "source": [
    "# computes the population standard deviation with a ddof=0\n",
    "pSTD= dfRate['Literacy_Rate'].std(ddof=0)\n",
    "print(\"The Population std value is \",round(pSTD,2))"
   ]
  },
  {
   "cell_type": "markdown",
   "metadata": {
    "collapsed": true
   },
   "source": [
    "# Analyzing Baseball players data with Pandas in Python 3"
   ]
  },
  {
   "cell_type": "code",
   "execution_count": 1,
   "metadata": {
    "collapsed": true
   },
   "outputs": [],
   "source": [
    "import pandas as pd"
   ]
  },
  {
   "cell_type": "code",
   "execution_count": 5,
   "metadata": {
    "collapsed": true
   },
   "outputs": [],
   "source": [
    "df = pd.read_csv(\"C:\\\\Users\\\\HP\\\\Downloads\\\\BaseballPlayers.csv\")"
   ]
  },
  {
   "cell_type": "code",
   "execution_count": 6,
   "metadata": {
    "collapsed": false
   },
   "outputs": [
    {
     "data": {
      "text/html": [
       "<div>\n",
       "<table border=\"1\" class=\"dataframe\">\n",
       "  <thead>\n",
       "    <tr style=\"text-align: right;\">\n",
       "      <th></th>\n",
       "      <th>Team</th>\n",
       "      <th>Position</th>\n",
       "      <th>Weight</th>\n",
       "      <th>Age</th>\n",
       "    </tr>\n",
       "  </thead>\n",
       "  <tbody>\n",
       "    <tr>\n",
       "      <th>0</th>\n",
       "      <td>BAL</td>\n",
       "      <td>Catcher</td>\n",
       "      <td>180.0</td>\n",
       "      <td>22.99</td>\n",
       "    </tr>\n",
       "    <tr>\n",
       "      <th>1</th>\n",
       "      <td>BAL</td>\n",
       "      <td>Catcher</td>\n",
       "      <td>215.0</td>\n",
       "      <td>34.69</td>\n",
       "    </tr>\n",
       "    <tr>\n",
       "      <th>2</th>\n",
       "      <td>BAL</td>\n",
       "      <td>Catcher</td>\n",
       "      <td>210.0</td>\n",
       "      <td>30.78</td>\n",
       "    </tr>\n",
       "    <tr>\n",
       "      <th>3</th>\n",
       "      <td>BAL</td>\n",
       "      <td>First_Baseman</td>\n",
       "      <td>210.0</td>\n",
       "      <td>35.43</td>\n",
       "    </tr>\n",
       "    <tr>\n",
       "      <th>4</th>\n",
       "      <td>BAL</td>\n",
       "      <td>First_Baseman</td>\n",
       "      <td>188.0</td>\n",
       "      <td>35.71</td>\n",
       "    </tr>\n",
       "    <tr>\n",
       "      <th>5</th>\n",
       "      <td>BAL</td>\n",
       "      <td>Second_Baseman</td>\n",
       "      <td>176.0</td>\n",
       "      <td>29.39</td>\n",
       "    </tr>\n",
       "    <tr>\n",
       "      <th>6</th>\n",
       "      <td>BAL</td>\n",
       "      <td>Shortstop</td>\n",
       "      <td>209.0</td>\n",
       "      <td>30.77</td>\n",
       "    </tr>\n",
       "    <tr>\n",
       "      <th>7</th>\n",
       "      <td>BAL</td>\n",
       "      <td>Third_Baseman</td>\n",
       "      <td>200.0</td>\n",
       "      <td>35.07</td>\n",
       "    </tr>\n",
       "    <tr>\n",
       "      <th>8</th>\n",
       "      <td>BAL</td>\n",
       "      <td>Third_Baseman</td>\n",
       "      <td>231.0</td>\n",
       "      <td>30.19</td>\n",
       "    </tr>\n",
       "    <tr>\n",
       "      <th>9</th>\n",
       "      <td>BAL</td>\n",
       "      <td>Outfielder</td>\n",
       "      <td>180.0</td>\n",
       "      <td>27.05</td>\n",
       "    </tr>\n",
       "    <tr>\n",
       "      <th>10</th>\n",
       "      <td>BAL</td>\n",
       "      <td>Outfielder</td>\n",
       "      <td>188.0</td>\n",
       "      <td>23.88</td>\n",
       "    </tr>\n",
       "    <tr>\n",
       "      <th>11</th>\n",
       "      <td>BAL</td>\n",
       "      <td>Outfielder</td>\n",
       "      <td>180.0</td>\n",
       "      <td>26.96</td>\n",
       "    </tr>\n",
       "    <tr>\n",
       "      <th>12</th>\n",
       "      <td>BAL</td>\n",
       "      <td>Outfielder</td>\n",
       "      <td>185.0</td>\n",
       "      <td>23.29</td>\n",
       "    </tr>\n",
       "    <tr>\n",
       "      <th>13</th>\n",
       "      <td>BAL</td>\n",
       "      <td>Outfielder</td>\n",
       "      <td>160.0</td>\n",
       "      <td>26.11</td>\n",
       "    </tr>\n",
       "    <tr>\n",
       "      <th>14</th>\n",
       "      <td>BAL</td>\n",
       "      <td>Outfielder</td>\n",
       "      <td>180.0</td>\n",
       "      <td>27.55</td>\n",
       "    </tr>\n",
       "    <tr>\n",
       "      <th>15</th>\n",
       "      <td>BAL</td>\n",
       "      <td>Outfielder</td>\n",
       "      <td>185.0</td>\n",
       "      <td>34.27</td>\n",
       "    </tr>\n",
       "    <tr>\n",
       "      <th>16</th>\n",
       "      <td>BAL</td>\n",
       "      <td>Designated_Hitter</td>\n",
       "      <td>197.0</td>\n",
       "      <td>30.00</td>\n",
       "    </tr>\n",
       "    <tr>\n",
       "      <th>17</th>\n",
       "      <td>BAL</td>\n",
       "      <td>Starting_Pitcher</td>\n",
       "      <td>189.0</td>\n",
       "      <td>27.99</td>\n",
       "    </tr>\n",
       "    <tr>\n",
       "      <th>18</th>\n",
       "      <td>BAL</td>\n",
       "      <td>Starting_Pitcher</td>\n",
       "      <td>185.0</td>\n",
       "      <td>22.38</td>\n",
       "    </tr>\n",
       "    <tr>\n",
       "      <th>19</th>\n",
       "      <td>BAL</td>\n",
       "      <td>Starting_Pitcher</td>\n",
       "      <td>219.0</td>\n",
       "      <td>22.89</td>\n",
       "    </tr>\n",
       "  </tbody>\n",
       "</table>\n",
       "</div>"
      ],
      "text/plain": [
       "   Team           Position  Weight    Age\n",
       "0   BAL            Catcher   180.0  22.99\n",
       "1   BAL            Catcher   215.0  34.69\n",
       "2   BAL            Catcher   210.0  30.78\n",
       "3   BAL      First_Baseman   210.0  35.43\n",
       "4   BAL      First_Baseman   188.0  35.71\n",
       "5   BAL     Second_Baseman   176.0  29.39\n",
       "6   BAL          Shortstop   209.0  30.77\n",
       "7   BAL      Third_Baseman   200.0  35.07\n",
       "8   BAL      Third_Baseman   231.0  30.19\n",
       "9   BAL         Outfielder   180.0  27.05\n",
       "10  BAL         Outfielder   188.0  23.88\n",
       "11  BAL         Outfielder   180.0  26.96\n",
       "12  BAL         Outfielder   185.0  23.29\n",
       "13  BAL         Outfielder   160.0  26.11\n",
       "14  BAL         Outfielder   180.0  27.55\n",
       "15  BAL         Outfielder   185.0  34.27\n",
       "16  BAL  Designated_Hitter   197.0  30.00\n",
       "17  BAL   Starting_Pitcher   189.0  27.99\n",
       "18  BAL   Starting_Pitcher   185.0  22.38\n",
       "19  BAL   Starting_Pitcher   219.0  22.89"
      ]
     },
     "execution_count": 6,
     "metadata": {},
     "output_type": "execute_result"
    }
   ],
   "source": [
    "df.head(20)"
   ]
  },
  {
   "cell_type": "markdown",
   "metadata": {},
   "source": [
    "## Objective: Summarize baseball players data by position and:"
   ]
  },
  {
   "cell_type": "code",
   "execution_count": 7,
   "metadata": {
    "collapsed": true
   },
   "outputs": [],
   "source": [
    "bygroup_team = df.groupby(['Position'])['Weight']"
   ]
  },
  {
   "cell_type": "code",
   "execution_count": 8,
   "metadata": {
    "collapsed": true
   },
   "outputs": [],
   "source": [
    "df2 = bygroup_team.aggregate(['count', 'min', 'max', 'mean', 'median', 'std', 'mad', 'skew']).round(1)"
   ]
  },
  {
   "cell_type": "code",
   "execution_count": 9,
   "metadata": {
    "collapsed": true
   },
   "outputs": [],
   "source": [
    "df2.columns = ['Count', 'Min', 'Max', 'Mean', 'Median', 'std', 'MAD', 'Skewness']"
   ]
  },
  {
   "cell_type": "code",
   "execution_count": 10,
   "metadata": {
    "collapsed": false
   },
   "outputs": [
    {
     "data": {
      "text/html": [
       "<div>\n",
       "<table border=\"1\" class=\"dataframe\">\n",
       "  <thead>\n",
       "    <tr style=\"text-align: right;\">\n",
       "      <th></th>\n",
       "      <th>Count</th>\n",
       "      <th>Min</th>\n",
       "      <th>Max</th>\n",
       "      <th>Mean</th>\n",
       "      <th>Median</th>\n",
       "      <th>std</th>\n",
       "      <th>MAD</th>\n",
       "      <th>Skewness</th>\n",
       "    </tr>\n",
       "    <tr>\n",
       "      <th>Position</th>\n",
       "      <th></th>\n",
       "      <th></th>\n",
       "      <th></th>\n",
       "      <th></th>\n",
       "      <th></th>\n",
       "      <th></th>\n",
       "      <th></th>\n",
       "      <th></th>\n",
       "    </tr>\n",
       "  </thead>\n",
       "  <tbody>\n",
       "    <tr>\n",
       "      <th>Catcher</th>\n",
       "      <td>76</td>\n",
       "      <td>170.0</td>\n",
       "      <td>245.0</td>\n",
       "      <td>204.3</td>\n",
       "      <td>205.0</td>\n",
       "      <td>15.7</td>\n",
       "      <td>13.0</td>\n",
       "      <td>0.1</td>\n",
       "    </tr>\n",
       "    <tr>\n",
       "      <th>Designated_Hitter</th>\n",
       "      <td>18</td>\n",
       "      <td>195.0</td>\n",
       "      <td>275.0</td>\n",
       "      <td>220.9</td>\n",
       "      <td>224.5</td>\n",
       "      <td>22.1</td>\n",
       "      <td>17.8</td>\n",
       "      <td>0.8</td>\n",
       "    </tr>\n",
       "    <tr>\n",
       "      <th>First_Baseman</th>\n",
       "      <td>55</td>\n",
       "      <td>180.0</td>\n",
       "      <td>260.0</td>\n",
       "      <td>213.1</td>\n",
       "      <td>220.0</td>\n",
       "      <td>19.0</td>\n",
       "      <td>15.6</td>\n",
       "      <td>-0.0</td>\n",
       "    </tr>\n",
       "    <tr>\n",
       "      <th>Outfielder</th>\n",
       "      <td>194</td>\n",
       "      <td>160.0</td>\n",
       "      <td>257.0</td>\n",
       "      <td>199.1</td>\n",
       "      <td>200.0</td>\n",
       "      <td>18.4</td>\n",
       "      <td>14.9</td>\n",
       "      <td>0.1</td>\n",
       "    </tr>\n",
       "    <tr>\n",
       "      <th>Relief_Pitcher</th>\n",
       "      <td>315</td>\n",
       "      <td>150.0</td>\n",
       "      <td>278.0</td>\n",
       "      <td>203.5</td>\n",
       "      <td>200.0</td>\n",
       "      <td>21.7</td>\n",
       "      <td>17.2</td>\n",
       "      <td>0.3</td>\n",
       "    </tr>\n",
       "    <tr>\n",
       "      <th>Second_Baseman</th>\n",
       "      <td>58</td>\n",
       "      <td>160.0</td>\n",
       "      <td>210.0</td>\n",
       "      <td>184.3</td>\n",
       "      <td>185.0</td>\n",
       "      <td>11.0</td>\n",
       "      <td>8.5</td>\n",
       "      <td>-0.0</td>\n",
       "    </tr>\n",
       "    <tr>\n",
       "      <th>Shortstop</th>\n",
       "      <td>52</td>\n",
       "      <td>150.0</td>\n",
       "      <td>210.0</td>\n",
       "      <td>182.9</td>\n",
       "      <td>180.0</td>\n",
       "      <td>14.5</td>\n",
       "      <td>12.0</td>\n",
       "      <td>-0.1</td>\n",
       "    </tr>\n",
       "    <tr>\n",
       "      <th>Starting_Pitcher</th>\n",
       "      <td>220</td>\n",
       "      <td>150.0</td>\n",
       "      <td>290.0</td>\n",
       "      <td>205.2</td>\n",
       "      <td>205.0</td>\n",
       "      <td>22.1</td>\n",
       "      <td>17.5</td>\n",
       "      <td>0.4</td>\n",
       "    </tr>\n",
       "    <tr>\n",
       "      <th>Third_Baseman</th>\n",
       "      <td>45</td>\n",
       "      <td>155.0</td>\n",
       "      <td>240.0</td>\n",
       "      <td>201.0</td>\n",
       "      <td>200.0</td>\n",
       "      <td>18.1</td>\n",
       "      <td>14.0</td>\n",
       "      <td>-0.1</td>\n",
       "    </tr>\n",
       "  </tbody>\n",
       "</table>\n",
       "</div>"
      ],
      "text/plain": [
       "                   Count    Min    Max   Mean  Median   std   MAD  Skewness\n",
       "Position                                                                   \n",
       "Catcher               76  170.0  245.0  204.3   205.0  15.7  13.0       0.1\n",
       "Designated_Hitter     18  195.0  275.0  220.9   224.5  22.1  17.8       0.8\n",
       "First_Baseman         55  180.0  260.0  213.1   220.0  19.0  15.6      -0.0\n",
       "Outfielder           194  160.0  257.0  199.1   200.0  18.4  14.9       0.1\n",
       "Relief_Pitcher       315  150.0  278.0  203.5   200.0  21.7  17.2       0.3\n",
       "Second_Baseman        58  160.0  210.0  184.3   185.0  11.0   8.5      -0.0\n",
       "Shortstop             52  150.0  210.0  182.9   180.0  14.5  12.0      -0.1\n",
       "Starting_Pitcher     220  150.0  290.0  205.2   205.0  22.1  17.5       0.4\n",
       "Third_Baseman         45  155.0  240.0  201.0   200.0  18.1  14.0      -0.1"
      ]
     },
     "execution_count": 10,
     "metadata": {},
     "output_type": "execute_result"
    }
   ],
   "source": [
    "df2"
   ]
  },
  {
   "cell_type": "markdown",
   "metadata": {},
   "source": [
    "## computing descriptive statistics in Python Pandas Part2"
   ]
  },
  {
   "cell_type": "code",
   "execution_count": 11,
   "metadata": {
    "collapsed": true
   },
   "outputs": [],
   "source": [
    "import pandas as pd\n",
    "pd.set_option('display.max_rows',1000)"
   ]
  },
  {
   "cell_type": "markdown",
   "metadata": {},
   "source": [
    "### Advantages using Pandas statistical functions Missing values are removed prior to computations"
   ]
  },
  {
   "cell_type": "code",
   "execution_count": 12,
   "metadata": {
    "collapsed": true
   },
   "outputs": [],
   "source": [
    "dfRate = pd.read_csv(\"C:\\\\Users\\\\HP\\\\Downloads\\\\World2017literacyRate.csv\",encoding='latin1')"
   ]
  },
  {
   "cell_type": "code",
   "execution_count": 13,
   "metadata": {
    "collapsed": true
   },
   "outputs": [],
   "source": [
    "dfMortality = pd.read_csv(\"C:\\\\Users\\\\HP\\\\Downloads\\\\InfantMortalityGNI.csv\",encoding='latin1')"
   ]
  },
  {
   "cell_type": "code",
   "execution_count": 14,
   "metadata": {
    "collapsed": false
   },
   "outputs": [
    {
     "data": {
      "text/html": [
       "<div>\n",
       "<table border=\"1\" class=\"dataframe\">\n",
       "  <thead>\n",
       "    <tr style=\"text-align: right;\">\n",
       "      <th></th>\n",
       "      <th>Country</th>\n",
       "      <th>Literacy_Rate</th>\n",
       "    </tr>\n",
       "  </thead>\n",
       "  <tbody>\n",
       "    <tr>\n",
       "      <th>0</th>\n",
       "      <td>Albania</td>\n",
       "      <td>96</td>\n",
       "    </tr>\n",
       "    <tr>\n",
       "      <th>1</th>\n",
       "      <td>Algeria</td>\n",
       "      <td>73</td>\n",
       "    </tr>\n",
       "    <tr>\n",
       "      <th>2</th>\n",
       "      <td>Angola</td>\n",
       "      <td>70</td>\n",
       "    </tr>\n",
       "    <tr>\n",
       "      <th>3</th>\n",
       "      <td>Antigua and Barbuda</td>\n",
       "      <td>99</td>\n",
       "    </tr>\n",
       "    <tr>\n",
       "      <th>4</th>\n",
       "      <td>Argentina</td>\n",
       "      <td>98</td>\n",
       "    </tr>\n",
       "  </tbody>\n",
       "</table>\n",
       "</div>"
      ],
      "text/plain": [
       "               Country  Literacy_Rate\n",
       "0              Albania             96\n",
       "1              Algeria             73\n",
       "2               Angola             70\n",
       "3  Antigua and Barbuda             99\n",
       "4            Argentina             98"
      ]
     },
     "execution_count": 14,
     "metadata": {},
     "output_type": "execute_result"
    }
   ],
   "source": [
    "dfRate.head()"
   ]
  },
  {
   "cell_type": "code",
   "execution_count": 15,
   "metadata": {
    "collapsed": false
   },
   "outputs": [
    {
     "data": {
      "text/html": [
       "<div>\n",
       "<table border=\"1\" class=\"dataframe\">\n",
       "  <thead>\n",
       "    <tr style=\"text-align: right;\">\n",
       "      <th></th>\n",
       "      <th>Countries</th>\n",
       "      <th>GNI_PER_CAPITA</th>\n",
       "      <th>Infant_Mortality</th>\n",
       "    </tr>\n",
       "  </thead>\n",
       "  <tbody>\n",
       "    <tr>\n",
       "      <th>0</th>\n",
       "      <td>Afghanistan</td>\n",
       "      <td>590.0</td>\n",
       "      <td>73.2</td>\n",
       "    </tr>\n",
       "    <tr>\n",
       "      <th>1</th>\n",
       "      <td>Albania</td>\n",
       "      <td>4290.0</td>\n",
       "      <td>14.0</td>\n",
       "    </tr>\n",
       "    <tr>\n",
       "      <th>2</th>\n",
       "      <td>Algeria</td>\n",
       "      <td>4800.0</td>\n",
       "      <td>25.5</td>\n",
       "    </tr>\n",
       "    <tr>\n",
       "      <th>3</th>\n",
       "      <td>Andorra</td>\n",
       "      <td>NaN</td>\n",
       "      <td>2.8</td>\n",
       "    </tr>\n",
       "    <tr>\n",
       "      <th>4</th>\n",
       "      <td>Angola</td>\n",
       "      <td>4040.0</td>\n",
       "      <td>86.5</td>\n",
       "    </tr>\n",
       "  </tbody>\n",
       "</table>\n",
       "</div>"
      ],
      "text/plain": [
       "     Countries  GNI_PER_CAPITA  Infant_Mortality\n",
       "0  Afghanistan           590.0              73.2\n",
       "1      Albania          4290.0              14.0\n",
       "2      Algeria          4800.0              25.5\n",
       "3      Andorra             NaN               2.8\n",
       "4       Angola          4040.0              86.5"
      ]
     },
     "execution_count": 15,
     "metadata": {},
     "output_type": "execute_result"
    }
   ],
   "source": [
    "dfMortality.head()"
   ]
  },
  {
   "cell_type": "markdown",
   "metadata": {},
   "source": [
    "## Correlation with Pandas {‘pearson’, ‘kendall’, ‘spearman’} default is pearson"
   ]
  },
  {
   "cell_type": "markdown",
   "metadata": {},
   "source": [
    "### Pearson Correlation Coefficient"
   ]
  },
  {
   "cell_type": "markdown",
   "metadata": {},
   "source": [
    "## 1. Normal distribution\n",
    "## 2. Linear Assumption\n",
    "## 3. No outliers in data"
   ]
  },
  {
   "cell_type": "code",
   "execution_count": 16,
   "metadata": {
    "collapsed": false
   },
   "outputs": [
    {
     "data": {
      "text/html": [
       "<div>\n",
       "<table border=\"1\" class=\"dataframe\">\n",
       "  <thead>\n",
       "    <tr style=\"text-align: right;\">\n",
       "      <th></th>\n",
       "      <th>GNI_PER_CAPITA</th>\n",
       "      <th>Infant_Mortality</th>\n",
       "    </tr>\n",
       "  </thead>\n",
       "  <tbody>\n",
       "    <tr>\n",
       "      <th>GNI_PER_CAPITA</th>\n",
       "      <td>1.000000</td>\n",
       "      <td>-0.510167</td>\n",
       "    </tr>\n",
       "    <tr>\n",
       "      <th>Infant_Mortality</th>\n",
       "      <td>-0.510167</td>\n",
       "      <td>1.000000</td>\n",
       "    </tr>\n",
       "  </tbody>\n",
       "</table>\n",
       "</div>"
      ],
      "text/plain": [
       "                  GNI_PER_CAPITA  Infant_Mortality\n",
       "GNI_PER_CAPITA          1.000000         -0.510167\n",
       "Infant_Mortality       -0.510167          1.000000"
      ]
     },
     "execution_count": 16,
     "metadata": {},
     "output_type": "execute_result"
    }
   ],
   "source": [
    "dfMortality.corr()"
   ]
  },
  {
   "cell_type": "code",
   "execution_count": 18,
   "metadata": {
    "collapsed": false
   },
   "outputs": [
    {
     "data": {
      "text/html": [
       "<div>\n",
       "<table border=\"1\" class=\"dataframe\">\n",
       "  <thead>\n",
       "    <tr style=\"text-align: right;\">\n",
       "      <th></th>\n",
       "      <th>GNI_PER_CAPITA</th>\n",
       "      <th>Infant_Mortality</th>\n",
       "    </tr>\n",
       "  </thead>\n",
       "  <tbody>\n",
       "    <tr>\n",
       "      <th>GNI_PER_CAPITA</th>\n",
       "      <td>1.000000</td>\n",
       "      <td>-0.510167</td>\n",
       "    </tr>\n",
       "    <tr>\n",
       "      <th>Infant_Mortality</th>\n",
       "      <td>-0.510167</td>\n",
       "      <td>1.000000</td>\n",
       "    </tr>\n",
       "  </tbody>\n",
       "</table>\n",
       "</div>"
      ],
      "text/plain": [
       "                  GNI_PER_CAPITA  Infant_Mortality\n",
       "GNI_PER_CAPITA          1.000000         -0.510167\n",
       "Infant_Mortality       -0.510167          1.000000"
      ]
     },
     "execution_count": 18,
     "metadata": {},
     "output_type": "execute_result"
    }
   ],
   "source": [
    "dfMortality.corr(\"pearson\")"
   ]
  },
  {
   "cell_type": "markdown",
   "metadata": {},
   "source": [
    "## Spearman rank correlation"
   ]
  },
  {
   "cell_type": "markdown",
   "metadata": {
    "collapsed": true
   },
   "source": [
    "### 1. is a nonparametric test\n",
    "### 2. Assumption of a monotonic relationship\n",
    "### 3. is less sensitive to outliers than Pearson's corr"
   ]
  },
  {
   "cell_type": "code",
   "execution_count": 19,
   "metadata": {
    "collapsed": false
   },
   "outputs": [
    {
     "data": {
      "text/html": [
       "<div>\n",
       "<table border=\"1\" class=\"dataframe\">\n",
       "  <thead>\n",
       "    <tr style=\"text-align: right;\">\n",
       "      <th></th>\n",
       "      <th>GNI_PER_CAPITA</th>\n",
       "      <th>Infant_Mortality</th>\n",
       "    </tr>\n",
       "  </thead>\n",
       "  <tbody>\n",
       "    <tr>\n",
       "      <th>GNI_PER_CAPITA</th>\n",
       "      <td>1.0000</td>\n",
       "      <td>-0.8695</td>\n",
       "    </tr>\n",
       "    <tr>\n",
       "      <th>Infant_Mortality</th>\n",
       "      <td>-0.8695</td>\n",
       "      <td>1.0000</td>\n",
       "    </tr>\n",
       "  </tbody>\n",
       "</table>\n",
       "</div>"
      ],
      "text/plain": [
       "                  GNI_PER_CAPITA  Infant_Mortality\n",
       "GNI_PER_CAPITA            1.0000           -0.8695\n",
       "Infant_Mortality         -0.8695            1.0000"
      ]
     },
     "execution_count": 19,
     "metadata": {},
     "output_type": "execute_result"
    }
   ],
   "source": [
    "dfMortality.corr(\"spearman\")"
   ]
  },
  {
   "cell_type": "markdown",
   "metadata": {},
   "source": [
    "## Kendal Tau rank"
   ]
  },
  {
   "cell_type": "markdown",
   "metadata": {},
   "source": [
    "### 1. Is nonparametric equivalent\n",
    "### 2. Requires a monotonic relationship"
   ]
  },
  {
   "cell_type": "code",
   "execution_count": 21,
   "metadata": {
    "collapsed": false
   },
   "outputs": [
    {
     "data": {
      "text/html": [
       "<div>\n",
       "<table border=\"1\" class=\"dataframe\">\n",
       "  <thead>\n",
       "    <tr style=\"text-align: right;\">\n",
       "      <th></th>\n",
       "      <th>GNI_PER_CAPITA</th>\n",
       "      <th>Infant_Mortality</th>\n",
       "    </tr>\n",
       "  </thead>\n",
       "  <tbody>\n",
       "    <tr>\n",
       "      <th>GNI_PER_CAPITA</th>\n",
       "      <td>1.00000</td>\n",
       "      <td>-0.67478</td>\n",
       "    </tr>\n",
       "    <tr>\n",
       "      <th>Infant_Mortality</th>\n",
       "      <td>-0.67478</td>\n",
       "      <td>1.00000</td>\n",
       "    </tr>\n",
       "  </tbody>\n",
       "</table>\n",
       "</div>"
      ],
      "text/plain": [
       "                  GNI_PER_CAPITA  Infant_Mortality\n",
       "GNI_PER_CAPITA           1.00000          -0.67478\n",
       "Infant_Mortality        -0.67478           1.00000"
      ]
     },
     "execution_count": 21,
     "metadata": {},
     "output_type": "execute_result"
    }
   ],
   "source": [
    "dfMortality.corr(\"kendall\")"
   ]
  },
  {
   "cell_type": "markdown",
   "metadata": {},
   "source": [
    "### Other Statistical functions available with PANDAS Fisher’s definition of kurtosis (kurtosis of normal == 0.0"
   ]
  },
  {
   "cell_type": "code",
   "execution_count": 22,
   "metadata": {
    "collapsed": true
   },
   "outputs": [],
   "source": [
    "Count = dfRate['Literacy_Rate'].count()\n",
    "Min   = dfRate['Literacy_Rate'].min()\n",
    "Max   = dfRate['Literacy_Rate'].max()\n",
    "Mode  = dfRate['Literacy_Rate'].mode()\n",
    "SEM   = dfRate['Literacy_Rate'].sem()\n",
    "Skew = dfRate['Literacy_Rate'].skew()\n",
    "Kurtosis = dfRate['Literacy_Rate'].kurt()"
   ]
  },
  {
   "cell_type": "code",
   "execution_count": 23,
   "metadata": {
    "collapsed": false
   },
   "outputs": [
    {
     "name": "stdout",
     "output_type": "stream",
     "text": [
      "The count of observations is:  147\n",
      "The minimum observation is:  29\n",
      "The maximum observation is:  100\n",
      "The mode is: 0    100\n",
      "dtype: int64\n",
      "The standard error of the mean is:  1.5304295856\n",
      "The kurtosis is:  0.27\n"
     ]
    }
   ],
   "source": [
    "print(\"The count of observations is: \",Count)\n",
    "print(\"The minimum observation is: \",Min)\n",
    "print(\"The maximum observation is: \",Max)\n",
    "print(\"The mode is:\",Mode)\n",
    "print(\"The standard error of the mean is: \",SEM)\n",
    "print(\"The kurtosis is: \", round(Kurtosis,2))"
   ]
  },
  {
   "cell_type": "markdown",
   "metadata": {},
   "source": [
    "## Computing percentiles within Pandas"
   ]
  },
  {
   "cell_type": "code",
   "execution_count": 24,
   "metadata": {
    "collapsed": true
   },
   "outputs": [],
   "source": [
    "Percentile25th= dfRate['Literacy_Rate'].quantile(0.25,interpolation='linear') # to match numpy percentile"
   ]
  },
  {
   "cell_type": "code",
   "execution_count": 25,
   "metadata": {
    "collapsed": false
   },
   "outputs": [
    {
     "data": {
      "text/plain": [
       "71.0"
      ]
     },
     "execution_count": 25,
     "metadata": {},
     "output_type": "execute_result"
    }
   ],
   "source": [
    "Percentile25th"
   ]
  },
  {
   "cell_type": "code",
   "execution_count": 26,
   "metadata": {
    "collapsed": false
   },
   "outputs": [
    {
     "data": {
      "text/html": [
       "<div>\n",
       "<table border=\"1\" class=\"dataframe\">\n",
       "  <thead>\n",
       "    <tr style=\"text-align: right;\">\n",
       "      <th></th>\n",
       "      <th>Literacy_Rate</th>\n",
       "    </tr>\n",
       "  </thead>\n",
       "  <tbody>\n",
       "    <tr>\n",
       "      <th>count</th>\n",
       "      <td>147.000000</td>\n",
       "    </tr>\n",
       "    <tr>\n",
       "      <th>mean</th>\n",
       "      <td>82.469388</td>\n",
       "    </tr>\n",
       "    <tr>\n",
       "      <th>std</th>\n",
       "      <td>18.555473</td>\n",
       "    </tr>\n",
       "    <tr>\n",
       "      <th>min</th>\n",
       "      <td>29.000000</td>\n",
       "    </tr>\n",
       "    <tr>\n",
       "      <th>25%</th>\n",
       "      <td>71.000000</td>\n",
       "    </tr>\n",
       "    <tr>\n",
       "      <th>50%</th>\n",
       "      <td>90.000000</td>\n",
       "    </tr>\n",
       "    <tr>\n",
       "      <th>75%</th>\n",
       "      <td>98.000000</td>\n",
       "    </tr>\n",
       "    <tr>\n",
       "      <th>max</th>\n",
       "      <td>100.000000</td>\n",
       "    </tr>\n",
       "  </tbody>\n",
       "</table>\n",
       "</div>"
      ],
      "text/plain": [
       "       Literacy_Rate\n",
       "count     147.000000\n",
       "mean       82.469388\n",
       "std        18.555473\n",
       "min        29.000000\n",
       "25%        71.000000\n",
       "50%        90.000000\n",
       "75%        98.000000\n",
       "max       100.000000"
      ]
     },
     "execution_count": 26,
     "metadata": {},
     "output_type": "execute_result"
    }
   ],
   "source": [
    "dfRate.describe()"
   ]
  },
  {
   "cell_type": "markdown",
   "metadata": {},
   "source": [
    "## Ranking data within Pandas \n",
    "### method : {‘average’, ‘min’, ‘max’, ‘first’, ‘dense’}\n",
    "    average: average rank of group\n",
    "    min: lowest rank in group\n",
    "    max: highest rank in group\n",
    "    first: ranks assigned in order they appear in the array\n",
    "    dense: like ‘min’, but rank always increases by 1 between groups"
   ]
  },
  {
   "cell_type": "code",
   "execution_count": 27,
   "metadata": {
    "collapsed": true
   },
   "outputs": [],
   "source": [
    "dfRate['Rank']=dfRate['Literacy_Rate'].rank(method='min',ascending=False,pct=False)"
   ]
  },
  {
   "cell_type": "code",
   "execution_count": 31,
   "metadata": {
    "collapsed": false
   },
   "outputs": [
    {
     "data": {
      "text/html": [
       "<div>\n",
       "<table border=\"1\" class=\"dataframe\">\n",
       "  <thead>\n",
       "    <tr style=\"text-align: right;\">\n",
       "      <th></th>\n",
       "      <th>Country</th>\n",
       "      <th>Literacy_Rate</th>\n",
       "      <th>Rank</th>\n",
       "    </tr>\n",
       "  </thead>\n",
       "  <tbody>\n",
       "    <tr>\n",
       "      <th>0</th>\n",
       "      <td>Albania</td>\n",
       "      <td>96</td>\n",
       "      <td>42.0</td>\n",
       "    </tr>\n",
       "    <tr>\n",
       "      <th>1</th>\n",
       "      <td>Algeria</td>\n",
       "      <td>73</td>\n",
       "      <td>104.0</td>\n",
       "    </tr>\n",
       "    <tr>\n",
       "      <th>2</th>\n",
       "      <td>Angola</td>\n",
       "      <td>70</td>\n",
       "      <td>112.0</td>\n",
       "    </tr>\n",
       "    <tr>\n",
       "      <th>3</th>\n",
       "      <td>Antigua and Barbuda</td>\n",
       "      <td>99</td>\n",
       "      <td>17.0</td>\n",
       "    </tr>\n",
       "    <tr>\n",
       "      <th>4</th>\n",
       "      <td>Argentina</td>\n",
       "      <td>98</td>\n",
       "      <td>28.0</td>\n",
       "    </tr>\n",
       "  </tbody>\n",
       "</table>\n",
       "</div>"
      ],
      "text/plain": [
       "               Country  Literacy_Rate   Rank\n",
       "0              Albania             96   42.0\n",
       "1              Algeria             73  104.0\n",
       "2               Angola             70  112.0\n",
       "3  Antigua and Barbuda             99   17.0\n",
       "4            Argentina             98   28.0"
      ]
     },
     "execution_count": 31,
     "metadata": {},
     "output_type": "execute_result"
    }
   ],
   "source": [
    "dfRate.head()"
   ]
  },
  {
   "cell_type": "code",
   "execution_count": 32,
   "metadata": {
    "collapsed": true
   },
   "outputs": [],
   "source": [
    "dfRate['Rank']=dfRate['Literacy_Rate'].rank(method='first',ascending=False,pct=False)"
   ]
  },
  {
   "cell_type": "code",
   "execution_count": 34,
   "metadata": {
    "collapsed": false
   },
   "outputs": [
    {
     "data": {
      "text/html": [
       "<div>\n",
       "<table border=\"1\" class=\"dataframe\">\n",
       "  <thead>\n",
       "    <tr style=\"text-align: right;\">\n",
       "      <th></th>\n",
       "      <th>Country</th>\n",
       "      <th>Literacy_Rate</th>\n",
       "      <th>Rank</th>\n",
       "    </tr>\n",
       "  </thead>\n",
       "  <tbody>\n",
       "    <tr>\n",
       "      <th>0</th>\n",
       "      <td>Albania</td>\n",
       "      <td>96</td>\n",
       "      <td>42.0</td>\n",
       "    </tr>\n",
       "    <tr>\n",
       "      <th>1</th>\n",
       "      <td>Algeria</td>\n",
       "      <td>73</td>\n",
       "      <td>104.0</td>\n",
       "    </tr>\n",
       "    <tr>\n",
       "      <th>2</th>\n",
       "      <td>Angola</td>\n",
       "      <td>70</td>\n",
       "      <td>112.0</td>\n",
       "    </tr>\n",
       "    <tr>\n",
       "      <th>3</th>\n",
       "      <td>Antigua and Barbuda</td>\n",
       "      <td>99</td>\n",
       "      <td>17.0</td>\n",
       "    </tr>\n",
       "    <tr>\n",
       "      <th>4</th>\n",
       "      <td>Argentina</td>\n",
       "      <td>98</td>\n",
       "      <td>28.0</td>\n",
       "    </tr>\n",
       "    <tr>\n",
       "      <th>5</th>\n",
       "      <td>Armenia</td>\n",
       "      <td>100</td>\n",
       "      <td>1.0</td>\n",
       "    </tr>\n",
       "    <tr>\n",
       "      <th>6</th>\n",
       "      <td>Azerbaijan</td>\n",
       "      <td>100</td>\n",
       "      <td>2.0</td>\n",
       "    </tr>\n",
       "    <tr>\n",
       "      <th>7</th>\n",
       "      <td>Bahrain</td>\n",
       "      <td>92</td>\n",
       "      <td>65.0</td>\n",
       "    </tr>\n",
       "    <tr>\n",
       "      <th>8</th>\n",
       "      <td>Bangladesh</td>\n",
       "      <td>57</td>\n",
       "      <td>128.0</td>\n",
       "    </tr>\n",
       "    <tr>\n",
       "      <th>9</th>\n",
       "      <td>Belarus</td>\n",
       "      <td>100</td>\n",
       "      <td>3.0</td>\n",
       "    </tr>\n",
       "    <tr>\n",
       "      <th>10</th>\n",
       "      <td>Benin</td>\n",
       "      <td>42</td>\n",
       "      <td>140.0</td>\n",
       "    </tr>\n",
       "    <tr>\n",
       "      <th>11</th>\n",
       "      <td>Bhutan</td>\n",
       "      <td>53</td>\n",
       "      <td>136.0</td>\n",
       "    </tr>\n",
       "    <tr>\n",
       "      <th>12</th>\n",
       "      <td>Bolivia (Plurinational State of)</td>\n",
       "      <td>91</td>\n",
       "      <td>70.0</td>\n",
       "    </tr>\n",
       "    <tr>\n",
       "      <th>13</th>\n",
       "      <td>Bosnia and Herzegovina</td>\n",
       "      <td>98</td>\n",
       "      <td>29.0</td>\n",
       "    </tr>\n",
       "    <tr>\n",
       "      <th>14</th>\n",
       "      <td>Botswana</td>\n",
       "      <td>84</td>\n",
       "      <td>92.0</td>\n",
       "    </tr>\n",
       "    <tr>\n",
       "      <th>15</th>\n",
       "      <td>Brazil</td>\n",
       "      <td>90</td>\n",
       "      <td>73.0</td>\n",
       "    </tr>\n",
       "    <tr>\n",
       "      <th>16</th>\n",
       "      <td>Brunei Darussalam</td>\n",
       "      <td>95</td>\n",
       "      <td>47.0</td>\n",
       "    </tr>\n",
       "    <tr>\n",
       "      <th>17</th>\n",
       "      <td>Bulgaria</td>\n",
       "      <td>98</td>\n",
       "      <td>30.0</td>\n",
       "    </tr>\n",
       "    <tr>\n",
       "      <th>18</th>\n",
       "      <td>Burkina Faso</td>\n",
       "      <td>29</td>\n",
       "      <td>146.0</td>\n",
       "    </tr>\n",
       "    <tr>\n",
       "      <th>19</th>\n",
       "      <td>Burundi</td>\n",
       "      <td>67</td>\n",
       "      <td>115.0</td>\n",
       "    </tr>\n",
       "  </tbody>\n",
       "</table>\n",
       "</div>"
      ],
      "text/plain": [
       "                             Country  Literacy_Rate   Rank\n",
       "0                            Albania             96   42.0\n",
       "1                            Algeria             73  104.0\n",
       "2                             Angola             70  112.0\n",
       "3                Antigua and Barbuda             99   17.0\n",
       "4                          Argentina             98   28.0\n",
       "5                            Armenia            100    1.0\n",
       "6                         Azerbaijan            100    2.0\n",
       "7                            Bahrain             92   65.0\n",
       "8                         Bangladesh             57  128.0\n",
       "9                            Belarus            100    3.0\n",
       "10                             Benin             42  140.0\n",
       "11                            Bhutan             53  136.0\n",
       "12  Bolivia (Plurinational State of)             91   70.0\n",
       "13            Bosnia and Herzegovina             98   29.0\n",
       "14                          Botswana             84   92.0\n",
       "15                            Brazil             90   73.0\n",
       "16                 Brunei Darussalam             95   47.0\n",
       "17                          Bulgaria             98   30.0\n",
       "18                      Burkina Faso             29  146.0\n",
       "19                           Burundi             67  115.0"
      ]
     },
     "execution_count": 34,
     "metadata": {},
     "output_type": "execute_result"
    }
   ],
   "source": [
    "dfRate.head(20)"
   ]
  },
  {
   "cell_type": "markdown",
   "metadata": {},
   "source": [
    "## Computing correlation coefficient with Python Scipy library"
   ]
  },
  {
   "cell_type": "code",
   "execution_count": 35,
   "metadata": {
    "collapsed": true
   },
   "outputs": [],
   "source": [
    "import pandas as pd\n",
    "import scipy.stats as sp"
   ]
  },
  {
   "cell_type": "code",
   "execution_count": 36,
   "metadata": {
    "collapsed": true
   },
   "outputs": [],
   "source": [
    "df = pd.read_csv(\"C:\\\\Users\\\\HP\\\\Downloads\\\\InfantMortalityGNI.csv\",encoding='latin1')"
   ]
  },
  {
   "cell_type": "code",
   "execution_count": 37,
   "metadata": {
    "collapsed": false
   },
   "outputs": [
    {
     "data": {
      "text/html": [
       "<div>\n",
       "<table border=\"1\" class=\"dataframe\">\n",
       "  <thead>\n",
       "    <tr style=\"text-align: right;\">\n",
       "      <th></th>\n",
       "      <th>Countries</th>\n",
       "      <th>GNI_PER_CAPITA</th>\n",
       "      <th>Infant_Mortality</th>\n",
       "    </tr>\n",
       "  </thead>\n",
       "  <tbody>\n",
       "    <tr>\n",
       "      <th>0</th>\n",
       "      <td>Afghanistan</td>\n",
       "      <td>590.0</td>\n",
       "      <td>73.2</td>\n",
       "    </tr>\n",
       "    <tr>\n",
       "      <th>1</th>\n",
       "      <td>Albania</td>\n",
       "      <td>4290.0</td>\n",
       "      <td>14.0</td>\n",
       "    </tr>\n",
       "    <tr>\n",
       "      <th>2</th>\n",
       "      <td>Algeria</td>\n",
       "      <td>4800.0</td>\n",
       "      <td>25.5</td>\n",
       "    </tr>\n",
       "    <tr>\n",
       "      <th>3</th>\n",
       "      <td>Andorra</td>\n",
       "      <td>NaN</td>\n",
       "      <td>2.8</td>\n",
       "    </tr>\n",
       "    <tr>\n",
       "      <th>4</th>\n",
       "      <td>Angola</td>\n",
       "      <td>4040.0</td>\n",
       "      <td>86.5</td>\n",
       "    </tr>\n",
       "  </tbody>\n",
       "</table>\n",
       "</div>"
      ],
      "text/plain": [
       "     Countries  GNI_PER_CAPITA  Infant_Mortality\n",
       "0  Afghanistan           590.0              73.2\n",
       "1      Albania          4290.0              14.0\n",
       "2      Algeria          4800.0              25.5\n",
       "3      Andorra             NaN               2.8\n",
       "4       Angola          4040.0              86.5"
      ]
     },
     "execution_count": 37,
     "metadata": {},
     "output_type": "execute_result"
    }
   ],
   "source": [
    "df.head()"
   ]
  },
  {
   "cell_type": "code",
   "execution_count": 38,
   "metadata": {
    "collapsed": false
   },
   "outputs": [
    {
     "name": "stdout",
     "output_type": "stream",
     "text": [
      "<class 'pandas.core.frame.DataFrame'>\n",
      "RangeIndex: 197 entries, 0 to 196\n",
      "Data columns (total 3 columns):\n",
      "Countries           197 non-null object\n",
      "GNI_PER_CAPITA      185 non-null float64\n",
      "Infant_Mortality    193 non-null float64\n",
      "dtypes: float64(2), object(1)\n",
      "memory usage: 4.7+ KB\n"
     ]
    }
   ],
   "source": [
    "df.info()"
   ]
  },
  {
   "cell_type": "markdown",
   "metadata": {},
   "source": [
    "### Computing a pearson correlation"
   ]
  },
  {
   "cell_type": "markdown",
   "metadata": {},
   "source": [
    "## Need to remove missing values by dropping them from dataframe first"
   ]
  },
  {
   "cell_type": "code",
   "execution_count": 39,
   "metadata": {
    "collapsed": false
   },
   "outputs": [
    {
     "name": "stdout",
     "output_type": "stream",
     "text": [
      "The Pearson correlation is: -0.51\n",
      "The p-value is: 0.0\n"
     ]
    }
   ],
   "source": [
    "# drop all missing values\n",
    "df.dropna(inplace=True)\n",
    "x = df['GNI_PER_CAPITA']\n",
    "y = df['Infant_Mortality']\n",
    "(corr_pearson, pvalue) = sp.pearsonr(x, y)\n",
    "print(\"The Pearson correlation is:\", round(corr_pearson,2))\n",
    "print(\"The p-value is:\", round(pvalue,10))"
   ]
  },
  {
   "cell_type": "markdown",
   "metadata": {},
   "source": [
    "## Computing a Kendall Tau correlation with SCIPY"
   ]
  },
  {
   "cell_type": "markdown",
   "metadata": {},
   "source": [
    "### We can either drop the missing values from df or use nan_policy = \"Omit\""
   ]
  },
  {
   "cell_type": "code",
   "execution_count": 40,
   "metadata": {
    "collapsed": true
   },
   "outputs": [],
   "source": [
    "corr_kendall, pvalue = sp.kendalltau(x, y, nan_policy=\"omit\")"
   ]
  },
  {
   "cell_type": "code",
   "execution_count": 41,
   "metadata": {
    "collapsed": false
   },
   "outputs": [
    {
     "name": "stdout",
     "output_type": "stream",
     "text": [
      "The Kendall tau correlation is: -0.67\n"
     ]
    }
   ],
   "source": [
    "print(\"The Kendall tau correlation is:\", round( corr_kendall,2))"
   ]
  },
  {
   "cell_type": "markdown",
   "metadata": {},
   "source": [
    "## Computing a Spearman Rank correlation"
   ]
  },
  {
   "cell_type": "markdown",
   "metadata": {},
   "source": [
    "## We can either drop the missing values from df or use nan_policy = \"Omit\""
   ]
  },
  {
   "cell_type": "code",
   "execution_count": 42,
   "metadata": {
    "collapsed": false
   },
   "outputs": [
    {
     "name": "stdout",
     "output_type": "stream",
     "text": [
      "The Spearman correlation is: -0.87\n",
      "The p-value is: 0.0\n"
     ]
    }
   ],
   "source": [
    "(spearman_corr, pvalue) = sp.spearmanr(x,y,nan_policy='omit')\n",
    "print(\"The Spearman correlation is:\", round(spearman_corr,2))\n",
    "print(\"The p-value is:\", round(pvalue,10))"
   ]
  },
  {
   "cell_type": "markdown",
   "metadata": {},
   "source": [
    "## Computing the coefficient of variation in Python in scipy statistics library "
   ]
  },
  {
   "cell_type": "code",
   "execution_count": 46,
   "metadata": {
    "collapsed": true
   },
   "outputs": [],
   "source": [
    "import scipy.stats as sp"
   ]
  },
  {
   "cell_type": "markdown",
   "metadata": {},
   "source": [
    "## Computing the coefficient of variation\n",
    "    variation(a[, axis, nan_policy]) \n",
    "    It is using the population standard deviation as supposed to the sample standard deviation \n",
    "    Sample1: Weights of goats in kg: 30, 34, 29, 45, 50, 28, 29, 32 \n",
    "    Sample2: Temp in Fahrenheit: 60, 45, 70, 72, 43, 40, 78, 49"
   ]
  },
  {
   "cell_type": "code",
   "execution_count": 49,
   "metadata": {
    "collapsed": false
   },
   "outputs": [],
   "source": [
    "goats=[30,34,29,45,50,28,29,32]"
   ]
  },
  {
   "cell_type": "code",
   "execution_count": 50,
   "metadata": {
    "collapsed": true
   },
   "outputs": [],
   "source": [
    "temp=[60,45,70,72,43,40,78,49]"
   ]
  },
  {
   "cell_type": "code",
   "execution_count": 55,
   "metadata": {
    "collapsed": false
   },
   "outputs": [],
   "source": [
    "CVgoats= sp.variation(goats,nan_policy=\"omit\")"
   ]
  },
  {
   "cell_type": "code",
   "execution_count": 56,
   "metadata": {
    "collapsed": true
   },
   "outputs": [],
   "source": [
    "CVtemp= sp.variation(temp, nan_policy=\"omit\")"
   ]
  },
  {
   "cell_type": "code",
   "execution_count": 57,
   "metadata": {
    "collapsed": false
   },
   "outputs": [
    {
     "data": {
      "text/plain": [
       "0.22368109855104215"
      ]
     },
     "execution_count": 57,
     "metadata": {},
     "output_type": "execute_result"
    }
   ],
   "source": [
    "CVgoats"
   ]
  },
  {
   "cell_type": "code",
   "execution_count": 58,
   "metadata": {
    "collapsed": false
   },
   "outputs": [
    {
     "data": {
      "text/plain": [
       "0.24263199350532696"
      ]
     },
     "execution_count": 58,
     "metadata": {},
     "output_type": "execute_result"
    }
   ],
   "source": [
    "CVtemp"
   ]
  },
  {
   "cell_type": "markdown",
   "metadata": {},
   "source": [
    "## classifying world literacy rate using Pandas libraries i pYthhon"
   ]
  },
  {
   "cell_type": "code",
   "execution_count": 82,
   "metadata": {
    "collapsed": true
   },
   "outputs": [],
   "source": [
    "import pandas as pd\n",
    "import numpy as np\n",
    "import scipy.stats as sp"
   ]
  },
  {
   "cell_type": "code",
   "execution_count": 83,
   "metadata": {
    "collapsed": true
   },
   "outputs": [],
   "source": [
    "df2= pd.read_csv(\"C:\\\\Users\\\\HP\\\\Downloads\\\\World2017literacyRate.csv\",encoding='latin1')"
   ]
  },
  {
   "cell_type": "code",
   "execution_count": 84,
   "metadata": {
    "collapsed": false
   },
   "outputs": [
    {
     "data": {
      "text/html": [
       "<div>\n",
       "<table border=\"1\" class=\"dataframe\">\n",
       "  <thead>\n",
       "    <tr style=\"text-align: right;\">\n",
       "      <th></th>\n",
       "      <th>Country</th>\n",
       "      <th>Literacy_Rate</th>\n",
       "    </tr>\n",
       "  </thead>\n",
       "  <tbody>\n",
       "    <tr>\n",
       "      <th>0</th>\n",
       "      <td>Albania</td>\n",
       "      <td>96</td>\n",
       "    </tr>\n",
       "    <tr>\n",
       "      <th>1</th>\n",
       "      <td>Algeria</td>\n",
       "      <td>73</td>\n",
       "    </tr>\n",
       "    <tr>\n",
       "      <th>2</th>\n",
       "      <td>Angola</td>\n",
       "      <td>70</td>\n",
       "    </tr>\n",
       "    <tr>\n",
       "      <th>3</th>\n",
       "      <td>Antigua and Barbuda</td>\n",
       "      <td>99</td>\n",
       "    </tr>\n",
       "    <tr>\n",
       "      <th>4</th>\n",
       "      <td>Argentina</td>\n",
       "      <td>98</td>\n",
       "    </tr>\n",
       "  </tbody>\n",
       "</table>\n",
       "</div>"
      ],
      "text/plain": [
       "               Country  Literacy_Rate\n",
       "0              Albania             96\n",
       "1              Algeria             73\n",
       "2               Angola             70\n",
       "3  Antigua and Barbuda             99\n",
       "4            Argentina             98"
      ]
     },
     "execution_count": 84,
     "metadata": {},
     "output_type": "execute_result"
    }
   ],
   "source": [
    "df2.head()"
   ]
  },
  {
   "cell_type": "code",
   "execution_count": 85,
   "metadata": {
    "collapsed": false
   },
   "outputs": [
    {
     "name": "stdout",
     "output_type": "stream",
     "text": [
      "<class 'pandas.core.frame.DataFrame'>\n",
      "RangeIndex: 147 entries, 0 to 146\n",
      "Data columns (total 2 columns):\n",
      "Country          147 non-null object\n",
      "Literacy_Rate    147 non-null int64\n",
      "dtypes: int64(1), object(1)\n",
      "memory usage: 2.4+ KB\n"
     ]
    }
   ],
   "source": [
    "df2.info()"
   ]
  },
  {
   "cell_type": "markdown",
   "metadata": {},
   "source": [
    "## Application goal: Use scipy stats percentileofscore and Pandas qcut to: \n",
    "    Add percentile value for each literacy rate and country\n",
    "    Classify the data using the same percentiles into Low, Medium and High terciles groups\n",
    "    We will use sp.percentileofscore(x,a,kind='weak)"
   ]
  },
  {
   "cell_type": "code",
   "execution_count": 86,
   "metadata": {
    "collapsed": false
   },
   "outputs": [],
   "source": [
    "x = df2['Literacy_Rate']"
   ]
  },
  {
   "cell_type": "code",
   "execution_count": 87,
   "metadata": {
    "collapsed": true
   },
   "outputs": [],
   "source": [
    "df2['Percentile']=[sp.percentileofscore(x,a,kind='weak')for a in x]"
   ]
  },
  {
   "cell_type": "code",
   "execution_count": 88,
   "metadata": {
    "collapsed": false
   },
   "outputs": [
    {
     "data": {
      "text/html": [
       "<div>\n",
       "<table border=\"1\" class=\"dataframe\">\n",
       "  <thead>\n",
       "    <tr style=\"text-align: right;\">\n",
       "      <th></th>\n",
       "      <th>Country</th>\n",
       "      <th>Literacy_Rate</th>\n",
       "      <th>Percentile</th>\n",
       "    </tr>\n",
       "  </thead>\n",
       "  <tbody>\n",
       "    <tr>\n",
       "      <th>0</th>\n",
       "      <td>Albania</td>\n",
       "      <td>96</td>\n",
       "      <td>72.108844</td>\n",
       "    </tr>\n",
       "    <tr>\n",
       "      <th>1</th>\n",
       "      <td>Algeria</td>\n",
       "      <td>73</td>\n",
       "      <td>29.931973</td>\n",
       "    </tr>\n",
       "    <tr>\n",
       "      <th>2</th>\n",
       "      <td>Angola</td>\n",
       "      <td>70</td>\n",
       "      <td>24.489796</td>\n",
       "    </tr>\n",
       "    <tr>\n",
       "      <th>3</th>\n",
       "      <td>Antigua and Barbuda</td>\n",
       "      <td>99</td>\n",
       "      <td>89.115646</td>\n",
       "    </tr>\n",
       "    <tr>\n",
       "      <th>4</th>\n",
       "      <td>Argentina</td>\n",
       "      <td>98</td>\n",
       "      <td>81.632653</td>\n",
       "    </tr>\n",
       "  </tbody>\n",
       "</table>\n",
       "</div>"
      ],
      "text/plain": [
       "               Country  Literacy_Rate  Percentile\n",
       "0              Albania             96   72.108844\n",
       "1              Algeria             73   29.931973\n",
       "2               Angola             70   24.489796\n",
       "3  Antigua and Barbuda             99   89.115646\n",
       "4            Argentina             98   81.632653"
      ]
     },
     "execution_count": 88,
     "metadata": {},
     "output_type": "execute_result"
    }
   ],
   "source": [
    "df2.head()"
   ]
  },
  {
   "cell_type": "code",
   "execution_count": 89,
   "metadata": {
    "collapsed": false
   },
   "outputs": [],
   "source": [
    "df2=df2.sort_values(by=['Percentile'],ascending=True)"
   ]
  },
  {
   "cell_type": "code",
   "execution_count": 90,
   "metadata": {
    "collapsed": false
   },
   "outputs": [
    {
     "data": {
      "text/html": [
       "<div>\n",
       "<table border=\"1\" class=\"dataframe\">\n",
       "  <thead>\n",
       "    <tr style=\"text-align: right;\">\n",
       "      <th></th>\n",
       "      <th>Country</th>\n",
       "      <th>Literacy_Rate</th>\n",
       "      <th>Percentile</th>\n",
       "    </tr>\n",
       "  </thead>\n",
       "  <tbody>\n",
       "    <tr>\n",
       "      <th>18</th>\n",
       "      <td>Burkina Faso</td>\n",
       "      <td>29</td>\n",
       "      <td>1.360544</td>\n",
       "    </tr>\n",
       "    <tr>\n",
       "      <th>93</th>\n",
       "      <td>Niger</td>\n",
       "      <td>29</td>\n",
       "      <td>1.360544</td>\n",
       "    </tr>\n",
       "    <tr>\n",
       "      <th>80</th>\n",
       "      <td>Mali</td>\n",
       "      <td>31</td>\n",
       "      <td>2.040816</td>\n",
       "    </tr>\n",
       "    <tr>\n",
       "      <th>25</th>\n",
       "      <td>Chad</td>\n",
       "      <td>34</td>\n",
       "      <td>2.721088</td>\n",
       "    </tr>\n",
       "    <tr>\n",
       "      <th>46</th>\n",
       "      <td>Ethiopia</td>\n",
       "      <td>39</td>\n",
       "      <td>3.401361</td>\n",
       "    </tr>\n",
       "  </tbody>\n",
       "</table>\n",
       "</div>"
      ],
      "text/plain": [
       "         Country  Literacy_Rate  Percentile\n",
       "18  Burkina Faso             29    1.360544\n",
       "93         Niger             29    1.360544\n",
       "80          Mali             31    2.040816\n",
       "25          Chad             34    2.721088\n",
       "46      Ethiopia             39    3.401361"
      ]
     },
     "execution_count": 90,
     "metadata": {},
     "output_type": "execute_result"
    }
   ],
   "source": [
    "df2.head()"
   ]
  },
  {
   "cell_type": "code",
   "execution_count": 91,
   "metadata": {
    "collapsed": true
   },
   "outputs": [],
   "source": [
    "df2['Classification']=pd.qcut(df2['Literacy_Rate'],3,labels=['Low','Middle','High'])"
   ]
  },
  {
   "cell_type": "code",
   "execution_count": 92,
   "metadata": {
    "collapsed": false
   },
   "outputs": [
    {
     "data": {
      "text/html": [
       "<div>\n",
       "<table border=\"1\" class=\"dataframe\">\n",
       "  <thead>\n",
       "    <tr style=\"text-align: right;\">\n",
       "      <th></th>\n",
       "      <th>Country</th>\n",
       "      <th>Literacy_Rate</th>\n",
       "      <th>Percentile</th>\n",
       "      <th>Classification</th>\n",
       "    </tr>\n",
       "  </thead>\n",
       "  <tbody>\n",
       "    <tr>\n",
       "      <th>18</th>\n",
       "      <td>Burkina Faso</td>\n",
       "      <td>29</td>\n",
       "      <td>1.360544</td>\n",
       "      <td>Low</td>\n",
       "    </tr>\n",
       "    <tr>\n",
       "      <th>93</th>\n",
       "      <td>Niger</td>\n",
       "      <td>29</td>\n",
       "      <td>1.360544</td>\n",
       "      <td>Low</td>\n",
       "    </tr>\n",
       "    <tr>\n",
       "      <th>80</th>\n",
       "      <td>Mali</td>\n",
       "      <td>31</td>\n",
       "      <td>2.040816</td>\n",
       "      <td>Low</td>\n",
       "    </tr>\n",
       "    <tr>\n",
       "      <th>25</th>\n",
       "      <td>Chad</td>\n",
       "      <td>34</td>\n",
       "      <td>2.721088</td>\n",
       "      <td>Low</td>\n",
       "    </tr>\n",
       "    <tr>\n",
       "      <th>46</th>\n",
       "      <td>Ethiopia</td>\n",
       "      <td>39</td>\n",
       "      <td>3.401361</td>\n",
       "      <td>Low</td>\n",
       "    </tr>\n",
       "    <tr>\n",
       "      <th>53</th>\n",
       "      <td>Guinea</td>\n",
       "      <td>41</td>\n",
       "      <td>4.081633</td>\n",
       "      <td>Low</td>\n",
       "    </tr>\n",
       "    <tr>\n",
       "      <th>115</th>\n",
       "      <td>Sierra Leone</td>\n",
       "      <td>42</td>\n",
       "      <td>5.442177</td>\n",
       "      <td>Low</td>\n",
       "    </tr>\n",
       "    <tr>\n",
       "      <th>10</th>\n",
       "      <td>Benin</td>\n",
       "      <td>42</td>\n",
       "      <td>5.442177</td>\n",
       "      <td>Low</td>\n",
       "    </tr>\n",
       "    <tr>\n",
       "      <th>55</th>\n",
       "      <td>Haiti</td>\n",
       "      <td>49</td>\n",
       "      <td>6.122449</td>\n",
       "      <td>Low</td>\n",
       "    </tr>\n",
       "    <tr>\n",
       "      <th>48</th>\n",
       "      <td>Gambia</td>\n",
       "      <td>50</td>\n",
       "      <td>7.482993</td>\n",
       "      <td>Low</td>\n",
       "    </tr>\n",
       "    <tr>\n",
       "      <th>112</th>\n",
       "      <td>Senegal</td>\n",
       "      <td>50</td>\n",
       "      <td>7.482993</td>\n",
       "      <td>Low</td>\n",
       "    </tr>\n",
       "    <tr>\n",
       "      <th>11</th>\n",
       "      <td>Bhutan</td>\n",
       "      <td>53</td>\n",
       "      <td>8.163265</td>\n",
       "      <td>Low</td>\n",
       "    </tr>\n",
       "    <tr>\n",
       "      <th>54</th>\n",
       "      <td>Guinea-Bissau</td>\n",
       "      <td>54</td>\n",
       "      <td>8.843537</td>\n",
       "      <td>Low</td>\n",
       "    </tr>\n",
       "    <tr>\n",
       "      <th>96</th>\n",
       "      <td>Pakistan</td>\n",
       "      <td>55</td>\n",
       "      <td>9.523810</td>\n",
       "      <td>Low</td>\n",
       "    </tr>\n",
       "    <tr>\n",
       "      <th>31</th>\n",
       "      <td>Cote d'Ivoire</td>\n",
       "      <td>56</td>\n",
       "      <td>12.244898</td>\n",
       "      <td>Low</td>\n",
       "    </tr>\n",
       "    <tr>\n",
       "      <th>88</th>\n",
       "      <td>Mozambique</td>\n",
       "      <td>56</td>\n",
       "      <td>12.244898</td>\n",
       "      <td>Low</td>\n",
       "    </tr>\n",
       "    <tr>\n",
       "      <th>87</th>\n",
       "      <td>Morocco</td>\n",
       "      <td>56</td>\n",
       "      <td>12.244898</td>\n",
       "      <td>Low</td>\n",
       "    </tr>\n",
       "    <tr>\n",
       "      <th>24</th>\n",
       "      <td>Central African Republic</td>\n",
       "      <td>56</td>\n",
       "      <td>12.244898</td>\n",
       "      <td>Low</td>\n",
       "    </tr>\n",
       "    <tr>\n",
       "      <th>130</th>\n",
       "      <td>Togo</td>\n",
       "      <td>57</td>\n",
       "      <td>13.605442</td>\n",
       "      <td>Low</td>\n",
       "    </tr>\n",
       "    <tr>\n",
       "      <th>8</th>\n",
       "      <td>Bangladesh</td>\n",
       "      <td>57</td>\n",
       "      <td>13.605442</td>\n",
       "      <td>Low</td>\n",
       "    </tr>\n",
       "  </tbody>\n",
       "</table>\n",
       "</div>"
      ],
      "text/plain": [
       "                      Country  Literacy_Rate  Percentile Classification\n",
       "18               Burkina Faso             29    1.360544            Low\n",
       "93                      Niger             29    1.360544            Low\n",
       "80                       Mali             31    2.040816            Low\n",
       "25                       Chad             34    2.721088            Low\n",
       "46                   Ethiopia             39    3.401361            Low\n",
       "53                     Guinea             41    4.081633            Low\n",
       "115              Sierra Leone             42    5.442177            Low\n",
       "10                      Benin             42    5.442177            Low\n",
       "55                      Haiti             49    6.122449            Low\n",
       "48                     Gambia             50    7.482993            Low\n",
       "112                   Senegal             50    7.482993            Low\n",
       "11                     Bhutan             53    8.163265            Low\n",
       "54              Guinea-Bissau             54    8.843537            Low\n",
       "96                   Pakistan             55    9.523810            Low\n",
       "31              Cote d'Ivoire             56   12.244898            Low\n",
       "88                 Mozambique             56   12.244898            Low\n",
       "87                    Morocco             56   12.244898            Low\n",
       "24   Central African Republic             56   12.244898            Low\n",
       "130                      Togo             57   13.605442            Low\n",
       "8                  Bangladesh             57   13.605442            Low"
      ]
     },
     "execution_count": 92,
     "metadata": {},
     "output_type": "execute_result"
    }
   ],
   "source": [
    "df2.head(20)"
   ]
  },
  {
   "cell_type": "code",
   "execution_count": 95,
   "metadata": {
    "collapsed": false
   },
   "outputs": [],
   "source": [
    "df3= df2.groupby(['Classification'])['Literacy_Rate']"
   ]
  },
  {
   "cell_type": "code",
   "execution_count": 96,
   "metadata": {
    "collapsed": true
   },
   "outputs": [],
   "source": [
    "df4=df3.aggregate(['count','min','max','median','std','mad','skew']).round(1)"
   ]
  },
  {
   "cell_type": "code",
   "execution_count": 97,
   "metadata": {
    "collapsed": false
   },
   "outputs": [
    {
     "data": {
      "text/html": [
       "<div>\n",
       "<table border=\"1\" class=\"dataframe\">\n",
       "  <thead>\n",
       "    <tr style=\"text-align: right;\">\n",
       "      <th></th>\n",
       "      <th>count</th>\n",
       "      <th>min</th>\n",
       "      <th>max</th>\n",
       "      <th>median</th>\n",
       "      <th>std</th>\n",
       "      <th>mad</th>\n",
       "      <th>skew</th>\n",
       "    </tr>\n",
       "    <tr>\n",
       "      <th>Classification</th>\n",
       "      <th></th>\n",
       "      <th></th>\n",
       "      <th></th>\n",
       "      <th></th>\n",
       "      <th></th>\n",
       "      <th></th>\n",
       "      <th></th>\n",
       "    </tr>\n",
       "  </thead>\n",
       "  <tbody>\n",
       "    <tr>\n",
       "      <th>Low</th>\n",
       "      <td>51</td>\n",
       "      <td>29</td>\n",
       "      <td>78</td>\n",
       "      <td>61</td>\n",
       "      <td>13.3</td>\n",
       "      <td>10.6</td>\n",
       "      <td>-0.8</td>\n",
       "    </tr>\n",
       "    <tr>\n",
       "      <th>Middle</th>\n",
       "      <td>50</td>\n",
       "      <td>83</td>\n",
       "      <td>95</td>\n",
       "      <td>91</td>\n",
       "      <td>3.5</td>\n",
       "      <td>2.9</td>\n",
       "      <td>-0.6</td>\n",
       "    </tr>\n",
       "    <tr>\n",
       "      <th>High</th>\n",
       "      <td>46</td>\n",
       "      <td>96</td>\n",
       "      <td>100</td>\n",
       "      <td>99</td>\n",
       "      <td>1.3</td>\n",
       "      <td>1.1</td>\n",
       "      <td>-0.7</td>\n",
       "    </tr>\n",
       "  </tbody>\n",
       "</table>\n",
       "</div>"
      ],
      "text/plain": [
       "                count  min  max  median   std   mad  skew\n",
       "Classification                                           \n",
       "Low                51   29   78      61  13.3  10.6  -0.8\n",
       "Middle             50   83   95      91   3.5   2.9  -0.6\n",
       "High               46   96  100      99   1.3   1.1  -0.7"
      ]
     },
     "execution_count": 97,
     "metadata": {},
     "output_type": "execute_result"
    }
   ],
   "source": [
    "df4"
   ]
  },
  {
   "cell_type": "markdown",
   "metadata": {},
   "source": [
    "## Finding outliers in data using Python Pandas library with quantiles functions"
   ]
  },
  {
   "cell_type": "code",
   "execution_count": 124,
   "metadata": {
    "collapsed": true
   },
   "outputs": [],
   "source": [
    "import pandas as pd"
   ]
  },
  {
   "cell_type": "code",
   "execution_count": 125,
   "metadata": {
    "collapsed": false
   },
   "outputs": [],
   "source": [
    "#Finding outliers in the data \n",
    "#Lower fence = Q1 -1.5IQR \n",
    "#Upper fence = Q3 + 1.5IQR \n",
    "#Outliers fall outside of the fences"
   ]
  },
  {
   "cell_type": "code",
   "execution_count": 126,
   "metadata": {
    "collapsed": true
   },
   "outputs": [],
   "source": [
    "df5=pd.read_csv(\"C:\\\\Users\\\\HP\\\\Downloads\\\\InfantMortalityGNI.csv\",encoding='latin1')"
   ]
  },
  {
   "cell_type": "code",
   "execution_count": 127,
   "metadata": {
    "collapsed": false
   },
   "outputs": [
    {
     "data": {
      "text/html": [
       "<div>\n",
       "<table border=\"1\" class=\"dataframe\">\n",
       "  <thead>\n",
       "    <tr style=\"text-align: right;\">\n",
       "      <th></th>\n",
       "      <th>Countries</th>\n",
       "      <th>GNI_PER_CAPITA</th>\n",
       "      <th>Infant_Mortality</th>\n",
       "    </tr>\n",
       "  </thead>\n",
       "  <tbody>\n",
       "    <tr>\n",
       "      <th>0</th>\n",
       "      <td>Afghanistan</td>\n",
       "      <td>590.0</td>\n",
       "      <td>73.2</td>\n",
       "    </tr>\n",
       "    <tr>\n",
       "      <th>1</th>\n",
       "      <td>Albania</td>\n",
       "      <td>4290.0</td>\n",
       "      <td>14.0</td>\n",
       "    </tr>\n",
       "    <tr>\n",
       "      <th>2</th>\n",
       "      <td>Algeria</td>\n",
       "      <td>4800.0</td>\n",
       "      <td>25.5</td>\n",
       "    </tr>\n",
       "    <tr>\n",
       "      <th>3</th>\n",
       "      <td>Andorra</td>\n",
       "      <td>NaN</td>\n",
       "      <td>2.8</td>\n",
       "    </tr>\n",
       "    <tr>\n",
       "      <th>4</th>\n",
       "      <td>Angola</td>\n",
       "      <td>4040.0</td>\n",
       "      <td>86.5</td>\n",
       "    </tr>\n",
       "  </tbody>\n",
       "</table>\n",
       "</div>"
      ],
      "text/plain": [
       "     Countries  GNI_PER_CAPITA  Infant_Mortality\n",
       "0  Afghanistan           590.0              73.2\n",
       "1      Albania          4290.0              14.0\n",
       "2      Algeria          4800.0              25.5\n",
       "3      Andorra             NaN               2.8\n",
       "4       Angola          4040.0              86.5"
      ]
     },
     "execution_count": 127,
     "metadata": {},
     "output_type": "execute_result"
    }
   ],
   "source": [
    "df5.head()"
   ]
  },
  {
   "cell_type": "code",
   "execution_count": 128,
   "metadata": {
    "collapsed": false
   },
   "outputs": [],
   "source": [
    "df5.drop('GNI_PER_CAPITA',axis=1,inplace=True)"
   ]
  },
  {
   "cell_type": "code",
   "execution_count": 129,
   "metadata": {
    "collapsed": false
   },
   "outputs": [
    {
     "data": {
      "text/html": [
       "<div>\n",
       "<table border=\"1\" class=\"dataframe\">\n",
       "  <thead>\n",
       "    <tr style=\"text-align: right;\">\n",
       "      <th></th>\n",
       "      <th>Countries</th>\n",
       "      <th>Infant_Mortality</th>\n",
       "    </tr>\n",
       "  </thead>\n",
       "  <tbody>\n",
       "    <tr>\n",
       "      <th>0</th>\n",
       "      <td>Afghanistan</td>\n",
       "      <td>73.2</td>\n",
       "    </tr>\n",
       "    <tr>\n",
       "      <th>1</th>\n",
       "      <td>Albania</td>\n",
       "      <td>14.0</td>\n",
       "    </tr>\n",
       "    <tr>\n",
       "      <th>2</th>\n",
       "      <td>Algeria</td>\n",
       "      <td>25.5</td>\n",
       "    </tr>\n",
       "    <tr>\n",
       "      <th>3</th>\n",
       "      <td>Andorra</td>\n",
       "      <td>2.8</td>\n",
       "    </tr>\n",
       "    <tr>\n",
       "      <th>4</th>\n",
       "      <td>Angola</td>\n",
       "      <td>86.5</td>\n",
       "    </tr>\n",
       "  </tbody>\n",
       "</table>\n",
       "</div>"
      ],
      "text/plain": [
       "     Countries  Infant_Mortality\n",
       "0  Afghanistan              73.2\n",
       "1      Albania              14.0\n",
       "2      Algeria              25.5\n",
       "3      Andorra               2.8\n",
       "4       Angola              86.5"
      ]
     },
     "execution_count": 129,
     "metadata": {},
     "output_type": "execute_result"
    }
   ],
   "source": [
    "df5.head()"
   ]
  },
  {
   "cell_type": "markdown",
   "metadata": {},
   "source": [
    "## Compute the quartiles and fences in Pandas"
   ]
  },
  {
   "cell_type": "code",
   "execution_count": 130,
   "metadata": {
    "collapsed": false
   },
   "outputs": [],
   "source": [
    "Q1= df['Infant_Mortality'].quantile(0.25,interpolation='linear')"
   ]
  },
  {
   "cell_type": "code",
   "execution_count": 131,
   "metadata": {
    "collapsed": true
   },
   "outputs": [],
   "source": [
    "Q3=df['Infant_Mortality'].quantile(0.75,interpolation='linear')"
   ]
  },
  {
   "cell_type": "code",
   "execution_count": 132,
   "metadata": {
    "collapsed": true
   },
   "outputs": [],
   "source": [
    "IQR=Q3-Q1"
   ]
  },
  {
   "cell_type": "code",
   "execution_count": 133,
   "metadata": {
    "collapsed": true
   },
   "outputs": [],
   "source": [
    "Lowerfence= Q1-1.5*IQR\n",
    "Upperfence= Q3+1.5*IQR"
   ]
  },
  {
   "cell_type": "code",
   "execution_count": 134,
   "metadata": {
    "collapsed": false
   },
   "outputs": [
    {
     "data": {
      "text/plain": [
       "8.2"
      ]
     },
     "execution_count": 134,
     "metadata": {},
     "output_type": "execute_result"
    }
   ],
   "source": [
    "Q1"
   ]
  },
  {
   "cell_type": "code",
   "execution_count": 135,
   "metadata": {
    "collapsed": false
   },
   "outputs": [
    {
     "data": {
      "text/plain": [
       "50.6"
      ]
     },
     "execution_count": 135,
     "metadata": {},
     "output_type": "execute_result"
    }
   ],
   "source": [
    "Q3"
   ]
  },
  {
   "cell_type": "code",
   "execution_count": 136,
   "metadata": {
    "collapsed": false
   },
   "outputs": [
    {
     "data": {
      "text/plain": [
       "42.400000000000006"
      ]
     },
     "execution_count": 136,
     "metadata": {},
     "output_type": "execute_result"
    }
   ],
   "source": [
    "IQR"
   ]
  },
  {
   "cell_type": "code",
   "execution_count": 137,
   "metadata": {
    "collapsed": false
   },
   "outputs": [
    {
     "data": {
      "text/plain": [
       "-55.400000000000006"
      ]
     },
     "execution_count": 137,
     "metadata": {},
     "output_type": "execute_result"
    }
   ],
   "source": [
    "Lowerfence"
   ]
  },
  {
   "cell_type": "code",
   "execution_count": 138,
   "metadata": {
    "collapsed": false
   },
   "outputs": [
    {
     "data": {
      "text/plain": [
       "114.20000000000002"
      ]
     },
     "execution_count": 138,
     "metadata": {},
     "output_type": "execute_result"
    }
   ],
   "source": [
    "Upperfence"
   ]
  },
  {
   "cell_type": "code",
   "execution_count": 146,
   "metadata": {
    "collapsed": false
   },
   "outputs": [],
   "source": [
    "OUTLIERS= df5.loc[(df5['Infant_Mortality']< Lowerfence)| (df5['Infant_Mortality']> Upperfence)] "
   ]
  },
  {
   "cell_type": "code",
   "execution_count": 147,
   "metadata": {
    "collapsed": true
   },
   "outputs": [],
   "source": [
    "NORMAL= df5.loc[(df5['Infant_Mortality']>Lowerfence) & (df5['Infant_Mortality']< Upperfence)]"
   ]
  },
  {
   "cell_type": "code",
   "execution_count": 148,
   "metadata": {
    "collapsed": false
   },
   "outputs": [
    {
     "data": {
      "text/html": [
       "<div>\n",
       "<table border=\"1\" class=\"dataframe\">\n",
       "  <thead>\n",
       "    <tr style=\"text-align: right;\">\n",
       "      <th></th>\n",
       "      <th>Countries</th>\n",
       "      <th>Infant_Mortality</th>\n",
       "    </tr>\n",
       "  </thead>\n",
       "  <tbody>\n",
       "    <tr>\n",
       "      <th>32</th>\n",
       "      <td>Central African Republic</td>\n",
       "      <td>128.8</td>\n",
       "    </tr>\n",
       "    <tr>\n",
       "      <th>33</th>\n",
       "      <td>Chad</td>\n",
       "      <td>130.9</td>\n",
       "    </tr>\n",
       "    <tr>\n",
       "      <th>153</th>\n",
       "      <td>Sierra Leone</td>\n",
       "      <td>118.8</td>\n",
       "    </tr>\n",
       "    <tr>\n",
       "      <th>158</th>\n",
       "      <td>Somalia</td>\n",
       "      <td>136.7</td>\n",
       "    </tr>\n",
       "  </tbody>\n",
       "</table>\n",
       "</div>"
      ],
      "text/plain": [
       "                    Countries  Infant_Mortality\n",
       "32   Central African Republic             128.8\n",
       "33                       Chad             130.9\n",
       "153              Sierra Leone             118.8\n",
       "158                   Somalia             136.7"
      ]
     },
     "execution_count": 148,
     "metadata": {},
     "output_type": "execute_result"
    }
   ],
   "source": [
    "OUTLIERS"
   ]
  },
  {
   "cell_type": "code",
   "execution_count": 149,
   "metadata": {
    "collapsed": false
   },
   "outputs": [
    {
     "data": {
      "text/html": [
       "<div>\n",
       "<table border=\"1\" class=\"dataframe\">\n",
       "  <thead>\n",
       "    <tr style=\"text-align: right;\">\n",
       "      <th></th>\n",
       "      <th>Countries</th>\n",
       "      <th>Infant_Mortality</th>\n",
       "    </tr>\n",
       "  </thead>\n",
       "  <tbody>\n",
       "    <tr>\n",
       "      <th>0</th>\n",
       "      <td>Afghanistan</td>\n",
       "      <td>73.2</td>\n",
       "    </tr>\n",
       "    <tr>\n",
       "      <th>1</th>\n",
       "      <td>Albania</td>\n",
       "      <td>14.0</td>\n",
       "    </tr>\n",
       "    <tr>\n",
       "      <th>2</th>\n",
       "      <td>Algeria</td>\n",
       "      <td>25.5</td>\n",
       "    </tr>\n",
       "    <tr>\n",
       "      <th>3</th>\n",
       "      <td>Andorra</td>\n",
       "      <td>2.8</td>\n",
       "    </tr>\n",
       "    <tr>\n",
       "      <th>4</th>\n",
       "      <td>Angola</td>\n",
       "      <td>86.5</td>\n",
       "    </tr>\n",
       "  </tbody>\n",
       "</table>\n",
       "</div>"
      ],
      "text/plain": [
       "     Countries  Infant_Mortality\n",
       "0  Afghanistan              73.2\n",
       "1      Albania              14.0\n",
       "2      Algeria              25.5\n",
       "3      Andorra               2.8\n",
       "4       Angola              86.5"
      ]
     },
     "execution_count": 149,
     "metadata": {},
     "output_type": "execute_result"
    }
   ],
   "source": [
    "NORMAL.head()"
   ]
  },
  {
   "cell_type": "markdown",
   "metadata": {},
   "source": [
    "## Compare descriptive statistics using all data with outliers and the data without outliers"
   ]
  },
  {
   "cell_type": "code",
   "execution_count": 150,
   "metadata": {
    "collapsed": false
   },
   "outputs": [
    {
     "data": {
      "text/plain": [
       "Infant_Mortality  count    193.000000\n",
       "                  mean      31.427979\n",
       "                  std       31.317277\n",
       "                  min        2.200000\n",
       "                  25%        8.200000\n",
       "                  50%       17.400000\n",
       "                  75%       49.500000\n",
       "                  max      136.700000\n",
       "dtype: float64"
      ]
     },
     "execution_count": 150,
     "metadata": {},
     "output_type": "execute_result"
    }
   ],
   "source": [
    "df5.describe().unstack()"
   ]
  },
  {
   "cell_type": "code",
   "execution_count": 151,
   "metadata": {
    "collapsed": false
   },
   "outputs": [
    {
     "data": {
      "text/plain": [
       "Infant_Mortality  count    189.000000\n",
       "                  mean      29.367196\n",
       "                  std       28.191356\n",
       "                  min        2.200000\n",
       "                  25%        8.000000\n",
       "                  50%       16.900000\n",
       "                  75%       45.900000\n",
       "                  max      114.200000\n",
       "dtype: float64"
      ]
     },
     "execution_count": 151,
     "metadata": {},
     "output_type": "execute_result"
    }
   ],
   "source": [
    "NORMAL.describe().unstack()"
   ]
  },
  {
   "cell_type": "code",
   "execution_count": null,
   "metadata": {
    "collapsed": true
   },
   "outputs": [],
   "source": []
  }
 ],
 "metadata": {
  "kernelspec": {
   "display_name": "Python 3",
   "language": "python",
   "name": "python3"
  },
  "language_info": {
   "codemirror_mode": {
    "name": "ipython",
    "version": 3
   },
   "file_extension": ".py",
   "mimetype": "text/x-python",
   "name": "python",
   "nbconvert_exporter": "python",
   "pygments_lexer": "ipython3",
   "version": "3.6.0"
  }
 },
 "nbformat": 4,
 "nbformat_minor": 2
}
