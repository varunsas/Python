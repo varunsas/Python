{
 "cells": [
  {
   "cell_type": "markdown",
   "metadata": {},
   "source": [
    "## python loops ##"
   ]
  },
  {
   "cell_type": "code",
   "execution_count": 1,
   "metadata": {},
   "outputs": [
    {
     "name": "stdout",
     "output_type": "stream",
     "text": [
      "1\n",
      "3\n",
      "5\n",
      "7\n",
      "9\n"
     ]
    }
   ],
   "source": [
    "for i in range(1,10,2):\n",
    "    print(i)"
   ]
  },
  {
   "cell_type": "code",
   "execution_count": 5,
   "metadata": {},
   "outputs": [
    {
     "name": "stdout",
     "output_type": "stream",
     "text": [
      "10\n",
      "8\n",
      "6\n",
      "4\n",
      "2\n"
     ]
    }
   ],
   "source": [
    "for i in range(10,1,-2):\n",
    "    print(i)"
   ]
  },
  {
   "cell_type": "code",
   "execution_count": 2,
   "metadata": {},
   "outputs": [],
   "source": [
    "# import numpy as n\n",
    "# import scipy as s\n",
    "# import matplotlib.pylab as p\n",
    "# import pylab as pl\n",
    "# import warnings\n",
    "# warnings.filterwarnings('ignore')\n",
    "# for i in pl.frange(100,1,-15.2):\n",
    "#     print(i)"
   ]
  },
  {
   "cell_type": "markdown",
   "metadata": {},
   "source": [
    "## Iteration over list ##"
   ]
  },
  {
   "cell_type": "code",
   "execution_count": 3,
   "metadata": {},
   "outputs": [
    {
     "name": "stdout",
     "output_type": "stream",
     "text": [
      "30\n",
      "21\n",
      "33\n",
      "42\n",
      "53\n",
      "64\n",
      "71\n",
      "86\n",
      "97\n",
      "10\n"
     ]
    }
   ],
   "source": [
    "my_list= [30,21,33,42,53,64,71,86,97,10]\n",
    "for i in my_list:\n",
    "    print(i)"
   ]
  },
  {
   "cell_type": "markdown",
   "metadata": {},
   "source": [
    "## SUPPOSE YOU NEED TO SELECT EVERY 3RD VALUE OF LIST ##"
   ]
  },
  {
   "cell_type": "code",
   "execution_count": 7,
   "metadata": {},
   "outputs": [
    {
     "name": "stdout",
     "output_type": "stream",
     "text": [
      "30\n",
      "53\n",
      "97\n"
     ]
    }
   ],
   "source": [
    "my_list= [30,21,33,42,53,64,71,86,97,10]\n",
    "for i in my_list[::4]:\n",
    "    print(i)"
   ]
  },
  {
   "cell_type": "code",
   "execution_count": 8,
   "metadata": {},
   "outputs": [
    {
     "name": "stdout",
     "output_type": "stream",
     "text": [
      "30\n",
      "33\n",
      "53\n",
      "71\n",
      "97\n"
     ]
    }
   ],
   "source": [
    "for i in my_list[::2]:\n",
    "    print(i)"
   ]
  },
  {
   "cell_type": "markdown",
   "metadata": {},
   "source": [
    "## Exmple1:##"
   ]
  },
  {
   "cell_type": "markdown",
   "metadata": {},
   "source": [
    "### Create a new list with only item from list that is between 0 to 10 ##"
   ]
  },
  {
   "cell_type": "code",
   "execution_count": 9,
   "metadata": {},
   "outputs": [],
   "source": [
    "l1=[100,1,10,2,3,5,8,13,21,34,55,98]\n",
    "new=[]# blank list\n",
    "for i in l1:\n",
    "    if i>0 and i<=10:\n",
    "        new.append(i)"
   ]
  },
  {
   "cell_type": "code",
   "execution_count": 10,
   "metadata": {},
   "outputs": [
    {
     "data": {
      "text/plain": [
       "[1, 10, 2, 3, 5, 8]"
      ]
     },
     "execution_count": 10,
     "metadata": {},
     "output_type": "execute_result"
    }
   ],
   "source": [
    "new"
   ]
  },
  {
   "cell_type": "markdown",
   "metadata": {},
   "source": [
    "##  Another method"
   ]
  },
  {
   "cell_type": "code",
   "execution_count": 11,
   "metadata": {},
   "outputs": [],
   "source": [
    "import numpy as np"
   ]
  },
  {
   "cell_type": "code",
   "execution_count": 13,
   "metadata": {},
   "outputs": [],
   "source": [
    "k=np.array(l1)"
   ]
  },
  {
   "cell_type": "code",
   "execution_count": 14,
   "metadata": {},
   "outputs": [],
   "source": [
    "l1=[100,1,10,2,3,5,8,13,21,34,55,98]\n",
    "new=k[np.where(k<=10)]"
   ]
  },
  {
   "cell_type": "code",
   "execution_count": 15,
   "metadata": {},
   "outputs": [
    {
     "data": {
      "text/plain": [
       "array([ 1, 10,  2,  3,  5,  8])"
      ]
     },
     "execution_count": 15,
     "metadata": {},
     "output_type": "execute_result"
    }
   ],
   "source": [
    "new"
   ]
  },
  {
   "cell_type": "markdown",
   "metadata": {},
   "source": [
    "## EXAMPLE 2:Check which alphabet (a-z) is mentioned in string ##"
   ]
  },
  {
   "cell_type": "code",
   "execution_count": 16,
   "metadata": {},
   "outputs": [
    {
     "name": "stdout",
     "output_type": "stream",
     "text": [
      "a exist in varunsharma\n",
      "b does not exist in varunsharma\n",
      "c does not exist in varunsharma\n",
      "d does not exist in varunsharma\n",
      "e does not exist in varunsharma\n",
      "f does not exist in varunsharma\n",
      "g does not exist in varunsharma\n",
      "h exist in varunsharma\n",
      "i does not exist in varunsharma\n",
      "j does not exist in varunsharma\n",
      "k does not exist in varunsharma\n",
      "l does not exist in varunsharma\n",
      "m exist in varunsharma\n",
      "n exist in varunsharma\n",
      "o does not exist in varunsharma\n",
      "p does not exist in varunsharma\n",
      "q does not exist in varunsharma\n",
      "r exist in varunsharma\n",
      "s exist in varunsharma\n",
      "t does not exist in varunsharma\n",
      "u exist in varunsharma\n",
      "v exist in varunsharma\n",
      "w does not exist in varunsharma\n",
      "x does not exist in varunsharma\n",
      "y does not exist in varunsharma\n",
      "z does not exist in varunsharma\n"
     ]
    }
   ],
   "source": [
    "k=\"varunsharma\"\n",
    "\n",
    "import string\n",
    "for n in string.ascii_lowercase:\n",
    "    if n in k:\n",
    "        print( n +  ' exist in '  +  k)\n",
    "    else:\n",
    "        print( n +  ' does not exist in '  +  k )"
   ]
  },
  {
   "cell_type": "code",
   "execution_count": 17,
   "metadata": {},
   "outputs": [],
   "source": [
    "import pandas"
   ]
  },
  {
   "cell_type": "code",
   "execution_count": 18,
   "metadata": {},
   "outputs": [
    {
     "name": "stdout",
     "output_type": "stream",
     "text": [
      "Help on package pandas:\n",
      "\n",
      "NAME\n",
      "    pandas\n",
      "\n",
      "DESCRIPTION\n",
      "    pandas - a powerful data analysis and manipulation library for Python\n",
      "    =====================================================================\n",
      "    \n",
      "    **pandas** is a Python package providing fast, flexible, and expressive data\n",
      "    structures designed to make working with \"relational\" or \"labeled\" data both\n",
      "    easy and intuitive. It aims to be the fundamental high-level building block for\n",
      "    doing practical, **real world** data analysis in Python. Additionally, it has\n",
      "    the broader goal of becoming **the most powerful and flexible open source data\n",
      "    analysis / manipulation tool available in any language**. It is already well on\n",
      "    its way toward this goal.\n",
      "    \n",
      "    Main Features\n",
      "    -------------\n",
      "    Here are just a few of the things that pandas does well:\n",
      "    \n",
      "      - Easy handling of missing data in floating point as well as non-floating\n",
      "        point data.\n",
      "      - Size mutability: columns can be inserted and deleted from DataFrame and\n",
      "        higher dimensional objects\n",
      "      - Automatic and explicit data alignment: objects can be explicitly aligned\n",
      "        to a set of labels, or the user can simply ignore the labels and let\n",
      "        `Series`, `DataFrame`, etc. automatically align the data for you in\n",
      "        computations.\n",
      "      - Powerful, flexible group by functionality to perform split-apply-combine\n",
      "        operations on data sets, for both aggregating and transforming data.\n",
      "      - Make it easy to convert ragged, differently-indexed data in other Python\n",
      "        and NumPy data structures into DataFrame objects.\n",
      "      - Intelligent label-based slicing, fancy indexing, and subsetting of large\n",
      "        data sets.\n",
      "      - Intuitive merging and joining data sets.\n",
      "      - Flexible reshaping and pivoting of data sets.\n",
      "      - Hierarchical labeling of axes (possible to have multiple labels per tick).\n",
      "      - Robust IO tools for loading data from flat files (CSV and delimited),\n",
      "        Excel files, databases, and saving/loading data from the ultrafast HDF5\n",
      "        format.\n",
      "      - Time series-specific functionality: date range generation and frequency\n",
      "        conversion, moving window statistics, moving window linear regressions,\n",
      "        date shifting and lagging, etc.\n",
      "\n",
      "PACKAGE CONTENTS\n",
      "    _config (package)\n",
      "    _libs (package)\n",
      "    _typing\n",
      "    _version\n",
      "    api (package)\n",
      "    arrays (package)\n",
      "    compat (package)\n",
      "    conftest\n",
      "    core (package)\n",
      "    errors (package)\n",
      "    io (package)\n",
      "    plotting (package)\n",
      "    testing\n",
      "    tests (package)\n",
      "    tseries (package)\n",
      "    util (package)\n",
      "\n",
      "SUBMODULES\n",
      "    _hashtable\n",
      "    _lib\n",
      "    _tslib\n",
      "    offsets\n",
      "\n",
      "FUNCTIONS\n",
      "    __getattr__(name)\n",
      "\n",
      "DATA\n",
      "    IndexSlice = <pandas.core.indexing._IndexSlice object>\n",
      "    NaT = NaT\n",
      "    __docformat__ = 'restructuredtext'\n",
      "    __git_version__ = '171c71611886aab8549a8620c5b0071a129ad685'\n",
      "    describe_option = <pandas._config.config.CallableDynamicDoc object>\n",
      "    get_option = <pandas._config.config.CallableDynamicDoc object>\n",
      "    options = <pandas._config.config.DictWrapper object>\n",
      "    reset_option = <pandas._config.config.CallableDynamicDoc object>\n",
      "    set_option = <pandas._config.config.CallableDynamicDoc object>\n",
      "\n",
      "VERSION\n",
      "    0.25.1\n",
      "\n",
      "FILE\n",
      "    e:\\anaconda\\lib\\site-packages\\pandas\\__init__.py\n",
      "\n",
      "\n"
     ]
    }
   ],
   "source": [
    "help(pandas)"
   ]
  },
  {
   "cell_type": "markdown",
   "metadata": {},
   "source": [
    "## PRACTICLE EXAMPLES: FOR IN LOOP IN PYTHON ##"
   ]
  },
  {
   "cell_type": "code",
   "execution_count": 6,
   "metadata": {},
   "outputs": [],
   "source": [
    "import pandas as pd\n",
    "import numpy as np"
   ]
  },
  {
   "cell_type": "code",
   "execution_count": 7,
   "metadata": {},
   "outputs": [],
   "source": [
    "import pandas as pd\n",
    "np.random.seed(234)\n",
    "df= pd.DataFrame ({\"x1\": np.random.randint(low=1,high=100,size=10),\n",
    "                  \"Month1\" : np.random.normal(size=10),\n",
    "                  \"Month2\" : np.random.normal(size=10),\n",
    "                  \"Month3\" : np.random.normal(size=10),\n",
    "                  \"price\"  : range(10)\n",
    "                  })"
   ]
  },
  {
   "cell_type": "code",
   "execution_count": 8,
   "metadata": {},
   "outputs": [
    {
     "data": {
      "text/html": [
       "<div>\n",
       "<style scoped>\n",
       "    .dataframe tbody tr th:only-of-type {\n",
       "        vertical-align: middle;\n",
       "    }\n",
       "\n",
       "    .dataframe tbody tr th {\n",
       "        vertical-align: top;\n",
       "    }\n",
       "\n",
       "    .dataframe thead th {\n",
       "        text-align: right;\n",
       "    }\n",
       "</style>\n",
       "<table border=\"1\" class=\"dataframe\">\n",
       "  <thead>\n",
       "    <tr style=\"text-align: right;\">\n",
       "      <th></th>\n",
       "      <th>x1</th>\n",
       "      <th>Month1</th>\n",
       "      <th>Month2</th>\n",
       "      <th>Month3</th>\n",
       "      <th>price</th>\n",
       "    </tr>\n",
       "  </thead>\n",
       "  <tbody>\n",
       "    <tr>\n",
       "      <td>0</td>\n",
       "      <td>73</td>\n",
       "      <td>-1.072423</td>\n",
       "      <td>-0.451034</td>\n",
       "      <td>0.552293</td>\n",
       "      <td>0</td>\n",
       "    </tr>\n",
       "    <tr>\n",
       "      <td>1</td>\n",
       "      <td>32</td>\n",
       "      <td>1.199784</td>\n",
       "      <td>0.893741</td>\n",
       "      <td>-0.578580</td>\n",
       "      <td>1</td>\n",
       "    </tr>\n",
       "    <tr>\n",
       "      <td>2</td>\n",
       "      <td>69</td>\n",
       "      <td>-2.055237</td>\n",
       "      <td>-0.256037</td>\n",
       "      <td>-0.638391</td>\n",
       "      <td>2</td>\n",
       "    </tr>\n",
       "    <tr>\n",
       "      <td>3</td>\n",
       "      <td>58</td>\n",
       "      <td>0.480462</td>\n",
       "      <td>0.401904</td>\n",
       "      <td>-1.101918</td>\n",
       "      <td>3</td>\n",
       "    </tr>\n",
       "    <tr>\n",
       "      <td>4</td>\n",
       "      <td>96</td>\n",
       "      <td>1.274756</td>\n",
       "      <td>0.762926</td>\n",
       "      <td>0.640466</td>\n",
       "      <td>4</td>\n",
       "    </tr>\n",
       "    <tr>\n",
       "      <td>5</td>\n",
       "      <td>34</td>\n",
       "      <td>0.043043</td>\n",
       "      <td>-0.088150</td>\n",
       "      <td>0.810026</td>\n",
       "      <td>5</td>\n",
       "    </tr>\n",
       "    <tr>\n",
       "      <td>6</td>\n",
       "      <td>4</td>\n",
       "      <td>-0.263597</td>\n",
       "      <td>0.941738</td>\n",
       "      <td>-0.436055</td>\n",
       "      <td>6</td>\n",
       "    </tr>\n",
       "    <tr>\n",
       "      <td>7</td>\n",
       "      <td>55</td>\n",
       "      <td>-0.060155</td>\n",
       "      <td>0.753765</td>\n",
       "      <td>1.158233</td>\n",
       "      <td>7</td>\n",
       "    </tr>\n",
       "    <tr>\n",
       "      <td>8</td>\n",
       "      <td>64</td>\n",
       "      <td>2.489127</td>\n",
       "      <td>0.698780</td>\n",
       "      <td>-0.462182</td>\n",
       "      <td>8</td>\n",
       "    </tr>\n",
       "    <tr>\n",
       "      <td>9</td>\n",
       "      <td>68</td>\n",
       "      <td>1.018972</td>\n",
       "      <td>-0.464929</td>\n",
       "      <td>0.790867</td>\n",
       "      <td>9</td>\n",
       "    </tr>\n",
       "  </tbody>\n",
       "</table>\n",
       "</div>"
      ],
      "text/plain": [
       "   x1    Month1    Month2    Month3  price\n",
       "0  73 -1.072423 -0.451034  0.552293      0\n",
       "1  32  1.199784  0.893741 -0.578580      1\n",
       "2  69 -2.055237 -0.256037 -0.638391      2\n",
       "3  58  0.480462  0.401904 -1.101918      3\n",
       "4  96  1.274756  0.762926  0.640466      4\n",
       "5  34  0.043043 -0.088150  0.810026      5\n",
       "6   4 -0.263597  0.941738 -0.436055      6\n",
       "7  55 -0.060155  0.753765  1.158233      7\n",
       "8  64  2.489127  0.698780 -0.462182      8\n",
       "9  68  1.018972 -0.464929  0.790867      9"
      ]
     },
     "execution_count": 8,
     "metadata": {},
     "output_type": "execute_result"
    }
   ],
   "source": [
    "df"
   ]
  },
  {
   "cell_type": "markdown",
   "metadata": {},
   "source": [
    "# Multiple each month column by 1.2 #"
   ]
  },
  {
   "cell_type": "code",
   "execution_count": 10,
   "metadata": {},
   "outputs": [
    {
     "name": "stdout",
     "output_type": "stream",
     "text": [
      "0   -1.286908\n",
      "1    1.439741\n",
      "2   -2.466284\n",
      "3    0.576554\n",
      "4    1.529707\n",
      "5    0.051651\n",
      "6   -0.316316\n",
      "7   -0.072186\n",
      "8    2.986952\n",
      "9    1.222767\n",
      "Name: Month1, dtype: float64\n",
      "0   -0.541241\n",
      "1    1.072489\n",
      "2   -0.307244\n",
      "3    0.482284\n",
      "4    0.915511\n",
      "5   -0.105780\n",
      "6    1.130085\n",
      "7    0.904517\n",
      "8    0.838536\n",
      "9   -0.557915\n",
      "Name: Month2, dtype: float64\n",
      "0    0.662752\n",
      "1   -0.694296\n",
      "2   -0.766069\n",
      "3   -1.322302\n",
      "4    0.768559\n",
      "5    0.972031\n",
      "6   -0.523266\n",
      "7    1.389879\n",
      "8   -0.554619\n",
      "9    0.949040\n",
      "Name: Month3, dtype: float64\n"
     ]
    }
   ],
   "source": [
    "for i in range(1,4):\n",
    "    print(df[\"Month\" +str(i)]*1.2)"
   ]
  },
  {
   "cell_type": "code",
   "execution_count": 11,
   "metadata": {},
   "outputs": [
    {
     "name": "stdout",
     "output_type": "stream",
     "text": [
      "0   -1.072423\n",
      "1    1.199784\n",
      "2   -2.055237\n",
      "3    0.480462\n",
      "4    1.274756\n",
      "5    0.043043\n",
      "6   -0.263597\n",
      "7   -0.060155\n",
      "8    2.489127\n",
      "9    1.018972\n",
      "Name: Month1, dtype: float64\n",
      "0   -0.451034\n",
      "1    0.893741\n",
      "2   -0.256037\n",
      "3    0.401904\n",
      "4    0.762926\n",
      "5   -0.088150\n",
      "6    0.941738\n",
      "7    0.753765\n",
      "8    0.698780\n",
      "9   -0.464929\n",
      "Name: Month2, dtype: float64\n"
     ]
    }
   ],
   "source": [
    "for i in range(1,3):\n",
    "    print(df[\"Month\" +str(i)])"
   ]
  },
  {
   "cell_type": "markdown",
   "metadata": {
    "collapsed": true
   },
   "source": [
    "## Store computed columns in New data frame ##"
   ]
  },
  {
   "cell_type": "code",
   "execution_count": 12,
   "metadata": {},
   "outputs": [],
   "source": [
    "import pandas as pd\n",
    "newDF= pd.DataFrame()\n",
    "for i in range (1,4):\n",
    "    data= pd.DataFrame(df[\"Month\"+ str(i)]*1.2)\n",
    "    newDF= pd.concat([newDF,data],axis=1)"
   ]
  },
  {
   "cell_type": "code",
   "execution_count": 13,
   "metadata": {},
   "outputs": [
    {
     "data": {
      "text/html": [
       "<div>\n",
       "<style scoped>\n",
       "    .dataframe tbody tr th:only-of-type {\n",
       "        vertical-align: middle;\n",
       "    }\n",
       "\n",
       "    .dataframe tbody tr th {\n",
       "        vertical-align: top;\n",
       "    }\n",
       "\n",
       "    .dataframe thead th {\n",
       "        text-align: right;\n",
       "    }\n",
       "</style>\n",
       "<table border=\"1\" class=\"dataframe\">\n",
       "  <thead>\n",
       "    <tr style=\"text-align: right;\">\n",
       "      <th></th>\n",
       "      <th>Month1</th>\n",
       "      <th>Month2</th>\n",
       "      <th>Month3</th>\n",
       "    </tr>\n",
       "  </thead>\n",
       "  <tbody>\n",
       "    <tr>\n",
       "      <td>0</td>\n",
       "      <td>-1.286908</td>\n",
       "      <td>-0.541241</td>\n",
       "      <td>0.662752</td>\n",
       "    </tr>\n",
       "    <tr>\n",
       "      <td>1</td>\n",
       "      <td>1.439741</td>\n",
       "      <td>1.072489</td>\n",
       "      <td>-0.694296</td>\n",
       "    </tr>\n",
       "    <tr>\n",
       "      <td>2</td>\n",
       "      <td>-2.466284</td>\n",
       "      <td>-0.307244</td>\n",
       "      <td>-0.766069</td>\n",
       "    </tr>\n",
       "    <tr>\n",
       "      <td>3</td>\n",
       "      <td>0.576554</td>\n",
       "      <td>0.482284</td>\n",
       "      <td>-1.322302</td>\n",
       "    </tr>\n",
       "    <tr>\n",
       "      <td>4</td>\n",
       "      <td>1.529707</td>\n",
       "      <td>0.915511</td>\n",
       "      <td>0.768559</td>\n",
       "    </tr>\n",
       "    <tr>\n",
       "      <td>5</td>\n",
       "      <td>0.051651</td>\n",
       "      <td>-0.105780</td>\n",
       "      <td>0.972031</td>\n",
       "    </tr>\n",
       "    <tr>\n",
       "      <td>6</td>\n",
       "      <td>-0.316316</td>\n",
       "      <td>1.130085</td>\n",
       "      <td>-0.523266</td>\n",
       "    </tr>\n",
       "    <tr>\n",
       "      <td>7</td>\n",
       "      <td>-0.072186</td>\n",
       "      <td>0.904517</td>\n",
       "      <td>1.389879</td>\n",
       "    </tr>\n",
       "    <tr>\n",
       "      <td>8</td>\n",
       "      <td>2.986952</td>\n",
       "      <td>0.838536</td>\n",
       "      <td>-0.554619</td>\n",
       "    </tr>\n",
       "    <tr>\n",
       "      <td>9</td>\n",
       "      <td>1.222767</td>\n",
       "      <td>-0.557915</td>\n",
       "      <td>0.949040</td>\n",
       "    </tr>\n",
       "  </tbody>\n",
       "</table>\n",
       "</div>"
      ],
      "text/plain": [
       "     Month1    Month2    Month3\n",
       "0 -1.286908 -0.541241  0.662752\n",
       "1  1.439741  1.072489 -0.694296\n",
       "2 -2.466284 -0.307244 -0.766069\n",
       "3  0.576554  0.482284 -1.322302\n",
       "4  1.529707  0.915511  0.768559\n",
       "5  0.051651 -0.105780  0.972031\n",
       "6 -0.316316  1.130085 -0.523266\n",
       "7 -0.072186  0.904517  1.389879\n",
       "8  2.986952  0.838536 -0.554619\n",
       "9  1.222767 -0.557915  0.949040"
      ]
     },
     "execution_count": 13,
     "metadata": {},
     "output_type": "execute_result"
    }
   ],
   "source": [
    "newDF"
   ]
  },
  {
   "cell_type": "markdown",
   "metadata": {},
   "source": [
    "## Check if value of x1>=50 , multiply each month cost by price.otherwise same as month ##"
   ]
  },
  {
   "cell_type": "code",
   "execution_count": 15,
   "metadata": {},
   "outputs": [],
   "source": [
    "import pandas as pd\n",
    "import numpy as np\n",
    "for i in range(1,4):\n",
    "    df2=df['newcol' + str(i)]=np.where(df['x1']>=50,\n",
    "                                   df['Month' + str(i)]* df['price'],\n",
    "                                   df['Month' +str(i)])\n"
   ]
  },
  {
   "cell_type": "code",
   "execution_count": 16,
   "metadata": {},
   "outputs": [
    {
     "data": {
      "text/plain": [
       "array([ 0.        , -0.57858041, -1.27678242, -3.30575416,  2.56186374,\n",
       "        0.81002604, -0.43605503,  8.10762822, -3.69745667,  7.11780124])"
      ]
     },
     "execution_count": 16,
     "metadata": {},
     "output_type": "execute_result"
    }
   ],
   "source": [
    "df2"
   ]
  },
  {
   "cell_type": "markdown",
   "metadata": {},
   "source": [
    "### FILTER DATAFRAME BY EACH UNIQUE VALUE OF COLUMN AND STORE IT IN A SEPRATE DATAFRAME##"
   ]
  },
  {
   "cell_type": "code",
   "execution_count": 25,
   "metadata": {},
   "outputs": [],
   "source": [
    "mydata=pd.DataFrame({\"X1\" : [\"A\",\"A\",\"B\",\"B\",\"C\"]})\n",
    "\n",
    "for name in mydata.X1.unique():\n",
    "     temp= pd.DataFrame(mydata[mydata.X1 == name])\n",
    "     exec('{}= temp'.format(name))"
   ]
  },
  {
   "cell_type": "code",
   "execution_count": 26,
   "metadata": {},
   "outputs": [
    {
     "data": {
      "text/html": [
       "<div>\n",
       "<style scoped>\n",
       "    .dataframe tbody tr th:only-of-type {\n",
       "        vertical-align: middle;\n",
       "    }\n",
       "\n",
       "    .dataframe tbody tr th {\n",
       "        vertical-align: top;\n",
       "    }\n",
       "\n",
       "    .dataframe thead th {\n",
       "        text-align: right;\n",
       "    }\n",
       "</style>\n",
       "<table border=\"1\" class=\"dataframe\">\n",
       "  <thead>\n",
       "    <tr style=\"text-align: right;\">\n",
       "      <th></th>\n",
       "      <th>X1</th>\n",
       "    </tr>\n",
       "  </thead>\n",
       "  <tbody>\n",
       "    <tr>\n",
       "      <td>0</td>\n",
       "      <td>A</td>\n",
       "    </tr>\n",
       "    <tr>\n",
       "      <td>1</td>\n",
       "      <td>A</td>\n",
       "    </tr>\n",
       "    <tr>\n",
       "      <td>2</td>\n",
       "      <td>B</td>\n",
       "    </tr>\n",
       "    <tr>\n",
       "      <td>3</td>\n",
       "      <td>B</td>\n",
       "    </tr>\n",
       "    <tr>\n",
       "      <td>4</td>\n",
       "      <td>C</td>\n",
       "    </tr>\n",
       "  </tbody>\n",
       "</table>\n",
       "</div>"
      ],
      "text/plain": [
       "  X1\n",
       "0  A\n",
       "1  A\n",
       "2  B\n",
       "3  B\n",
       "4  C"
      ]
     },
     "execution_count": 26,
     "metadata": {},
     "output_type": "execute_result"
    }
   ],
   "source": [
    "mydata"
   ]
  },
  {
   "cell_type": "code",
   "execution_count": 22,
   "metadata": {},
   "outputs": [
    {
     "data": {
      "text/html": [
       "<div>\n",
       "<style scoped>\n",
       "    .dataframe tbody tr th:only-of-type {\n",
       "        vertical-align: middle;\n",
       "    }\n",
       "\n",
       "    .dataframe tbody tr th {\n",
       "        vertical-align: top;\n",
       "    }\n",
       "\n",
       "    .dataframe thead th {\n",
       "        text-align: right;\n",
       "    }\n",
       "</style>\n",
       "<table border=\"1\" class=\"dataframe\">\n",
       "  <thead>\n",
       "    <tr style=\"text-align: right;\">\n",
       "      <th></th>\n",
       "      <th>X1</th>\n",
       "    </tr>\n",
       "  </thead>\n",
       "  <tbody>\n",
       "    <tr>\n",
       "      <td>4</td>\n",
       "      <td>C</td>\n",
       "    </tr>\n",
       "  </tbody>\n",
       "</table>\n",
       "</div>"
      ],
      "text/plain": [
       "  X1\n",
       "4  C"
      ]
     },
     "execution_count": 22,
     "metadata": {},
     "output_type": "execute_result"
    }
   ],
   "source": [
    "temp"
   ]
  },
  {
   "cell_type": "code",
   "execution_count": 21,
   "metadata": {},
   "outputs": [
    {
     "data": {
      "text/plain": [
       "'this is print hello'"
      ]
     },
     "execution_count": 21,
     "metadata": {},
     "output_type": "execute_result"
    }
   ],
   "source": [
    "v= \"print hello\"\n",
    "\"this is {}\".format(v)"
   ]
  },
  {
   "cell_type": "code",
   "execution_count": 29,
   "metadata": {},
   "outputs": [
    {
     "data": {
      "text/plain": [
       "'i am Your Input'"
      ]
     },
     "execution_count": 29,
     "metadata": {},
     "output_type": "execute_result"
    }
   ],
   "source": [
    "s= \"Your Input\"\n",
    "\"i am {}\".format(s)"
   ]
  },
  {
   "cell_type": "markdown",
   "metadata": {},
   "source": [
    "## LOOP CONTROL STATEMENTS ##"
   ]
  },
  {
   "cell_type": "markdown",
   "metadata": {},
   "source": [
    "### CONTINUE STATEMENT ##"
   ]
  },
  {
   "cell_type": "code",
   "execution_count": 30,
   "metadata": {},
   "outputs": [
    {
     "name": "stdout",
     "output_type": "stream",
     "text": [
      "letter: b\n",
      "letter: c\n",
      "letter: e\n",
      "letter: f\n"
     ]
    }
   ],
   "source": [
    "for n in \"abcdef\":\n",
    "    if n == \"a\" or n ==\"d\":\n",
    "        continue\n",
    "    print(\"letter:\",n)"
   ]
  },
  {
   "cell_type": "markdown",
   "metadata": {},
   "source": [
    "### BREAK STATEMENT ##"
   ]
  },
  {
   "cell_type": "code",
   "execution_count": 37,
   "metadata": {},
   "outputs": [
    {
     "name": "stdout",
     "output_type": "stream",
     "text": [
      "letter: a\n",
      "letter: b\n",
      "letter: c\n",
      "letter: d\n"
     ]
    }
   ],
   "source": [
    "for n in \"abcdef\":\n",
    "    if n == \"e\"  :\n",
    "        break\n",
    "    print(\"letter:\",n)"
   ]
  },
  {
   "cell_type": "code",
   "execution_count": 38,
   "metadata": {},
   "outputs": [
    {
     "name": "stdout",
     "output_type": "stream",
     "text": [
      "letter: a\n",
      "letter: b\n"
     ]
    }
   ],
   "source": [
    "for n in \"abcdef\":\n",
    "    if n == \"c\" or n == \"e\" :\n",
    "        break\n",
    "    print(\"letter:\",n)"
   ]
  },
  {
   "cell_type": "markdown",
   "metadata": {},
   "source": [
    "## FOR LOOP WITH ELSE CLAUSE ##"
   ]
  },
  {
   "cell_type": "code",
   "execution_count": 28,
   "metadata": {},
   "outputs": [
    {
     "name": "stdout",
     "output_type": "stream",
     "text": [
      "2 is a prime number\n",
      "4 = 2 * 2\n",
      "6 = 2 * 3\n",
      "8 = 2 * 4\n"
     ]
    }
   ],
   "source": [
    "for k in range(2,10):\n",
    "    for y in range(2,k):\n",
    "        if k % y == 0:\n",
    "            print(k,'=',y,'*',round(k/y))\n",
    "        break\n",
    "    else:\n",
    "        print(k, 'is a prime number')"
   ]
  },
  {
   "cell_type": "markdown",
   "metadata": {},
   "source": [
    "## WHILE LOOP ##"
   ]
  },
  {
   "cell_type": "code",
   "execution_count": 39,
   "metadata": {},
   "outputs": [
    {
     "name": "stdout",
     "output_type": "stream",
     "text": [
      "1\n",
      "new i: 3\n",
      "3\n",
      "new i: 5\n",
      "5\n",
      "new i: 7\n",
      "7\n",
      "new i: 9\n",
      "9\n",
      "new i: 11\n"
     ]
    }
   ],
   "source": [
    "i=1\n",
    "while i < 10:\n",
    "    print(i)\n",
    "    i += 2 #means i=i+2\n",
    "    print(\"new i:\",i)"
   ]
  },
  {
   "cell_type": "markdown",
   "metadata": {},
   "source": [
    "## WHILE LOOP WITH IF-ELSE STATEMENT ##"
   ]
  },
  {
   "cell_type": "code",
   "execution_count": 40,
   "metadata": {},
   "outputs": [
    {
     "name": "stdout",
     "output_type": "stream",
     "text": [
      "Less than 2\n",
      ">= 2 and <=4\n",
      ">= 2 and <=4\n",
      ">= 2 and <=4\n",
      " Greater than 4\n"
     ]
    }
   ],
   "source": [
    "counter =1\n",
    "while(counter<=5):\n",
    "    if counter <2:\n",
    "        print(\"Less than 2\")\n",
    "    elif counter >4:\n",
    "        print(\" Greater than 4\")\n",
    "    else:\n",
    "        print(\">= 2 and <=4\")\n",
    "    counter +=1"
   ]
  },
  {
   "cell_type": "code",
   "execution_count": 1,
   "metadata": {
    "collapsed": true
   },
   "outputs": [],
   "source": [
    "import os"
   ]
  },
  {
   "cell_type": "code",
   "execution_count": 4,
   "metadata": {},
   "outputs": [
    {
     "data": {
      "text/plain": [
       "['.3T',\n",
       " '.anaconda',\n",
       " '.android',\n",
       " '.cache',\n",
       " '.conda',\n",
       " '.condarc',\n",
       " '.continuum',\n",
       " '.ipynb_checkpoints',\n",
       " '.ipython',\n",
       " '.jupyter',\n",
       " '.matplotlib',\n",
       " '.oracle_jre_usage',\n",
       " '.PyCharm2018.2',\n",
       " '.QtWebEngineProcess',\n",
       " '.sasstudiohost_3.1',\n",
       " '.spss',\n",
       " '.spyder-py3',\n",
       " '.swt',\n",
       " '.Tableau Public',\n",
       " '0355.tmp',\n",
       " '3D Objects',\n",
       " '5222.tmp',\n",
       " 'Anaconda3',\n",
       " 'AnacondaProjects',\n",
       " 'Analyzing descriptive statistics using Pandas libraries in Python3.ipynb',\n",
       " 'AppData',\n",
       " 'Application Data',\n",
       " 'bar.html',\n",
       " 'basic-plot.html',\n",
       " 'bubble.html',\n",
       " 'Class and Objects.ipynb',\n",
       " 'Classes and Functions.ipynb',\n",
       " 'Computing Statistics with missing values using the statistics library in python.ipynb',\n",
       " 'Contacts',\n",
       " 'Cookies',\n",
       " 'corrplotcrime.png',\n",
       " 'corruption.png',\n",
       " 'Data Visualization  and Descriptive Statistics with Python3.ipynb',\n",
       " 'Data visualization and Descriptive Statistics with Python3 part2 .ipynb',\n",
       " 'Desktop',\n",
       " 'Dis-plot.html',\n",
       " 'Documents',\n",
       " 'Downloads',\n",
       " 'DS and ML with Python 2019.(1).ipynb',\n",
       " 'DS and ML with Python 2019.(2).ipynb',\n",
       " 'dwhelper',\n",
       " 'Favorites',\n",
       " 'Histogram.html',\n",
       " 'Intel',\n",
       " 'jre',\n",
       " 'KNN Practice Ultimate Data Science and machine learning.ipynb',\n",
       " 'line-plot.html',\n",
       " 'Linear regression & Logistic Regression in Ultimate Data Science and Machine Learning.ipynb',\n",
       " 'Links',\n",
       " 'Local Settings',\n",
       " 'Metplotlib.ipynb',\n",
       " 'MicrosoftEdgeBackups',\n",
       " 'Music',\n",
       " 'My Documents',\n",
       " 'MY_BRAND_NEW.pdf',\n",
       " 'NetHood',\n",
       " 'Nevin Reddy practice.ipynb',\n",
       " 'NLP Intellipaat.ipynb',\n",
       " 'NLP.ipynb',\n",
       " 'NLP.SPACY.ipynb',\n",
       " 'NTUSER.DAT',\n",
       " 'ntuser.dat.LOG1',\n",
       " 'ntuser.dat.LOG2',\n",
       " 'NTUSER.DAT{a8024b34-b034-11e9-8621-92a0181c6831}.TM.blf',\n",
       " 'NTUSER.DAT{a8024b34-b034-11e9-8621-92a0181c6831}.TMContainer00000000000000000001.regtrans-ms',\n",
       " 'NTUSER.DAT{a8024b34-b034-11e9-8621-92a0181c6831}.TMContainer00000000000000000002.regtrans-ms',\n",
       " 'ntuser.ini',\n",
       " 'Numpy_practice.ipynb',\n",
       " 'OneDrive',\n",
       " 'OOPS.ipynb',\n",
       " 'pandas_practice.ipynb',\n",
       " 'persistent_state',\n",
       " 'Pictures',\n",
       " 'PIMA INDIA DIABETES.ipynb',\n",
       " 'PrintHood',\n",
       " 'PycharmProjects',\n",
       " 'Python Book Practice(2).ipynb',\n",
       " 'Python book practice.ipynb',\n",
       " 'Python file importing.ipynb',\n",
       " 'Python loops.ipynb',\n",
       " 'RandomForest DS and ML with Python .ipynb',\n",
       " 'Recent',\n",
       " 'SampleCsv.csv',\n",
       " 'SampleCsv.xls',\n",
       " 'Saved Games',\n",
       " 'scatter-plot.html',\n",
       " 'scatter.html',\n",
       " 'Scikit-Learn Tutorial.ipynb',\n",
       " 'Searches',\n",
       " 'SendTo',\n",
       " 'Sentiment Analysis Using NLTK.ipynb',\n",
       " 'SqliteTestDb.db',\n",
       " 'SqlViewerHistory.props',\n",
       " 'stacked_area.png',\n",
       " 'Start Menu',\n",
       " 'temp-plot.html',\n",
       " 'Templates',\n",
       " 'test.txt',\n",
       " 'Textmining and NLP.ipynb',\n",
       " 'The Ultimate Data Science and Machine learning  Python in 2019.ipynb',\n",
       " 'The Ultimate Data Science and Machine Learning( Web Scaping).ipynb',\n",
       " 'TIMESERIES DS and ML with Python 2019.ipynb',\n",
       " 'Titanic project.ipynb',\n",
       " 'Untitled Folder',\n",
       " 'Untitled Folder 1',\n",
       " 'Untitled.ipynb',\n",
       " 'untitled.txt',\n",
       " 'Untitled1.ipynb',\n",
       " 'untitled1.txt',\n",
       " 'Untitled10.ipynb',\n",
       " 'Untitled11.ipynb',\n",
       " 'Untitled12.ipynb',\n",
       " 'Untitled13.ipynb',\n",
       " 'Untitled14.ipynb',\n",
       " 'Untitled15.ipynb',\n",
       " 'Untitled16.ipynb',\n",
       " 'Untitled17.ipynb',\n",
       " 'Untitled18.ipynb',\n",
       " 'Untitled2.ipynb',\n",
       " 'untitled2.txt',\n",
       " 'Untitled3.ipynb',\n",
       " 'untitled3.txt',\n",
       " 'Untitled4.ipynb',\n",
       " 'Untitled5.ipynb',\n",
       " 'Untitled6.ipynb',\n",
       " 'Untitled7.ipynb',\n",
       " 'Untitled8.ipynb',\n",
       " 'Untitled9.ipynb',\n",
       " 'Videos',\n",
       " 'wekafiles',\n",
       " 'whoops.txt',\n",
       " 'whoops1.txt',\n",
       " 'whoops3.txt',\n",
       " 'Zero G Registry',\n",
       " '__t.tmp']"
      ]
     },
     "execution_count": 4,
     "metadata": {},
     "output_type": "execute_result"
    }
   ],
   "source": [
    "os.listdir()"
   ]
  }
 ],
 "metadata": {
  "kernelspec": {
   "display_name": "Python 3",
   "language": "python",
   "name": "python3"
  },
  "language_info": {
   "codemirror_mode": {
    "name": "ipython",
    "version": 3
   },
   "file_extension": ".py",
   "mimetype": "text/x-python",
   "name": "python",
   "nbconvert_exporter": "python",
   "pygments_lexer": "ipython3",
   "version": "3.7.3"
  }
 },
 "nbformat": 4,
 "nbformat_minor": 2
}
