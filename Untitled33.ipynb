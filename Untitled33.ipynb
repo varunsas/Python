{
 "cells": [
  {
   "cell_type": "code",
   "execution_count": 3,
   "metadata": {},
   "outputs": [
    {
     "name": "stdout",
     "output_type": "stream",
     "text": [
      "Collecting keras\n",
      "  Downloading https://files.pythonhosted.org/packages/ad/fd/6bfe87920d7f4fd475acd28500a42482b6b84479832bdc0fe9e589a60ceb/Keras-2.3.1-py2.py3-none-any.whl (377kB)\n",
      "Requirement already satisfied, skipping upgrade: keras-preprocessing>=1.0.5 in e:\\anaconda\\lib\\site-packages (from keras) (1.1.0)\n",
      "Requirement already satisfied, skipping upgrade: keras-applications>=1.0.6 in e:\\anaconda\\lib\\site-packages (from keras) (1.0.8)\n",
      "Requirement already satisfied, skipping upgrade: pyyaml in e:\\anaconda\\lib\\site-packages (from keras) (5.1.2)\n",
      "Requirement already satisfied, skipping upgrade: numpy>=1.9.1 in e:\\anaconda\\lib\\site-packages (from keras) (1.16.4)\n",
      "Requirement already satisfied, skipping upgrade: scipy>=0.14 in e:\\anaconda\\lib\\site-packages (from keras) (1.3.1)\n",
      "Requirement already satisfied, skipping upgrade: six>=1.9.0 in e:\\anaconda\\lib\\site-packages (from keras) (1.12.0)\n",
      "Requirement already satisfied, skipping upgrade: h5py in e:\\anaconda\\lib\\site-packages (from keras) (2.9.0)\n",
      "Installing collected packages: keras\n",
      "Successfully installed keras-2.3.1\n"
     ]
    }
   ],
   "source": [
    "!pip install --upgrade keras"
   ]
  },
  {
   "cell_type": "code",
   "execution_count": null,
   "metadata": {},
   "outputs": [],
   "source": []
  }
 ],
 "metadata": {
  "kernelspec": {
   "display_name": "Python 3",
   "language": "python",
   "name": "python3"
  },
  "language_info": {
   "codemirror_mode": {
    "name": "ipython",
    "version": 3
   },
   "file_extension": ".py",
   "mimetype": "text/x-python",
   "name": "python",
   "nbconvert_exporter": "python",
   "pygments_lexer": "ipython3",
   "version": "3.7.3"
  }
 },
 "nbformat": 4,
 "nbformat_minor": 2
}
