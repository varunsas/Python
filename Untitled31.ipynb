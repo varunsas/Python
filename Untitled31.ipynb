{
 "cells": [
  {
   "cell_type": "code",
   "execution_count": 4,
   "metadata": {},
   "outputs": [
    {
     "name": "stdout",
     "output_type": "stream",
     "text": [
      "Requirement already satisfied: pymongo in e:\\anaconda\\lib\\site-packages (3.10.1)\n",
      "Note: you may need to restart the kernel to use updated packages.\n"
     ]
    }
   ],
   "source": [
    "pip install pymongo"
   ]
  },
  {
   "cell_type": "code",
   "execution_count": 5,
   "metadata": {},
   "outputs": [
    {
     "ename": "NameError",
     "evalue": "name 'Collection' is not defined",
     "output_type": "error",
     "traceback": [
      "\u001b[1;31m---------------------------------------------------------------------------\u001b[0m",
      "\u001b[1;31mNameError\u001b[0m                                 Traceback (most recent call last)",
      "\u001b[1;32m<ipython-input-5-8caa9bfbb824>\u001b[0m in \u001b[0;36m<module>\u001b[1;34m\u001b[0m\n\u001b[0;32m      5\u001b[0m \u001b[1;34mu'test'\u001b[0m\u001b[1;33m\u001b[0m\u001b[1;33m\u001b[0m\u001b[0m\n\u001b[0;32m      6\u001b[0m \u001b[0mdb\u001b[0m\u001b[1;33m.\u001b[0m\u001b[0mmy_collection\u001b[0m\u001b[1;33m\u001b[0m\u001b[1;33m\u001b[0m\u001b[0m\n\u001b[1;32m----> 7\u001b[1;33m \u001b[0mCollection\u001b[0m\u001b[1;33m(\u001b[0m\u001b[0mDatabase\u001b[0m\u001b[1;33m(\u001b[0m\u001b[0mMongoClient\u001b[0m\u001b[1;33m(\u001b[0m\u001b[1;34m'localhost'\u001b[0m\u001b[1;33m,\u001b[0m \u001b[1;36m27017\u001b[0m\u001b[1;33m)\u001b[0m\u001b[1;33m,\u001b[0m \u001b[1;34mu'test'\u001b[0m\u001b[1;33m)\u001b[0m\u001b[1;33m,\u001b[0m \u001b[1;34mu'my_collection'\u001b[0m\u001b[1;33m)\u001b[0m\u001b[1;33m\u001b[0m\u001b[1;33m\u001b[0m\u001b[0m\n\u001b[0m\u001b[0;32m      8\u001b[0m \u001b[0mdb\u001b[0m\u001b[1;33m.\u001b[0m\u001b[0mmy_collection\u001b[0m\u001b[1;33m.\u001b[0m\u001b[0minsert_one\u001b[0m\u001b[1;33m(\u001b[0m\u001b[1;33m{\u001b[0m\u001b[1;34m\"x\"\u001b[0m\u001b[1;33m:\u001b[0m \u001b[1;36m10\u001b[0m\u001b[1;33m}\u001b[0m\u001b[1;33m)\u001b[0m\u001b[1;33m.\u001b[0m\u001b[0minserted_id\u001b[0m\u001b[1;33m\u001b[0m\u001b[1;33m\u001b[0m\u001b[0m\n\u001b[0;32m      9\u001b[0m \u001b[0mObjectId\u001b[0m\u001b[1;33m(\u001b[0m\u001b[1;34m'4aba15ebe23f6b53b0000000'\u001b[0m\u001b[1;33m)\u001b[0m\u001b[1;33m\u001b[0m\u001b[1;33m\u001b[0m\u001b[0m\n",
      "\u001b[1;31mNameError\u001b[0m: name 'Collection' is not defined"
     ]
    }
   ],
   "source": [
    "\n",
    ">>> import pymongo\n",
    ">>> client = pymongo.MongoClient(\"localhost\", 27017)\n",
    ">>> db = client.test\n",
    ">>> db.name\n",
    "u'test'\n",
    ">>> db.my_collection\n",
    "Collection(Database(MongoClient('localhost', 27017), u'test'), u'my_collection')\n",
    ">>> db.my_collection.insert_one({\"x\": 10}).inserted_id\n",
    "ObjectId('4aba15ebe23f6b53b0000000')\n",
    ">>> db.my_collection.insert_one({\"x\": 8}).inserted_id\n",
    "ObjectId('4aba160ee23f6b543e000000')\n",
    ">>> db.my_collection.insert_one({\"x\": 11}).inserted_id\n",
    "ObjectId('4aba160ee23f6b543e000002')\n",
    ">>> db.my_collection.find_one()\n",
    "{u'x': 10, u'_id': ObjectId('4aba15ebe23f6b53b0000000')}\n",
    ">>> for item in db.my_collection.find():\n",
    "...     print(item[\"x\"])\n",
    "...\n",
    "10\n",
    "8\n",
    "11\n",
    ">>> db.my_collection.create_index(\"x\")\n",
    "u'x_1'\n",
    ">>> for item in db.my_collection.find().sort(\"x\", pymongo.ASCENDING):\n",
    "...     print(item[\"x\"])\n",
    "...\n",
    "8\n",
    "10\n",
    "11\n",
    ">>> [item[\"x\"] for item in db.my_collection.find().limit(2).skip(1)]\n",
    "[8, 11]"
   ]
  },
  {
   "cell_type": "code",
   "execution_count": null,
   "metadata": {},
   "outputs": [],
   "source": []
  }
 ],
 "metadata": {
  "kernelspec": {
   "display_name": "Python 3",
   "language": "python",
   "name": "python3"
  },
  "language_info": {
   "codemirror_mode": {
    "name": "ipython",
    "version": 3
   },
   "file_extension": ".py",
   "mimetype": "text/x-python",
   "name": "python",
   "nbconvert_exporter": "python",
   "pygments_lexer": "ipython3",
   "version": "3.7.3"
  }
 },
 "nbformat": 4,
 "nbformat_minor": 2
}
